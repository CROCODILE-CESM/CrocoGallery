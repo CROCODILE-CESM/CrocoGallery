{
 "cells": [
  {
   "cell_type": "markdown",
   "id": "d0c31864",
   "metadata": {},
   "source": [
    "# Add Boundary Tides to the Run\n",
    "\n",
    "MOM6 can take tides data as a boundary condition in the regional domain. Many tides parameters are impacted by this and can be seen in case.process_forcings.\n",
    "\n",
    "In our workflow, we take data from the TPXO tidal model and regrid onto our grid.\n",
    "\n",
    "TPXO model data can be requested off of the TPXO website or is available on derecho.\n",
    "\n",
    "The file paths of the tidal files can be passed into configure forcings as shown below with all wanted tidal constituents, like M2.\n",
    "There are three parameters in configure forcings and many parameters adjusted in MOM6. \n"
   ]
  },
  {
   "cell_type": "code",
   "execution_count": null,
   "id": "021a9b13",
   "metadata": {},
   "outputs": [],
   "source": [
    "case.configure_forcings(\n",
    "    date_range = [\"2020-01-01 00:00:00\", \"2020-01-09 00:00:00\"],\n",
    "    tidal_constituents = ['M2'],\n",
    "    tpxo_elevation_filepath = \"<TPXO_H>\",\n",
    "    tpxo_velocity_filepath = \"<TPXO_U>\"\n",
    ")"
   ]
  },
  {
   "cell_type": "markdown",
   "id": "f74d0ff1",
   "metadata": {},
   "source": [
    "```{note}\n",
    "If you're working on **Derecho** or **Casper**, you can use the following paths:\n",
    "\n",
    "```{code-block} python\n",
    "TPXO Elevation: \"/glade/campaign/cgd/oce/projects/CROCODILE/workshops/2025/CrocoDash/data/tpxo/h_tpxo9.v1.nc\"\n",
    "TPXO Velocity: \"/glade/campaign/cgd/oce/projects/CROCODILE/workshops/2025/CrocoDash/data/tpxo/u_tpxo9.v1.nc\"\n",
    "```\n",
    "```"
   ]
  }
 ],
 "metadata": {
  "jupyter": {
   "execute": {
    "enabled": false
   }
  },
  "kernelspec": {
   "display_name": "CrocoDash",
   "language": "python",
   "name": "python3"
  },
  "language_info": {
   "name": "python",
   "version": "3.12.10"
  }
 },
 "nbformat": 4,
 "nbformat_minor": 5
}
