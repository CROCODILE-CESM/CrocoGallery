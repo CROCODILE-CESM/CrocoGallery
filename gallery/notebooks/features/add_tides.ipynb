{
 "cells": [
  {
   "cell_type": "markdown",
   "id": "d0c31864",
   "metadata": {},
   "source": [
    "# Add Tides\n",
    "\n",
    "Tides can be added into a CrocoDash case, using functions from regional_mom6 and called from configure_forcings. There are three parameters in configure forcings and many parameters adjusted in MOM6. \n"
   ]
  },
  {
   "cell_type": "code",
   "execution_count": null,
   "id": "021a9b13",
   "metadata": {},
   "outputs": [],
   "source": [
    "case.configure_forcings(\n",
    "    date_range = [\"2020-01-01 00:00:00\", \"2020-01-09 00:00:00\"],\n",
    "    tidal_constituents = ['M2'],\n",
    "    tpxo_elevation_filepath = \"<TPXO_H>\",\n",
    "    tpxo_velocity_filepath = \"<TPXO_U>\"\n",
    ")"
   ]
  }
 ],
 "metadata": {
  "jupyter": {
   "execute": {
    "enabled": false
   }
  },
  "kernelspec": {
   "display_name": "CrocoDash",
   "language": "python",
   "name": "python3"
  },
  "language_info": {
   "name": "python",
   "version": "3.12.10"
  }
 },
 "nbformat": 4,
 "nbformat_minor": 5
}
