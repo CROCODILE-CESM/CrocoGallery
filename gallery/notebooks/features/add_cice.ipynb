{
 "cells": [
  {
   "cell_type": "markdown",
   "id": "4e574098",
   "metadata": {},
   "source": [
    "# Run a coupled sea ice (CICE) & ocean (MOM6) model\n",
    "Change the compset to include CICE!"
   ]
  },
  {
   "cell_type": "code",
   "execution_count": null,
   "id": "339455ec",
   "metadata": {},
   "outputs": [],
   "source": [
    "# For example...\n",
    "from CrocoDash.case import Case\n",
    "case = Case(\n",
    "    cesmroot = cesmroot,\n",
    "    caseroot = caseroot,\n",
    "    inputdir = inputdir,\n",
    "    ocn_grid = grid,\n",
    "    ocn_vgrid = vgrid,\n",
    "    ocn_topo = topo,\n",
    "    project = 'NCGD0011',\n",
    "    override = True,\n",
    "    machine = \"derecho\",\n",
    "    compset = \"1850_DATM%JRA_SLND_CICE_MOM6_SROF_SGLC_SWAV\"\n",
    ")"
   ]
  },
  {
   "cell_type": "markdown",
   "id": "d4ed4258",
   "metadata": {
    "vscode": {
     "languageId": "plaintext"
    }
   },
   "source": [
    "### Optional: After running once, use restart files as initial condition for your run (for realiastic initial conditions)"
   ]
  },
  {
   "cell_type": "markdown",
   "id": "80c47ef0",
   "metadata": {},
   "source": [
    "In case you want to start the model with a restart file instead of using the generated initial condition, follow the below steps. Note that you have to have finished a run beforehand for the restart files to appear.\n",
    "1. Locate your restart file - they are usually in your previous case's `/archive/rest/<year>` folder with a `.r` infix, e.g., `cice.test.cice.r.1994-01-01-00000.nc`.\n",
    "   If you do not know your `/archive` folder location, run `./xmlquery DOUT_S_ROOT` in your (previous) case folder, which will return a path similar to `DOUT_S_ROOT: <PATH TO ARCHIVE>`.\n",
    "\n",
    "2. Use the `cp` command to copy the file to your current case `/run` directory, e.g., `cp cice.test.cice.r.1994-01-01-00000.nc <your_run_dir>`.\n",
    "3. Open `user_nl_cice` in your case directory again and change the `ice_ic` variable from `\"UNSET\"` to your file name, e.g., `ice_ic=cice.test.cice.r.1994-01-01-00000.nc`\n",
    "\n",
    "Your file will now be used automatically as the ice initial condition for your next run. Note that `.h` and `.h1` files (i.e. history files) currently **cannot be used** as initial conditions for CICE."
   ]
  }
 ],
 "metadata": {
  "kernelspec": {
   "display_name": "CrocoDash",
   "language": "python",
   "name": "python3"
  },
  "language_info": {
   "codemirror_mode": {
    "name": "ipython",
    "version": 3
   },
   "file_extension": ".py",
   "mimetype": "text/x-python",
   "name": "python",
   "nbconvert_exporter": "python",
   "pygments_lexer": "ipython3",
   "version": "3.11.13"
  }
 },
 "nbformat": 4,
 "nbformat_minor": 5
}
