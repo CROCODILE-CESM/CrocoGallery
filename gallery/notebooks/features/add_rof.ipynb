{
 "cells": [
  {
   "cell_type": "markdown",
   "id": "e2475af0",
   "metadata": {},
   "source": [
    "# Add data runoff from GLOFAS or JRA to the Run"
   ]
  },
  {
   "cell_type": "markdown",
   "id": "4ba48091",
   "metadata": {},
   "source": [
    "1. GLOFAS & JRA ships as part of the CESM\n",
    "2. Add DROF%GLOFAS or DROF%JRA to the compset\n",
    "3. Pass in the ESMF Mesh File for the dataset to configure_forcings to get the mapping from the GLOFAS data to your domain (will take time and resources)\n",
    "4. See below for an example"
   ]
  },
  {
   "cell_type": "code",
   "execution_count": null,
   "id": "c1c50875",
   "metadata": {},
   "outputs": [],
   "source": [
    "from CrocoDash.case import Case\n",
    "\n",
    "case = Case(\n",
    "    cesmroot = cesmroot,\n",
    "    caseroot = caseroot,\n",
    "    inputdir = inputdir,\n",
    "    ocn_grid = grid,\n",
    "    ocn_vgrid = vgrid,\n",
    "    ocn_topo = topo,\n",
    "    project = 'NCGD0011',\n",
    "    override = True,\n",
    "    machine = \"derecho\",\n",
    "    compset = \"CR_JRA_GLOFAS\" # If you'd like JRA, use the compset longname!\n",
    ")"
   ]
  },
  {
   "cell_type": "code",
   "execution_count": null,
   "id": "5164982a",
   "metadata": {},
   "outputs": [],
   "source": [
    "case.configure_forcings(\n",
    "    date_range = [\"2000-01-01 00:00:00\", \"2000-02-01 00:00:00\"],\n",
    "    runoff_esmf_mesh_filepath = \"<ESMF_MESH_PATH>\" # For runoff mapping, the esmf mesh file of the input dataset\n",
    ")\n"
   ]
  },
  {
   "cell_type": "markdown",
   "id": "a89bf467",
   "metadata": {},
   "source": [
    "```{note}\n",
    "If you're working on **Derecho** or **Casper**, you can use the following paths:\n",
    "\n",
    "```{code-block} python\n",
    "GLOFAS ESMF Mesh: \"/glade/campaign/cesm/cesmdata/cseg/inputdata/ocn/mom/croc/rof/glofas/dis24/GLOFAS_esmf_mesh_v4.nc\"\n",
    "JRA ESMF Mesh: \"/glade/campaign/cesm/cesmdata/inputdata/lnd/dlnd7/JRA55/JRA.v1.4.runoff.1958_ESMFmesh_cdf5_20201020.nc\"\n",
    "```\n",
    "```"
   ]
  }
 ],
 "metadata": {
  "language_info": {
   "name": "python"
  }
 },
 "nbformat": 4,
 "nbformat_minor": 5
}
