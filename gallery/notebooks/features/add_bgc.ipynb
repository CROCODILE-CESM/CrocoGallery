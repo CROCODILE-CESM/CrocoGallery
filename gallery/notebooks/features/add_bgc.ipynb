{
 "cells": [
  {
   "cell_type": "markdown",
   "id": "33bc0498",
   "metadata": {},
   "source": [
    "# Run a coupled biogeochemistry (MARBL) & ocean (MOM6) model"
   ]
  },
  {
   "cell_type": "markdown",
   "id": "4ae303d7",
   "metadata": {},
   "source": [
    "1. MARBL is part of the CESM\n",
    "2. Add MARBL to the compset\n",
    "3. Add relevant information to configure_forcingss\n",
    "4. See below for an example.\n",
    "5. Adding runoff to a BGC example and getting river nutrients requires an offline mapping. Add the GLOFAS runoff mesh as well as the river nutrients (which is on the GLOFAS grid)"
   ]
  },
  {
   "cell_type": "code",
   "execution_count": null,
   "id": "576e5224",
   "metadata": {},
   "outputs": [],
   "source": [
    "from CrocoDash.case import Case\n",
    "case = Case(\n",
    "    cesmroot = cesmroot,\n",
    "    caseroot = caseroot,\n",
    "    inputdir = inputdir,\n",
    "    ocn_grid = grid,\n",
    "    ocn_vgrid = vgrid,\n",
    "    ocn_topo = topo,\n",
    "    project = 'NCGD0011',\n",
    "    override = True,\n",
    "    machine = \"derecho\",\n",
    "    compset = \"1850_DATM%JRA_SLND_SICE_MOM6%MARBL-BIO_SROF_SGLC_SWAV\"\n",
    ")"
   ]
  },
  {
   "cell_type": "code",
   "execution_count": null,
   "id": "b74d2989",
   "metadata": {},
   "outputs": [],
   "source": [
    "case.configure_forcings(\n",
    "    date_range = [\"2000-01-01 00:00:00\", \"2000-02-01 00:00:00\"],\n",
    "    data_input_path = \"\",\n",
    "    product_name = \"CESM_OUTPUT\",\n",
    "    marbl_ic_filepath = \"\n",
    ")\n",
    "\n",
    "# For River Nutrients, add \n",
    "#    runoff_esmf_mesh_filepath = \"\",\n",
    "#    global_river_nutrients_filepath = \"\",\n",
    " \n"
   ]
  },
  {
   "cell_type": "code",
   "execution_count": null,
   "id": "1abf3742",
   "metadata": {},
   "outputs": [],
   "source": [
    "case.process_forcings()"
   ]
  }
 ],
 "metadata": {
  "language_info": {
   "name": "python"
  }
 },
 "nbformat": 4,
 "nbformat_minor": 5
}
