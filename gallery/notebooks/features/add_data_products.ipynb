{
 "cells": [
  {
   "cell_type": "markdown",
   "metadata": {},
   "source": [
    "# Use different data products w/ the CrocoDash Data Access Module\n",
    "\n",
    "This module can be used with case.configure_forcings to find different ways to access raw data from data sources. Just supply data product name and function name in the following manner:\n"
   ]
  },
  {
   "cell_type": "code",
   "execution_count": null,
   "metadata": {},
   "outputs": [],
   "source": [
    "case.configure_forcing(...other_arguments..., \n",
    "product_name = \"product_name\", \n",
    "function_name = \"function_name\")"
   ]
  },
  {
   "cell_type": "markdown",
   "metadata": {},
   "source": [
    "\n",
    "Available products and functions can be found in the [documentation](https://crocodile-cesm.github.io/CrocoDash/datasets.html) and in the `raw_data_access` helper functions shown below. A full list of available functions & products can be accessed in the same documentation. "
   ]
  },
  {
   "cell_type": "code",
   "execution_count": null,
   "metadata": {},
   "outputs": [],
   "source": [
    "from CrocoDash.raw_data_access import driver\n",
    "from CrocoDash.raw_data_access import config as tb"
   ]
  },
  {
   "cell_type": "code",
   "execution_count": 7,
   "metadata": {},
   "outputs": [
    {
     "data": {
      "text/plain": [
       "{'GLORYS': {'get_glorys_data_from_cds_api': <function CrocoDash.data_access.glorys.get_glorys_data_from_cds_api(dates, lat_min, lat_max, lon_min, lon_max, output_dir=None, output_file=None)>,\n",
       "  'get_glorys_data_from_rda': <function CrocoDash.data_access.glorys.get_glorys_data_from_rda(dates: list, lat_min, lat_max, lon_min, lon_max, output_dir=PosixPath('.'), output_file='raw_glorys.nc') -> xarray.core.dataset.Dataset>,\n",
       "  'get_glorys_data_script_for_cli': <function CrocoDash.data_access.glorys.get_glorys_data_script_for_cli(dates: tuple, lat_min, lat_max, lon_min, lon_max, output_dir, output_file) -> None>}}"
      ]
     },
     "execution_count": 7,
     "metadata": {},
     "output_type": "execute_result"
    }
   ],
   "source": [
    "pfr_obj = driver.ProductFunctionRegistry()\n",
    "pfr_obj.load_functions()\n",
    "pfr_obj.functions"
   ]
  },
  {
   "cell_type": "code",
   "execution_count": null,
   "metadata": {},
   "outputs": [
    {
     "data": {
      "text/plain": [
       "['GLORYS',\n",
       " 'GEBCO',\n",
       " 'TPXO',\n",
       " 'GLOFAS',\n",
       " 'CESM Inputdata Repo (Bathymetry)',\n",
       " 'CESM Inputdata Repo (Grids)']"
      ]
     },
     "execution_count": 11,
     "metadata": {},
     "output_type": "execute_result"
    }
   ],
   "source": [
    "tb.list_products()"
   ]
  },
  {
   "cell_type": "code",
   "execution_count": null,
   "metadata": {},
   "outputs": [
    {
     "data": {
      "text/plain": [
       "['get_glorys_data_from_cds_api',\n",
       " 'get_glorys_data_from_rda',\n",
       " 'get_glorys_data_script_for_cli']"
      ]
     },
     "execution_count": 13,
     "metadata": {},
     "output_type": "execute_result"
    }
   ],
   "source": [
    "tb.list_functions(\"GLORYS\")"
   ]
  },
  {
   "cell_type": "code",
   "execution_count": null,
   "metadata": {},
   "outputs": [
    {
     "data": {
      "text/plain": [
       "'PYTHON'"
      ]
     },
     "execution_count": 10,
     "metadata": {},
     "output_type": "execute_result"
    }
   ],
   "source": [
    "tb.type_of_function(\"GLORYS\",\"get_glorys_data_from_cds_api\")"
   ]
  },
  {
   "cell_type": "code",
   "execution_count": null,
   "metadata": {},
   "outputs": [],
   "source": [
    "case.configure_forcing(date_range = [\"2020-01-01 00:00:00\", \"2020-01-09 00:00:00\"], \n",
    "                       product_name = \"product_name\", \n",
    "                       function_name = \"function_name\")"
   ]
  },
  {
   "cell_type": "markdown",
   "metadata": {},
   "source": [
    "## Accessing non-forcing raw data\n",
    "Apart from accessing forcing products through case.configure_forcings(), we can access products like GEBCO, SEAWIFS, GLOFAS, etc.. through importing the raw data access module, like below."
   ]
  },
  {
   "cell_type": "code",
   "execution_count": null,
   "metadata": {},
   "outputs": [],
   "source": [
    "# Import the specific module (which can be found by looking at the API Documentation: https://crocodile-cesm.github.io/CrocoDash/api-docs/CrocoDash.raw_data_access.datasets.html)\n",
    "from CrocoDash.raw_data_access.datasets import glofas as gl\n",
    "\n",
    "# Then call the function\n",
    "gl.get_processed_global_glofas_script_for_cli(output_dir=tmp_path, output_file=\"glofas_processed_data.nc\")"
   ]
  }
 ],
 "metadata": {
  "kernelspec": {
   "display_name": "CrocoDash",
   "language": "python",
   "name": "python3"
  },
  "language_info": {
   "codemirror_mode": {
    "name": "ipython",
    "version": 3
   },
   "file_extension": ".py",
   "mimetype": "text/x-python",
   "name": "python",
   "nbconvert_exporter": "python",
   "pygments_lexer": "ipython3",
   "version": "3.12.10"
  }
 },
 "nbformat": 4,
 "nbformat_minor": 2
}
