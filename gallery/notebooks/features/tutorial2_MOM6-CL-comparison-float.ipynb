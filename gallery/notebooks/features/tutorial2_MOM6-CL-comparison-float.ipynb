{
 "cells": [
  {
   "cell_type": "markdown",
   "id": "0",
   "metadata": {},
   "source": [
    "# Model-Observation comparison: Tutorial 2 - comparing MOM6 to a single Argo float from CrocoLake\n",
    "\n",
    "The goal of this tutorial is to learn how to generate your own obs_seq.in files from CrocoLake and learn about another interactive widget: the interactive profile. We will select a specific float, interpolate our model output to the temperature and salinity values of that float, and comparing the interpolated model and the float's profiles.\n",
    "\n",
    "## Generating your own obs_seq.in files\n",
    "\n",
    "CrocoLake is a flexible parquet dataset that is fast and easy to access and filter. For this workshop, a copy of the CrocoLake version with physical variables is stored at `/glade/u/home/emilanese/work/DATA/2025-Crocodile-Workshop/CrocoLakePHY`:"
   ]
  },
  {
   "cell_type": "code",
   "execution_count": null,
   "id": "1df5474c-68ff-4c34-8372-760407818fcb",
   "metadata": {},
   "outputs": [],
   "source": [
    "crocolake_path = '/glade/u/home/emilanese/work/DATA/2025-Crocodile-Workshop/CrocoLakePHY'\n",
    "\n",
    "import os\n",
    "basename = \"$WORK/2025-Crocodile-Workshop/tutorial_2/myCL_obs_seq_\"\n",
    "basename = os.path.expandvars(basename)"
   ]
  },
  {
   "cell_type": "markdown",
   "id": "de3c166c-00cb-4002-9aa2-d7fb9b9135eb",
   "metadata": {},
   "source": [
    "In the following cell you have the code that I used to generate the observation files that we used in Tutorial 1. Have a look at the code, in particular at how you to select variables and define filters. Once you're ready, create a new cell below, copy-paste the code, and add a filter so that you only store the data recorded by the Argo float with identifier `1900256`. Also change the file name to add the float number to it. Note: in CrocoLake, the platform identifier is stored as a string in the variable `'PLATFORM_NUMBER'`."
   ]
  },
  {
   "cell_type": "markdown",
   "id": "4bf48e0a-e1c4-481d-9857-3ee0e29c087a",
   "metadata": {},
   "source": [
    "```python\n",
    "import datetime\n",
    "from convert_crocolake_obs import ObsSequence\n",
    "\n",
    "# define horizontal region\n",
    "LAT0 = 5\n",
    "LAT1 = 60\n",
    "LON0 = -100\n",
    "LON1 = -30\n",
    "\n",
    "# define variables to import from CrocoLake\n",
    "selected_variables = [\n",
    "    \"DB_NAME\",  # ARGO, GLODAP, SprayGliders, OleanderXBT, Saildrones\n",
    "    \"JULD\", # this contains timestamp\n",
    "    \"LATITUDE\",\n",
    "    \"LONGITUDE\",\n",
    "    \"PRES\",\n",
    "    \"TEMP\",\n",
    "    \"PRES_QC\",\n",
    "    \"TEMP_QC\",\n",
    "    \"PRES_ERROR\",\n",
    "    \"TEMP_ERROR\",\n",
    "    \"PSAL\",\n",
    "    \"PSAL_QC\",\n",
    "    \"PSAL_ERROR\"\n",
    "]\n",
    "\n",
    "# month and year are constant in out case\n",
    "year0 = 2010\n",
    "month0 = 5\n",
    "\n",
    "# we loop to generate one file per day\n",
    "for j in range(10):\n",
    "\n",
    "    # set date range\n",
    "    day0 = 1+j\n",
    "    day1 = day0+1\n",
    "    date0 = datetime.datetime(year0, month0, day0, 0, 0, 0)\n",
    "    date1 = datetime.datetime(year0, month0, day1, 0, 0, 0)\n",
    "    print(f\"Converting obs between {date0} and {date1}\")\n",
    "\n",
    "    # this defines AND filters, i.e. we want to load each observation that has latitude within the given range AND longitude within the given range, etc.\n",
    "    # to exclude NaNs, impose a range to a variable\n",
    "    and_filters = (\n",
    "        (\"LATITUDE\",'>',LAT0),  (\"LATITUDE\",'<',LAT1),\n",
    "        (\"LONGITUDE\",'>',LON0), (\"LONGITUDE\",'<',LON1),\n",
    "        (\"PRES\",'>',-1e30), (\"PRES\",'<',1e30),\n",
    "        (\"JULD\",\">\",date0), (\"JULD\",\"<\",date1),\n",
    "    )\n",
    "\n",
    "    # this adds OR conditions to the and_filters, i.e. we want to load all observations that statisfy the AND conditions above, AND that have finite salinity OR temperature values\n",
    "    db_filters = [\n",
    "        list(and_filters) + [(\"PSAL\", \">\", -1e30), (\"PSAL\", \"<\", 1e30)],\n",
    "        list(and_filters) + [(\"TEMP\", \">\", -1e30), (\"TEMP\", \"<\", 1e30)],\n",
    "    ]\n",
    "\n",
    "    # generate output filename\n",
    "    obs_seq_out = basename + f\".{year0}{month0:02d}{day0:02d}.out\"\n",
    "\n",
    "    # generate obs_seq.in file\n",
    "    obsSeq = ObsSequence(\n",
    "        crocolake_path,\n",
    "        selected_variables,\n",
    "        db_filters,\n",
    "        obs_seq_out=obs_seq_out,\n",
    "        loose=True\n",
    "    )\n",
    "    obsSeq.write_obs_seq()\n",
    "```"
   ]
  },
  {
   "cell_type": "markdown",
   "id": "78d2b5dc-7b6d-4aaa-a80d-bed49bf55816",
   "metadata": {},
   "source": [
    "Uncomment the following cell for the solution:"
   ]
  },
  {
   "cell_type": "code",
   "execution_count": null,
   "id": "1038af44-be83-4a6d-a5ce-e487ba81e3e6",
   "metadata": {},
   "outputs": [],
   "source": [
    "# %load ./solutions/tutorial_2_sol1.py"
   ]
  },
  {
   "cell_type": "markdown",
   "id": "ca83c458-db55-466f-be53-fe4e5a652c1d",
   "metadata": {},
   "source": [
    "The previous cell should have generate one obs_seq file, as the float that we selected recorded data only on one day between 2010-05-01 and 2010-05-10. We will use this generate file in the model-obs comparison in the following.\n",
    "\n",
    "## The configuration file\n",
    "\n",
    "The configuration file `configs/config_tutorial_2.yaml` has already all the paths set. Make sure to adapt the `perfect_model_obs_dir` to match the system you're running this notebook on (Casper or Derecho), and that the output is being saved where you wish.\n",
    "\n",
    "## Running the workflow\n",
    "\n",
    "Running the workflow to interpolate the model is identical as in Tutorial 1 (remember to adapt the config file name!): the obs_seq files that we generated only contain the float's measurements, so only those observtions will be used by DART's `perfect_model_obs` to perform the interpolation.\n",
    "\n",
    "You can try and write the next cell yourself, or you can uncomment the first line to load the solution and then execute it."
   ]
  },
  {
   "cell_type": "code",
   "execution_count": null,
   "id": "5e3e260e-2e12-428f-9d61-7e714b0df082",
   "metadata": {},
   "outputs": [],
   "source": [
    "# %load ./solutions/tutorial_2_sol2.py"
   ]
  },
  {
   "cell_type": "markdown",
   "id": "5d779b7e-5283-4f73-b3b9-3ed55f151ef0",
   "metadata": {},
   "source": [
    "## Displaying the interactive map\n",
    "\n",
    "We can load and explore the generated results using pandas as in Tutorial 1:"
   ]
  },
  {
   "cell_type": "code",
   "execution_count": null,
   "id": "5fec2851-e4a6-4906-8c21-30e32ab8b448",
   "metadata": {},
   "outputs": [],
   "source": [
    "import pandas as pd\n",
    "df = pd.read_parquet(workflow_float.config['parquet_folder']) # config contains the information from the config file\n",
    "# df.head() # uncomment to display first 5 rows in the dataframe"
   ]
  },
  {
   "cell_type": "markdown",
   "id": "fb82d09d-4041-4775-afda-dcc3d4f4b00a",
   "metadata": {},
   "source": [
    "Now load the interactive map as in Tutorial 1. What do you see? (Again, you can try and code it yourself or load the solution and run it.)"
   ]
  },
  {
   "cell_type": "code",
   "execution_count": null,
   "id": "f87eeb85-c24a-41d4-9562-c0c7fc8c7a44",
   "metadata": {},
   "outputs": [],
   "source": [
    "# %load ./solutions/tutorial_2_sol3.py"
   ]
  },
  {
   "cell_type": "markdown",
   "id": "c694b84c-949e-4030-aad6-a98734ec9f95",
   "metadata": {},
   "source": [
    "The previous cell should show a dot in the middle of the ocean, which is not very informative. We can use MapConfig to pass extra arguments to InteractiveWidgetMap, among which the extent of the map area to plot. Play with the `map_extent` values in the cell below and re-execute the cell until you're happy with your plotted region."
   ]
  },
  {
   "cell_type": "code",
   "execution_count": null,
   "id": "1840cbd6-fd38-44ce-ade4-337cdcf17f4a",
   "metadata": {},
   "outputs": [],
   "source": [
    "from crococamp.viz import MapConfig\n",
    "\n",
    "map_config = MapConfig(\n",
    "    map_extent=(-90,-20,0,40) #(lon_min, lon_max, lat_min, lat_max)\n",
    ")\n",
    "\n",
    "# Create an interactive map widget to visualize model-observation comparisons\n",
    "# The widget provides controls for selecting variables, observation types, and time ranges\n",
    "widget = InteractiveWidgetMap(df, config=map_config)\n",
    "widget.setup()"
   ]
  },
  {
   "cell_type": "markdown",
   "id": "cca9ce87-3c56-4e19-ac78-42ff4e838964",
   "metadata": {},
   "source": [
    "### Interactive profile\n",
    "\n",
    "Finally, we can load the interactive profile widget to explore how our model performed compared to the specific float measurements we selected:"
   ]
  },
  {
   "cell_type": "code",
   "execution_count": null,
   "id": "92214808-86f4-41ac-837a-973ebc03ce77",
   "metadata": {},
   "outputs": [],
   "source": [
    "from crococamp.viz import InteractiveWidgetProfile\n",
    "# Create an interactive profile widget to analyze vertical profiles\n",
    "# This is ideal for analyzing single float/CTD profiles vs model data\n",
    "widget = InteractiveWidgetProfile(df)\n",
    "widget.setup()"
   ]
  },
  {
   "cell_type": "markdown",
   "id": "64428fa9-37d4-4b76-88a4-95abd9ae974c",
   "metadata": {},
   "source": [
    "You can also pass some settings through the `config` argument of the InteractiveWidgetProfile class:"
   ]
  },
  {
   "cell_type": "code",
   "execution_count": null,
   "id": "3",
   "metadata": {},
   "outputs": [],
   "source": [
    "from crococamp.viz import ProfileConfig\n",
    "\n",
    "# Customize the profile widget appearance and behavior\n",
    "profile_config = ProfileConfig(\n",
    "    figure_size=(7, 7),\n",
    "    marker_size=5,\n",
    "    marker_alpha=0.6,\n",
    "    invert_yaxis=False,  # Don't invert for this example\n",
    "    grid=True\n",
    ")\n",
    "\n",
    "# Create widget with custom configuration\n",
    "widget = InteractiveWidgetProfile(df, x='obs', y='perfect_model', config=profile_config)\n",
    "widget.setup()"
   ]
  },
  {
   "cell_type": "code",
   "execution_count": null,
   "id": "95fabde1-df30-4542-9f4f-2fb2223ca6d1",
   "metadata": {},
   "outputs": [],
   "source": []
  }
 ],
 "metadata": {
  "kernelspec": {
   "display_name": "Python [conda env:crococamp-2025]",
   "language": "python",
   "name": "conda-env-crococamp-2025-py"
  },
  "language_info": {
   "codemirror_mode": {
    "name": "ipython",
    "version": 3
   },
   "file_extension": ".py",
   "mimetype": "text/x-python",
   "name": "python",
   "nbconvert_exporter": "python",
   "pygments_lexer": "ipython3",
   "version": "3.12.0"
  }
 },
 "nbformat": 4,
 "nbformat_minor": 5
}
