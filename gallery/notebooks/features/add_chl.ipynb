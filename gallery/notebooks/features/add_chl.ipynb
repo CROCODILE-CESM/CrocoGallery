{
 "cells": [
  {
   "cell_type": "markdown",
   "id": "d0c31864",
   "metadata": {},
   "source": [
    "# Add Chlorophyll Files to the Run\n",
    "\n",
    "MOM6 can take chlorophyll data as a file in the regional domain. It impacts shortwave penetration. MOM6 parameters that are impacted by it CHL_FROM_FILE, CHL_FILE, VAR_PEN_SW, and PEN_SW_NBANDS.\n",
    "In our workflow, we take raw data from SeaWIFS, process it globally, and subset to our regional domain. \n",
    "\n",
    "Chlorophyll can be added into a CrocoDash case, using functions from mom6_bathy and called from configure_forcings. There is one parameter in configure forcings and three parameters in MOM6\n",
    "\n",
    "```{caution}\n",
    "This method does not do a great job of resolving chlorophyll in estuaries and similar features. If possible, the generated chlorophyll file should be replaced with a better product (which can be done by replacing the file in `CHL_FILE`).\n",
    "```\n",
    "\n",
    "## CrocoDash Parameters \n",
    "In case.configure_forcings(), the argument chl_processed_filepath takes in a processed global chlorophyll file. The global processed chlorophyll file is hosted on the CESM inputdata svn server under ocn/mom/croc/chl/data and can be accessed through the CrocoDash raw_data_access module like below:\n",
    "\n"
   ]
  },
  {
   "cell_type": "code",
   "execution_count": null,
   "id": "6725b0d6",
   "metadata": {},
   "outputs": [],
   "source": [
    "from CrocoDash.raw_data_access.datasets import seawifs as sw\n",
    "sw.get_processed_global_seawifs_script_for_cli(\n",
    "    output_dir=\"<insert_dir>\",\n",
    "    output_file=\"get_seawifs_data.sh\"\n",
    ")"
   ]
  },
  {
   "cell_type": "markdown",
   "id": "1d47c5b6",
   "metadata": {},
   "source": [
    "The file path of the global file (after running the script from the code block) can be passed into configure forcings as shown in this demo\n"
   ]
  },
  {
   "cell_type": "code",
   "execution_count": null,
   "id": "021a9b13",
   "metadata": {},
   "outputs": [],
   "source": [
    "case.configure_forcings(\n",
    "    date_range = [\"2020-01-01 00:00:00\", \"2020-01-09 00:00:00\"],\n",
    "    chl_file = \"<CHL_PROCESSED>\",\n",
    ")"
   ]
  },
  {
   "cell_type": "markdown",
   "id": "7cd3c6f9",
   "metadata": {},
   "source": [
    "```{note}\n",
    "If you're **Derecho**, you don't have to download the global data! Ignore the first code cell, and:\n",
    "Just pass in the chl file: /glade/campaign/cesm/cesmdata/cseg/inputdata/ocn/mom/croc/chl/data/SeaWIFS.L3m.MC.CHL.chlor_a.0.25deg.nc\n",
    "```"
   ]
  }
 ],
 "metadata": {
  "jupyter": {
   "execute": {
    "enabled": false
   }
  },
  "kernelspec": {
   "display_name": "CrocoDash",
   "language": "python",
   "name": "python3"
  },
  "language_info": {
   "codemirror_mode": {
    "name": "ipython",
    "version": 3
   },
   "file_extension": ".py",
   "mimetype": "text/x-python",
   "name": "python",
   "nbconvert_exporter": "python",
   "pygments_lexer": "ipython3",
   "version": "3.12.11"
  }
 },
 "nbformat": 4,
 "nbformat_minor": 5
}
