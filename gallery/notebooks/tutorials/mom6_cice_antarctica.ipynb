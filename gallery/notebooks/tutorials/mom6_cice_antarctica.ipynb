{
 "cells": [
  {
   "cell_type": "markdown",
   "metadata": {},
   "source": [
    "# Set up a rectangular regional CESM-MOM6-CICE coupled run\n",
    "\n",
    "We'll go through these steps:\n",
    "\n",
    "1. Generate a regional MOM6 domain.\n",
    "2. Create the CESM case.\n",
    "3. Prepare ocean forcing data.\n",
    "4. Generate the regional CICE grid.\n",
    "5. Build and run the case.\n",
    "\n",
    "Remember to swap your environment to CrocoDash first!"
   ]
  },
  {
   "cell_type": "markdown",
   "metadata": {},
   "source": [
    "# Section 1: Generate a regional MOM6 domain\n",
    "\n",
    "We begin by defining a regional MOM6 domain using CrocoDash. To do so, we first generate a horizontal grid. We then generate the topography by remapping an existing bathymetric dataset to our horizontal grid. Finally, we define a vertical grid."
   ]
  },
  {
   "cell_type": "markdown",
   "metadata": {},
   "source": [
    "## Step 1.1: Horizontal Grid\n",
    "\n",
    "The horizontal grid described below is from the Antarctic domain (https://maps.app.goo.gl/WLLzioPgahQpLMSK8 - near the Mendel station) at 60°W, 64°S."
   ]
  },
  {
   "cell_type": "code",
   "execution_count": 19,
   "metadata": {},
   "outputs": [],
   "source": [
    "from CrocoDash.grid import Grid\n",
    "\n",
    "grid = Grid(\n",
    "  resolution = 0.01,\n",
    "  xstart = 300.0,\n",
    "  lenx = 4.0,\n",
    "  ystart = -64.0,\n",
    "  leny = 4.0,\n",
    "  name = \"antarctica2\",\n",
    ")"
   ]
  },
  {
   "cell_type": "markdown",
   "metadata": {},
   "source": [
    "## Step 1.2: Topography"
   ]
  },
  {
   "cell_type": "code",
   "execution_count": 20,
   "metadata": {},
   "outputs": [],
   "source": [
    "from CrocoDash.topo import Topo\n",
    "\n",
    "topo = Topo(\n",
    "    grid = grid,\n",
    "    min_depth = 9.5,\n",
    ")"
   ]
  },
  {
   "cell_type": "markdown",
   "metadata": {},
   "source": [
    "Swap your `bathymetry_path` accordingly below. Grab your data from: https://www.gebco.net/data-products/gridded-bathymetry-data"
   ]
  },
  {
   "cell_type": "code",
   "execution_count": 21,
   "metadata": {},
   "outputs": [
    {
     "name": "stderr",
     "output_type": "stream",
     "text": [
      "INFO:regional_mom6.regridding:Getting t points..\n"
     ]
    },
    {
     "name": "stdout",
     "output_type": "stream",
     "text": [
      "If bathymetry setup fails, rerun this function with write_to_file = True\n"
     ]
    },
    {
     "name": "stderr",
     "output_type": "stream",
     "text": [
      "INFO:regional_mom6.regridding:Creating Regridder\n"
     ]
    },
    {
     "name": "stdout",
     "output_type": "stream",
     "text": [
      "Begin regridding bathymetry...\n",
      "\n",
      "Original bathymetry size: 11.54 Mb\n",
      "Regridded size: 3.85 Mb\n",
      "Automatic regridding may fail if your domain is too big! If this process hangs or crashes,make sure function argument write_to_file = True and,open a terminal with appropriate computational and resources try calling ESMF directly in the input directory . via\n",
      "\n",
      "`mpirun -np NUMBER_OF_CPUS ESMF_Regrid -s bathymetry_original.nc -d bathymetry_unfinished.nc -m bilinear --src_var depth --dst_var depth --netcdf4 --src_regional --dst_regional`\n",
      "\n",
      "For details see https://xesmf.readthedocs.io/en/latest/large_problems_on_HPC.html\n",
      "\n",
      "Afterwards, we run the 'expt.tidy_bathymetry' method to skip the expensive interpolation step, and finishing metadata, encoding and cleanup.\n",
      "\n",
      "\n",
      "\n",
      "Regridding successful! Now calling `tidy_bathymetry` method for some finishing touches...\n",
      "setup bathymetry has finished successfully.\n",
      "Tidy bathymetry: Reading in regridded bathymetry to fix up metadata...done. Filling in inland lakes and channels... "
     ]
    }
   ],
   "source": [
    "bathymetry_path='/glade/u/home/hmnguyen/ncfile/GEBCO_2024.nc' # Swap this!\n",
    "\n",
    "topo.interpolate_from_file(\n",
    "    file_path = bathymetry_path,\n",
    "    longitude_coordinate_name=\"lon\",\n",
    "    latitude_coordinate_name=\"lat\",\n",
    "    vertical_coordinate_name=\"elevation\",\n",
    "    write_to_file = True\n",
    ")"
   ]
  },
  {
   "cell_type": "markdown",
   "metadata": {},
   "source": [
    "**TODO:** when the above topo.interpolate_from_file() method is called with the original GEBCO dataset, the interpolation fails do to large computational demand when run on login nodes. Check if there is a failsafe way, or at least, a means to precaution the user."
   ]
  },
  {
   "cell_type": "code",
   "execution_count": 23,
   "metadata": {},
   "outputs": [
    {
     "data": {
      "text/plain": [
       "<matplotlib.collections.QuadMesh at 0x14bbfaa51790>"
      ]
     },
     "execution_count": 23,
     "metadata": {},
     "output_type": "execute_result"
    }
   ],
   "source": [
    "topo.depth.plot()"
   ]
  },
  {
   "cell_type": "markdown",
   "metadata": {},
   "source": [
    "Run the topo-editor below to configure your bathymetry!"
   ]
  },
  {
   "cell_type": "code",
   "execution_count": 24,
   "metadata": {},
   "outputs": [
    {
     "data": {
      "application/vnd.jupyter.widget-view+json": {
       "model_id": "c8869b7fda50472f9d8bcfce7709b3b5",
       "version_major": 2,
       "version_minor": 0
      },
      "text/plain": [
       "TopoEditor(children=(VBox(children=(HTML(value='<h2>Topo Editor</h2>'), HTML(value='<hr><h3>Display</h3>'), To…"
      ]
     },
     "execution_count": 24,
     "metadata": {},
     "output_type": "execute_result"
    }
   ],
   "source": [
    "%matplotlib ipympl\n",
    "from CrocoDash.topo_editor import TopoEditor\n",
    "topo.depth[\"units\"] = \"m\"\n",
    "TopoEditor(topo)"
   ]
  },
  {
   "cell_type": "markdown",
   "metadata": {},
   "source": [
    "## Step 1.3: Vertical Grid"
   ]
  },
  {
   "cell_type": "code",
   "execution_count": 25,
   "metadata": {},
   "outputs": [],
   "source": [
    "from CrocoDash.vgrid import VGrid\n",
    "\n",
    "vgrid  = VGrid.hyperbolic(\n",
    "    nk = 75,\n",
    "    depth = topo.max_depth,\n",
    "    ratio=20.0\n",
    ")"
   ]
  },
  {
   "cell_type": "code",
   "execution_count": 26,
   "metadata": {},
   "outputs": [
    {
     "name": "stdout",
     "output_type": "stream",
     "text": [
      "[  6.95095642   6.99486359   7.04685819   7.10842131   7.18130184\n",
      "   7.26756348   7.36963949   7.49039614   7.63320597   7.80203196\n",
      "   8.00152344   8.23712473   8.51519675   8.84315151   9.22959827\n",
      "   9.68449896  10.21932835  10.84723189  11.58317051  12.44403732\n",
      "  13.44872526  14.61811846  15.9749729   17.54364506  19.34962195\n",
      "  21.41880423  23.77649924  26.44609518  29.44741643  32.79480341\n",
      "  36.49501977  40.54515875  44.93078801  49.62462077  54.58600872\n",
      "  59.76150162  65.08660134  70.48866681  75.89073227  81.21583199\n",
      "  86.39132489  91.35271284  96.0465456  100.43217487 104.48231384\n",
      " 108.1825302  111.52991718 114.53123843 117.20083437 119.55852938\n",
      " 121.62771167 123.43368855 125.00236071 126.35921515 127.52860835\n",
      " 128.53329629 129.3941631  130.13010173 130.75800526 131.29283465\n",
      " 131.74773534 132.1341821  132.46213686 132.74020888 132.97581017\n",
      " 133.17530165 133.34412764 133.48693748 133.60769412 133.70977013\n",
      " 133.79603177 133.8689123  133.93047542 133.98247002 134.02637719]\n"
     ]
    }
   ],
   "source": [
    "print(vgrid.dz)"
   ]
  },
  {
   "cell_type": "code",
   "execution_count": 27,
   "metadata": {},
   "outputs": [
    {
     "data": {
      "application/vnd.jupyter.widget-view+json": {
       "model_id": "09b2d4d2471349629ba0900cc877f6f5",
       "version_major": 2,
       "version_minor": 0
      },
      "image/png": "[encoded data removed]",
      "text/html": [
       "\n",
       "            <div style=\"display: inline-block;\">\n",
       "                <div class=\"jupyter-widgets widget-label\" style=\"text-align: center;\">\n",
       "                    Figure 1\n",
       "                </div>\n",
       "                <img src='data:image/png;base64,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' width=640.0/>\n",
       "            </div>\n",
       "        "
      ],
      "text/plain": [
       "Canvas(toolbar=Toolbar(toolitems=[('Home', 'Reset original view', 'home', 'home'), ('Back', 'Back to previous …"
      ]
     },
     "metadata": {},
     "output_type": "display_data"
    }
   ],
   "source": [
    "import matplotlib.pyplot as plt\n",
    "plt.close()\n",
    "# Create the plot\n",
    "for depth in vgrid.z:\n",
    "    plt.axhline(y=depth, linestyle='-')  # Horizontal lines\n",
    "\n",
    "plt.ylim(max(vgrid.z) + 10, min(vgrid.z) - 10)  # Invert y-axis so deeper values go down\n",
    "plt.ylabel(\"Depth\")\n",
    "plt.title(\"Vertical Grid\")\n",
    "plt.show()"
   ]
  },
  {
   "cell_type": "markdown",
   "metadata": {},
   "source": [
    "# SECTION 3: Create the CESM case\n",
    "\n",
    "After generating the MOM6 domain, the next step is to create a CESM case using CrocoDash. This process is straightforward and involves instantiating the CrocoDash Case object. The Case object requires the following inputs:\n",
    "\n",
    " - CESM Source Directory: A local path to a compatible CESM source copy.\n",
    " - Case Name: A unique name for the CESM case.\n",
    " - Input Directory: The directory where all necessary input files will be written.\n",
    " - MOM6 Domain Objects: The horizontal grid, topography, and vertical grid created in the previous section.\n",
    " - Project ID: (Optional) A project ID, if required by the machine."
   ]
  },
  {
   "cell_type": "markdown",
   "metadata": {},
   "source": [
    "## Step 2.1: Specify case name and directories:\n",
    "\n",
    "Begin by specifying the case name and the necessary directory paths. Ensure the CESM root directory points to your own local copy of CESM. \n",
    "**Note that if the case is already created - in case you want to rerun this notebook - the `/run` directory must be removed for the case to be created anew.**\n",
    "Below is an example setup:"
   ]
  },
  {
   "cell_type": "code",
   "execution_count": 28,
   "metadata": {},
   "outputs": [],
   "source": [
    "from pathlib import Path"
   ]
  },
  {
   "cell_type": "code",
   "execution_count": 29,
   "metadata": {},
   "outputs": [
    {
     "name": "stdout",
     "output_type": "stream",
     "text": [
      "/glade/work/hmnguyen/CESM /glade/u/home/hmnguyen/input/antarctica-tutorial /glade/u/home/hmnguyen/cases/antarctica-tutorial\n"
     ]
    }
   ],
   "source": [
    "# CESM case (experiment) name\n",
    "casename = \"antarctica-tutorial\"\n",
    "\n",
    "# CESM source root (Update this path accordingly!!!)\n",
    "cesmroot = \"/glade/work/hmnguyen/CESM\"\n",
    "\n",
    "# Place where all your input files go\n",
    "inputdir = Path.home() / \"input\" / casename\n",
    "\n",
    "# CESM case directory\n",
    "caseroot = Path.home() / \"cases\" / casename\n",
    "print(cesmroot, inputdir, caseroot) # View your directory and change as you need!"
   ]
  },
  {
   "cell_type": "markdown",
   "metadata": {},
   "source": [
    "## Step 2.2: Create the Case\n",
    "\n",
    "To create the CESM case, instantiate the `Case` object as shown below. This will automatically set up the CESM case based on the provided inputs: The `cesmroot` argument specifies the path to your local CESM source directory.\n",
    "The `caseroot` argument defines the directory where the case will be created. CrocoDash will handle all necessary namelist modifications and XML changes to align with the MOM6 domain objects generated earlier.\n",
    "\n",
    "Remember to change/remove your project ID (with parameter `project`) and machine (with parameter `machine`, likely `derecho`) as needed."
   ]
  },
  {
   "cell_type": "code",
   "execution_count": 30,
   "metadata": {},
   "outputs": [
    {
     "name": "stderr",
     "output_type": "stream",
     "text": [
      "ERROR:  cime_interface:DIN_LOC_ROOT doesn't exist: /glade/u/home/hmnguyen/cesm/inputdata\n",
      "INFO:  csp_solver:CspSolver initialized.\n"
     ]
    },
    {
     "name": "stdout",
     "output_type": "stream",
     "text": [
      "\u001b[01;96mCreating case...\u001b[0m\n",
      "\n",
      "• Updating ccs_config/modelgrid_aliases_nuopc.xml file to include the new resolution \"antarctica-tutorial\" consisting of the following component grids.\n",
      " atm grid: \"TL319\", lnd grid: \"TL319\", ocn grid: \"antarctica2\".\n",
      "\n",
      "• Updating ccs_config/component_grids_nuopc.xml file to include newly generated ocean grid \"antarctica2\" with the following properties:\n",
      " nx: 400, ny: 400. ocean mesh: /glade/u/home/hmnguyen/input/antarctica-tutorial/ocnice/ESMF_mesh_antarctica2_b06b3a.nc.\u001b[0m\n",
      "\n",
      "\u001b[01;96mRunning the create_newcase tool with the following command:\u001b[0m\n",
      "\n",
      "/glade/work/hmnguyen/CESM/cime/scripts/create_newcase --compset 1850_DATM%JRA_SLND_CICE_MOM6_SROF_SGLC_SWAV --res antarctica-tutorial --case /glade/u/home/hmnguyen/cases/antarctica-tutorial --machine derecho --run-unsupported --project P93300012 --non-local \n",
      "\n",
      "\u001b[01;96mThe create_newcase command was successful.\u001b[0m\n",
      "\n",
      "\u001b[01;96mNavigating to the case directory:\u001b[0m\n",
      "\n",
      "cd /glade/u/home/hmnguyen/cases/antarctica-tutorial\n",
      "\n",
      "\u001b[01;96mApply NTASK grid xml changes:\u001b[0m\n",
      "\n",
      "./xmlchange NTASKS_OCN=256 --non-local\n",
      "\n",
      "\u001b[01;96mRunning the case.setup script with the following command:\u001b[0m\n",
      "\n",
      "./case.setup --non-local\n",
      "\n",
      "\u001b[01;96mAdding parameter changes to user_nl_mom:\u001b[0m\n",
      "\n",
      "  ! Custom Horizonal Grid, Topography, and Vertical Grid\n",
      "  INPUTDIR = /glade/u/home/hmnguyen/input/antarctica-tutorial/ocnice\n",
      "  TRIPOLAR_N = False\n",
      "  REENTRANT_X = False\n",
      "  REENTRANT_Y = False\n",
      "  NIGLOBAL = 400\n",
      "  NJGLOBAL = 400\n",
      "  GRID_CONFIG = mosaic\n",
      "  GRID_FILE = ocean_hgrid_antarctica2_b06b3a.nc\n",
      "  TOPO_CONFIG = file\n",
      "  TOPO_FILE = ocean_topog_antarctica2_b06b3a.nc\n",
      "  MAXIMUM_DEPTH = 5286.65001042928\n",
      "  MINIMUM_DEPTH = 100.0\n",
      "  NK = 75\n",
      "  COORD_CONFIG = none\n",
      "  ALE_COORDINATE_CONFIG = FILE:ocean_vgrid_antarctica2_b06b3a.nc\n",
      "  REGRIDDING_COORDINATE_MODE = Z*\n",
      "\n",
      "  ! Timesteps (based on grid resolution)\n",
      "  DT = 25.0\n",
      "  DT_THERM = 100.0\n",
      "\n"
     ]
    },
    {
     "name": "stderr",
     "output_type": "stream",
     "text": [
      "INFO:\tstage:SUCCESS: All stages are complete.\n"
     ]
    },
    {
     "name": "stdout",
     "output_type": "stream",
     "text": [
      "\u001b[1;32mCase created successfully at /glade/u/home/hmnguyen/cases/antarctica-tutorial.\u001b[0m\n",
      "\n",
      "\u001b[01;96mTo further customize, build, and run the case, navigate to the case directory in your terminal. To create another case, restart the notebook.\u001b[0m\n",
      "\n"
     ]
    }
   ],
   "source": [
    "from CrocoDash.case import Case\n",
    "import os\n",
    "os.environ[\"CIME_MACHINE\"] = \"ubuntu-latest\"\n",
    "case = Case(\n",
    "    cesmroot = cesmroot,\n",
    "    caseroot = caseroot,\n",
    "    inputdir = inputdir,\n",
    "    ocn_grid = grid,\n",
    "    ocn_vgrid = vgrid,\n",
    "    ocn_topo = topo,\n",
    "    project = 'P93300012', # Switch this\n",
    "    override = True,\n",
    "    machine = \"derecho\", # And this\n",
    "    #compset = \"1850_DATM%JRA_SLND_CICE_MOM6_SROF_SGLC_SWAV\", # Uncomment when Alper's PR is approved\n",
    ")"
   ]
  },
  {
   "cell_type": "markdown",
   "metadata": {},
   "source": [
    "# Section 3: Prepare ocean forcing data\n",
    "\n",
    "We need to cut out our ocean forcing. The package expects an initial condition and one time-dependent segment per non-land boundary. Naming convention is `\"east_unprocessed\"` for segments and `\"ic_unprocessed\"` for the initial condition.\n",
    "\n",
    "In this notebook, we are forcing with the Copernicus Marine \"Glorys\" reanalysis dataset. There's a function in the `CrocoDash` package, called `configure_forcings`, that generates a bash script to download the correct boundary forcing files for your experiment. First, you will need to create an account with Copernicus, and then call `copernicusmarine login` to set up your login details on your machine. Then you can run the `get_glorys_data.sh` bash script.\n",
    "\n",
    "## Step 3.1 Configure Initial Conditions and Forcings"
   ]
  },
  {
   "cell_type": "code",
   "execution_count": 31,
   "metadata": {},
   "outputs": [
    {
     "name": "stderr",
     "output_type": "stream",
     "text": [
      "INFO:CrocoDash.raw_data_access.datasets.glorys:This data access method retuns a script at path /glade/derecho/scratch/hmnguyen/tmp/tmp80sctdeh/get_glorys_data.sh to run to get access data \n",
      "INFO:CrocoDash.raw_data_access.datasets.glorys:This data access method retuns a script at path /glade/u/home/hmnguyen/input/antarctica-tutorial/glorys/get_glorys_data.sh to run to get access data \n",
      "INFO:CrocoDash.raw_data_access.datasets.glorys:This data access method retuns a script at path /glade/u/home/hmnguyen/input/antarctica-tutorial/glorys/get_glorys_data.sh to run to get access data \n",
      "INFO:CrocoDash.raw_data_access.datasets.glorys:This data access method retuns a script at path /glade/u/home/hmnguyen/input/antarctica-tutorial/glorys/get_glorys_data.sh to run to get access data \n",
      "INFO:CrocoDash.raw_data_access.datasets.glorys:This data access method retuns a script at path /glade/u/home/hmnguyen/input/antarctica-tutorial/glorys/get_glorys_data.sh to run to get access data \n",
      "INFO:CrocoDash.raw_data_access.datasets.glorys:This data access method retuns a script at path /glade/u/home/hmnguyen/input/antarctica-tutorial/glorys/get_glorys_data.sh to run to get access data \n"
     ]
    }
   ],
   "source": [
    "from CrocoDash.case import Case\n",
    "# Turn off tides for now - 30/06/2025\n",
    "case.configure_forcings(\n",
    "    date_range = [\"2020-01-01 00:00:00\", \"2020-01-09 00:00:00\"],\n",
    "    #tidal_constituents = ['M2'],\n",
    "    #tpxo_elevation_filepath = \"/glade/u/home/hmnguyen/ncfile/h_tpxo9.v1.nc\",\n",
    "    #tpxo_velocity_filepath = \"/glade/u/home/hmnguyen/ncfile/u_tpxo9.v1.nc\",\n",
    "    too_much_data = False,\n",
    "    #regridding_method=\"patch\" # tried nearest_d2s, nearest_s2d, bilinear\n",
    ")"
   ]
  },
  {
   "cell_type": "markdown",
   "metadata": {},
   "source": [
    "## Step 3.2 Run `get_glorys_data.sh`\n",
    "\n",
    "Follow the instructions printed by the `configure_forcings` method above to navigate to your `glorys` folder.\n",
    "Once you're in your `/glorys` folder, run `chmod +x get_glorys_data.sh` to enable execution of the bash script. Also activate your conda environment with:\n",
    "```bash\n",
    "module load conda && conda activate CrocoDash ! or the name of the virtual environment you have installed with CrocoDash enabled\n",
    "```\n",
    "if you haven't done so. Finally, run `./get_glorys_data.sh`.\n",
    "\n",
    "**Note**: You'll have to enter your login multiple times for `copernicus marine`. Do not escape the script until finished.\n"
   ]
  },
  {
   "cell_type": "markdown",
   "metadata": {},
   "source": [
    "**TODO:** user copernicusmarine python API within CrocoDash, instead of directing users to run it via CLI. Also, on a derecho login node, both CLI and API fails to run due to the computational demand. We also need to address that."
   ]
  },
  {
   "cell_type": "markdown",
   "metadata": {},
   "source": [
    "##  Step 3.3: Process forcing data\n",
    "\n",
    "In this final step, we call the `process_forcings` method of CrocoDash to cut out and interpolate the initial condition as well as all boundaries. CrocoDash also updates MOM6 runtime parameters and CESM xml variables accordingly."
   ]
  },
  {
   "cell_type": "code",
   "execution_count": 32,
   "metadata": {},
   "outputs": [
    {
     "name": "stderr",
     "output_type": "stream",
     "text": [
      "INFO:regional_mom6.regridding:Getting t points..\n",
      "INFO:regional_mom6.regridding:Creating Regridder\n",
      "INFO:regional_mom6.regridding:Creating Regridder\n",
      "INFO:regional_mom6.regridding:Creating Regridder\n"
     ]
    },
    {
     "name": "stdout",
     "output_type": "stream",
     "text": [
      "Setting up Initial Conditions\n",
      "Regridding Velocities... "
     ]
    },
    {
     "name": "stderr",
     "output_type": "stream",
     "text": [
      "INFO:regional_mom6.rotation:Getting rotation angle\n",
      "INFO:regional_mom6.rotation:Calculating grid rotation angle\n",
      "INFO:regional_mom6.regridding:Getting u points..\n",
      "INFO:regional_mom6.regridding:Getting v points..\n"
     ]
    },
    {
     "name": "stdout",
     "output_type": "stream",
     "text": [
      "Done.\n",
      "Regridding Tracers... Done.\n",
      "Regridding Free surface... Done.\n",
      "Saving outputs... "
     ]
    },
    {
     "name": "stderr",
     "output_type": "stream",
     "text": [
      "INFO:regional_mom6.regridding:Creating coordinates of the boundary q/u/v points\n",
      "INFO:regional_mom6.regridding:Creating Regridder\n",
      "INFO:regional_mom6.rotation:Getting rotation angle\n",
      "INFO:regional_mom6.rotation:Calculating grid rotation angle\n",
      "INFO:regional_mom6.regridding:Creating coordinates of the boundary q/u/v points\n",
      "INFO:regional_mom6.regridding:Filling in missing data horizontally, then vertically\n"
     ]
    },
    {
     "name": "stdout",
     "output_type": "stream",
     "text": [
      "done setting up initial condition.\n",
      "Processing south boundary velocity & tracers..."
     ]
    },
    {
     "name": "stderr",
     "output_type": "stream",
     "text": [
      "INFO:regional_mom6.regridding:Adding time dimension\n",
      "INFO:regional_mom6.regridding:Renaming vertical coordinate to nz_... in salt_segment_001\n",
      "INFO:regional_mom6.regridding:Replacing old depth coordinates with incremental integers\n",
      "INFO:regional_mom6.regridding:Adding perpendicular dimension to salt_segment_001\n",
      "INFO:regional_mom6.regridding:Renaming vertical coordinate to nz_... in temp_segment_001\n",
      "INFO:regional_mom6.regridding:Replacing old depth coordinates with incremental integers\n",
      "INFO:regional_mom6.regridding:Adding perpendicular dimension to temp_segment_001\n",
      "INFO:regional_mom6.regridding:Renaming vertical coordinate to nz_... in u_segment_001\n",
      "INFO:regional_mom6.regridding:Replacing old depth coordinates with incremental integers\n",
      "INFO:regional_mom6.regridding:Adding perpendicular dimension to u_segment_001\n",
      "INFO:regional_mom6.regridding:Renaming vertical coordinate to nz_... in v_segment_001\n",
      "INFO:regional_mom6.regridding:Replacing old depth coordinates with incremental integers\n",
      "INFO:regional_mom6.regridding:Adding perpendicular dimension to v_segment_001\n",
      "INFO:regional_mom6.regridding:Adding perpendicular dimension to eta_segment_001\n",
      "WARNING:regional_mom6.regridding:All NaNs filled b/c bathymetry wasn't provided to the function. Add bathymetry_path to the segment class to avoid this\n",
      "INFO:regional_mom6.regridding:Generating encoding dictionary\n",
      "INFO:regional_mom6.regridding:Creating coordinates of the boundary q/u/v points\n",
      "INFO:regional_mom6.regridding:Creating Regridder\n",
      "INFO:regional_mom6.rotation:Getting rotation angle\n",
      "INFO:regional_mom6.rotation:Calculating grid rotation angle\n",
      "INFO:regional_mom6.regridding:Creating coordinates of the boundary q/u/v points\n",
      "INFO:regional_mom6.regridding:Filling in missing data horizontally, then vertically\n",
      "INFO:regional_mom6.regridding:Adding time dimension\n",
      "INFO:regional_mom6.regridding:Renaming vertical coordinate to nz_... in salt_segment_002\n"
     ]
    },
    {
     "name": "stdout",
     "output_type": "stream",
     "text": [
      "Done.\n",
      "Processing north boundary velocity & tracers..."
     ]
    },
    {
     "name": "stderr",
     "output_type": "stream",
     "text": [
      "INFO:regional_mom6.regridding:Replacing old depth coordinates with incremental integers\n",
      "INFO:regional_mom6.regridding:Adding perpendicular dimension to salt_segment_002\n",
      "INFO:regional_mom6.regridding:Renaming vertical coordinate to nz_... in temp_segment_002\n",
      "INFO:regional_mom6.regridding:Replacing old depth coordinates with incremental integers\n",
      "INFO:regional_mom6.regridding:Adding perpendicular dimension to temp_segment_002\n",
      "INFO:regional_mom6.regridding:Renaming vertical coordinate to nz_... in u_segment_002\n",
      "INFO:regional_mom6.regridding:Replacing old depth coordinates with incremental integers\n",
      "INFO:regional_mom6.regridding:Adding perpendicular dimension to u_segment_002\n",
      "INFO:regional_mom6.regridding:Renaming vertical coordinate to nz_... in v_segment_002\n",
      "INFO:regional_mom6.regridding:Replacing old depth coordinates with incremental integers\n",
      "INFO:regional_mom6.regridding:Adding perpendicular dimension to v_segment_002\n",
      "INFO:regional_mom6.regridding:Adding perpendicular dimension to eta_segment_002\n",
      "WARNING:regional_mom6.regridding:All NaNs filled b/c bathymetry wasn't provided to the function. Add bathymetry_path to the segment class to avoid this\n",
      "INFO:regional_mom6.regridding:Generating encoding dictionary\n",
      "INFO:regional_mom6.regridding:Creating coordinates of the boundary q/u/v points\n",
      "INFO:regional_mom6.regridding:Creating Regridder\n",
      "INFO:regional_mom6.rotation:Getting rotation angle\n",
      "INFO:regional_mom6.rotation:Calculating grid rotation angle\n",
      "INFO:regional_mom6.regridding:Creating coordinates of the boundary q/u/v points\n",
      "INFO:regional_mom6.regridding:Filling in missing data horizontally, then vertically\n",
      "INFO:regional_mom6.regridding:Adding time dimension\n",
      "INFO:regional_mom6.regridding:Renaming vertical coordinate to nz_... in salt_segment_003\n",
      "INFO:regional_mom6.regridding:Replacing old depth coordinates with incremental integers\n"
     ]
    },
    {
     "name": "stdout",
     "output_type": "stream",
     "text": [
      "Done.\n",
      "Processing west boundary velocity & tracers..."
     ]
    },
    {
     "name": "stderr",
     "output_type": "stream",
     "text": [
      "INFO:regional_mom6.regridding:Adding perpendicular dimension to salt_segment_003\n",
      "INFO:regional_mom6.regridding:Renaming vertical coordinate to nz_... in temp_segment_003\n",
      "INFO:regional_mom6.regridding:Replacing old depth coordinates with incremental integers\n",
      "INFO:regional_mom6.regridding:Adding perpendicular dimension to temp_segment_003\n",
      "INFO:regional_mom6.regridding:Renaming vertical coordinate to nz_... in u_segment_003\n",
      "INFO:regional_mom6.regridding:Replacing old depth coordinates with incremental integers\n",
      "INFO:regional_mom6.regridding:Adding perpendicular dimension to u_segment_003\n",
      "INFO:regional_mom6.regridding:Renaming vertical coordinate to nz_... in v_segment_003\n",
      "INFO:regional_mom6.regridding:Replacing old depth coordinates with incremental integers\n",
      "INFO:regional_mom6.regridding:Adding perpendicular dimension to v_segment_003\n",
      "INFO:regional_mom6.regridding:Adding perpendicular dimension to eta_segment_003\n",
      "WARNING:regional_mom6.regridding:All NaNs filled b/c bathymetry wasn't provided to the function. Add bathymetry_path to the segment class to avoid this\n",
      "INFO:regional_mom6.regridding:Generating encoding dictionary\n",
      "INFO:regional_mom6.regridding:Creating coordinates of the boundary q/u/v points\n",
      "INFO:regional_mom6.regridding:Creating Regridder\n",
      "INFO:regional_mom6.rotation:Getting rotation angle\n",
      "INFO:regional_mom6.rotation:Calculating grid rotation angle\n",
      "INFO:regional_mom6.regridding:Creating coordinates of the boundary q/u/v points\n",
      "INFO:regional_mom6.regridding:Filling in missing data horizontally, then vertically\n",
      "INFO:regional_mom6.regridding:Adding time dimension\n",
      "INFO:regional_mom6.regridding:Renaming vertical coordinate to nz_... in salt_segment_004\n",
      "INFO:regional_mom6.regridding:Replacing old depth coordinates with incremental integers\n",
      "INFO:regional_mom6.regridding:Adding perpendicular dimension to salt_segment_004\n",
      "INFO:regional_mom6.regridding:Renaming vertical coordinate to nz_... in temp_segment_004\n"
     ]
    },
    {
     "name": "stdout",
     "output_type": "stream",
     "text": [
      "Done.\n",
      "Processing east boundary velocity & tracers..."
     ]
    },
    {
     "name": "stderr",
     "output_type": "stream",
     "text": [
      "INFO:regional_mom6.regridding:Replacing old depth coordinates with incremental integers\n",
      "INFO:regional_mom6.regridding:Adding perpendicular dimension to temp_segment_004\n",
      "INFO:regional_mom6.regridding:Renaming vertical coordinate to nz_... in u_segment_004\n",
      "INFO:regional_mom6.regridding:Replacing old depth coordinates with incremental integers\n",
      "INFO:regional_mom6.regridding:Adding perpendicular dimension to u_segment_004\n",
      "INFO:regional_mom6.regridding:Renaming vertical coordinate to nz_... in v_segment_004\n",
      "INFO:regional_mom6.regridding:Replacing old depth coordinates with incremental integers\n",
      "INFO:regional_mom6.regridding:Adding perpendicular dimension to v_segment_004\n",
      "INFO:regional_mom6.regridding:Adding perpendicular dimension to eta_segment_004\n",
      "WARNING:regional_mom6.regridding:All NaNs filled b/c bathymetry wasn't provided to the function. Add bathymetry_path to the segment class to avoid this\n",
      "INFO:regional_mom6.regridding:Generating encoding dictionary\n"
     ]
    },
    {
     "name": "stdout",
     "output_type": "stream",
     "text": [
      "Done.\n",
      "\u001b[01;96mAdding parameter changes to user_nl_mom:\u001b[0m\n",
      "\n",
      "  ! Initial conditions\n",
      "  INIT_LAYERS_FROM_Z_FILE = True\n",
      "  TEMP_SALT_Z_INIT_FILE = init_tracers.nc\n",
      "  Z_INIT_FILE_PTEMP_VAR = temp\n",
      "  Z_INIT_ALE_REMAPPING = True\n",
      "  TEMP_SALT_INIT_VERTICAL_REMAP_ONLY = True\n",
      "  DEPRESS_INITIAL_SURFACE = True\n",
      "  SURFACE_HEIGHT_IC_FILE = init_eta.nc\n",
      "  SURFACE_HEIGHT_IC_VAR = eta_t\n",
      "  VELOCITY_CONFIG = file\n",
      "  VELOCITY_FILE = init_vel.nc\n",
      "\n",
      "  ! Open boundary conditions\n",
      "  OBC_NUMBER_OF_SEGMENTS = 4\n",
      "  OBC_FREESLIP_VORTICITY = False\n",
      "  OBC_FREESLIP_STRAIN = False\n",
      "  OBC_COMPUTED_VORTICITY = True\n",
      "  OBC_COMPUTED_STRAIN = True\n",
      "  OBC_ZERO_BIHARMONIC = True\n",
      "  OBC_TRACER_RESERVOIR_LENGTH_SCALE_OUT = 3.0E+04\n",
      "  OBC_TRACER_RESERVOIR_LENGTH_SCALE_IN = 3000.0\n",
      "  BRUSHCUTTER_MODE = True\n",
      "  OBC_SEGMENT_001 = \"J=0,I=0:N,FLATHER,ORLANSKI,NUDGED,ORLANSKI_TAN,NUDGED_TAN\"\n",
      "  OBC_SEGMENT_001_VELOCITY_NUDGING_TIMESCALES = 0.3, 360.0\n",
      "  OBC_SEGMENT_001_DATA = \"U=file:forcing_obc_segment_001.nc(u),V=file:forcing_obc_segment_001.nc(v),SSH=file:forcing_obc_segment_001.nc(eta),TEMP=file:forcing_obc_segment_001.nc(temp),SALT=file:forcing_obc_segment_001.nc(salt)\"\n",
      "  OBC_SEGMENT_002 = \"J=N,I=N:0,FLATHER,ORLANSKI,NUDGED,ORLANSKI_TAN,NUDGED_TAN\"\n",
      "  OBC_SEGMENT_002_VELOCITY_NUDGING_TIMESCALES = 0.3, 360.0\n",
      "  OBC_SEGMENT_002_DATA = \"U=file:forcing_obc_segment_002.nc(u),V=file:forcing_obc_segment_002.nc(v),SSH=file:forcing_obc_segment_002.nc(eta),TEMP=file:forcing_obc_segment_002.nc(temp),SALT=file:forcing_obc_segment_002.nc(salt)\"\n",
      "  OBC_SEGMENT_003 = \"I=0,J=N:0,FLATHER,ORLANSKI,NUDGED,ORLANSKI_TAN,NUDGED_TAN\"\n",
      "  OBC_SEGMENT_003_VELOCITY_NUDGING_TIMESCALES = 0.3, 360.0\n",
      "  OBC_SEGMENT_003_DATA = \"U=file:forcing_obc_segment_003.nc(u),V=file:forcing_obc_segment_003.nc(v),SSH=file:forcing_obc_segment_003.nc(eta),TEMP=file:forcing_obc_segment_003.nc(temp),SALT=file:forcing_obc_segment_003.nc(salt)\"\n",
      "  OBC_SEGMENT_004 = \"I=N,J=0:N,FLATHER,ORLANSKI,NUDGED,ORLANSKI_TAN,NUDGED_TAN\"\n",
      "  OBC_SEGMENT_004_VELOCITY_NUDGING_TIMESCALES = 0.3, 360.0\n",
      "  OBC_SEGMENT_004_DATA = \"U=file:forcing_obc_segment_004.nc(u),V=file:forcing_obc_segment_004.nc(v),SSH=file:forcing_obc_segment_004.nc(eta),TEMP=file:forcing_obc_segment_004.nc(temp),SALT=file:forcing_obc_segment_004.nc(salt)\"\n",
      "\n",
      "./xmlchange RUN_STARTDATE=2020-01-01 --non-local\n",
      "\n",
      "./xmlchange MOM6_MEMORY_MODE=dynamic_symmetric --non-local\n",
      "\n",
      "Case is ready to be built: /glade/u/home/hmnguyen/cases/antarctica-tutorial\n"
     ]
    }
   ],
   "source": [
    "case.process_forcings(\n",
    "    process_velocity_tracers = True, \n",
    "    process_initial_condition = True, \n",
    "    process_tides = False, # No tides for now\n",
    "    #bathymetry_path = \"/glade/u/home/hmnguyen/jupyter/bathymetry.nc\" \n",
    ")"
   ]
  },
  {
   "cell_type": "markdown",
   "metadata": {},
   "source": [
    "# Section 4: Set up CICE grids and extra MOM & CICE variables"
   ]
  },
  {
   "cell_type": "markdown",
   "metadata": {},
   "source": [
    "## 4.1. Options in `user_nl_mom`\n",
    "The variables below are set to the default of MOM6. Consider changing their values if needed."
   ]
  },
  {
   "cell_type": "code",
   "execution_count": 34,
   "metadata": {},
   "outputs": [],
   "source": [
    "mom_file_path = caseroot / \"user_nl_mom\"\n",
    "\n",
    "mom_settings = {\n",
    "    \"USE_CFC_CAP\": False,\n",
    "    \"READ_TIDEAMP\": False,\n",
    "    \"MASKING_DEPTH\": -9999.0,\n",
    "}\n",
    "# Optionally, if you have a H2 file, insert it above as well, e.g., \"H2_FILE\": \"file/path/...\"\n",
    "\n",
    "with open(mom_file_path, \"a\") as f:\n",
    "    f.write(\"\\n\")\n",
    "    for key, value in mom_settings.items():\n",
    "        f.write(f\"{key}={value}\\n\")"
   ]
  },
  {
   "cell_type": "markdown",
   "metadata": {},
   "source": [
    "## 4.2 Generate CICE grid"
   ]
  },
  {
   "cell_type": "code",
   "execution_count": 35,
   "metadata": {},
   "outputs": [],
   "source": [
    "topo.write_cice_grid(Path.home() / \"input\" / casename / \"cice_grid.nc\")"
   ]
  },
  {
   "cell_type": "markdown",
   "metadata": {},
   "source": [
    "## 4.3. Options in `user_nl_cice`"
   ]
  },
  {
   "cell_type": "code",
   "execution_count": 38,
   "metadata": {},
   "outputs": [],
   "source": [
    "cice_grid_path = Path.home() / \"input\" / casename / \"cice_grid.nc\"\n",
    "cice_file_path = caseroot / \"user_nl_cice\"\n",
    "\n",
    "cice_settings = { # Again, change as needed!\n",
    "    \"ice_ic\": \"UNSET\",\n",
    "    \"grid_file\": cice_grid_path,\n",
    "    \"kmt_file\": cice_grid_path,\n",
    "    \"grid_format\": \"nc\",\n",
    "    \"ns_boundary_type\": \"open\",\n",
    "    \"ew_boundary_type\": \"cyclic\",\n",
    "    \"close_boundaries\": \".false.\"\n",
    "}\n",
    "\n",
    "with open(cice_file_path, \"a\") as f:\n",
    "    f.write(\"\\n\")\n",
    "    for key, value in cice_settings.items():\n",
    "        f.write(f\"{key}={value}\\n\")"
   ]
  },
  {
   "cell_type": "markdown",
   "metadata": {},
   "source": [
    "## Optional: Use restart files as initial condition for your run"
   ]
  },
  {
   "cell_type": "markdown",
   "metadata": {},
   "source": [
    "In case you want to start the model with a restart file instead of using the generated initial condition, follow the below steps. Note that you have to have finished a run beforehand for the restart files to appear.\n",
    "1. Locate your restart file - they are usually in your previous case's `/archive/rest/<year>` folder with a `.r` infix, e.g., `cice.test.cice.r.1994-01-01-00000.nc`.\n",
    "   If you do not know your `/archive` folder location, run `./xmlquery DOUT_S_ROOT` in your (previous) case folder, which will return a path similar to `DOUT_S_ROOT: /glade/derecho/scratch/hmnguyen/archive/antarctica-tutorial`.\n",
    "\n",
    "2. Use the `cp` command to copy the file to your current case `/run` directory, e.g., `cp cice.test.cice.r.1994-01-01-00000.nc <your_run_dir>`.\n",
    "3. Open `user_nl_cice` in your case directory again and change the `ice_ic` variable from `\"UNSET\"` to your file name, e.g., `ice_ic=cice.test.cice.r.1994-01-01-00000.nc`\n",
    "\n",
    "Your file will now be used automatically as the ice initial condition for your next run. Note that `.h` and `.h1` files (i.e. history files) currently **cannot be used** as initial conditions for CICE."
   ]
  },
  {
   "cell_type": "markdown",
   "metadata": {},
   "source": [
    "# Section 5: Build and run the case\n",
    "\n",
    "After completing the previous steps, you are ready to build and run your CESM case. Begin by navigating to the case root directory specified during the case creation. Before proceeding, review the `user_nl_mom` file located in the case directory. This file contains MOM6 parameter settings that were automatically generated by CrocoDash. Carefully examine these parameters and make any necessary adjustments to fine-tune the model for your specific requirements. While CrocoDash aims to provide a solid starting point, further tuning and adjustments are typically necessary to improve the model for your use case.\n",
    "\n",
    "Once you have reviewed and modified the parameters as needed, you can build and execute the case using the following commands: \n",
    "```\n",
    "./case.build\n",
    "./case.submit\n",
    "```"
   ]
  },
  {
   "cell_type": "markdown",
   "metadata": {},
   "source": [
    "### Optional: Write full grid"
   ]
  },
  {
   "cell_type": "markdown",
   "metadata": {},
   "source": [
    "The function below will output the full MOM6 grid in case you need it!"
   ]
  },
  {
   "cell_type": "code",
   "execution_count": 37,
   "metadata": {},
   "outputs": [],
   "source": [
    "import xarray as xr\n",
    "from CrocoDash.grid import Grid\n",
    "\n",
    "# List of explicitly defined grid metric attributes\n",
    "varnames = [\n",
    "    \"tlon\", \"tlat\", \"ulon\", \"ulat\", \"vlon\", \"vlat\", \"qlon\", \"qlat\",\n",
    "    \"dxt\", \"dyt\", \"dxCv\", \"dyCu\", \"dxCu\", \"dyCv\", \"angle\", \"tarea\"\n",
    "]\n",
    "\n",
    "data_vars = {name: getattr(grid, name) for name in varnames}\n",
    "\n",
    "# Create Dataset\n",
    "ds = xr.Dataset(data_vars)\n",
    "ds.attrs[\"name\"] = getattr(grid, \"_name\", \"unnamed_grid\")\n",
    "\n",
    "# Write to NetCDF\n",
    "ds.to_netcdf(\"antarctica_fullvar_grid.nc\") # Change as needed!"
   ]
  },
  {
   "cell_type": "code",
   "execution_count": 35,
   "metadata": {},
   "outputs": [
    {
     "name": "stdout",
     "output_type": "stream",
     "text": [
      "tlon: shape=(100, 100), dims=('ny', 'nx')\n",
      "tlat: shape=(100, 100), dims=('ny', 'nx')\n",
      "ulon: shape=(100, 101), dims=('ny', 'nxp')\n",
      "ulat: shape=(100, 101), dims=('ny', 'nxp')\n",
      "vlon: shape=(101, 100), dims=('nyp', 'nx')\n",
      "vlat: shape=(101, 100), dims=('nyp', 'nx')\n",
      "qlon: shape=(101, 101), dims=('nyp', 'nxp')\n",
      "qlat: shape=(101, 101), dims=('nyp', 'nxp')\n",
      "dxt: shape=(100, 100), dims=('ny', 'nx')\n",
      "dyt: shape=(100, 100), dims=('ny', 'nx')\n",
      "dxCv: shape=(100, 100), dims=('ny', 'nx')\n",
      "dyCu: shape=(100, 100), dims=('ny', 'nx')\n",
      "dxCu: shape=(100, 100), dims=('ny', 'nx')\n",
      "dyCv: shape=(100, 100), dims=('ny', 'nx')\n",
      "angle: shape=(100, 100), dims=('ny', 'nx')\n",
      "angle_q: shape=(101, 101), dims=('ny', 'nx')\n",
      "tarea: shape=(100, 100), dims=('ny', 'nx')\n"
     ]
    }
   ],
   "source": [
    "# Check your variables!\n",
    "for name in varnames:\n",
    "    var = getattr(grid, name)\n",
    "    print(f\"{name}: shape={var.shape}, dims={getattr(var, 'dims', 'unknown')}\")"
   ]
  }
 ],
 "metadata": {
  "kernelspec": {
   "display_name": "Python [conda env:CrocoDash]",
   "language": "python",
   "name": "conda-env-CrocoDash-py"
  },
  "language_info": {
   "codemirror_mode": {
    "name": "ipython",
    "version": 3
   },
   "file_extension": ".py",
   "mimetype": "text/x-python",
   "name": "python",
   "nbconvert_exporter": "python",
   "pygments_lexer": "ipython3",
   "version": "3.12.10"
  }
 },
 "nbformat": 4,
 "nbformat_minor": 4
}
