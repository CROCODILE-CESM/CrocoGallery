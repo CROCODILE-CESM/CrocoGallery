{
 "cells": [
  {
   "cell_type": "markdown",
   "id": "46ae3e18-97ea-487e-b5ee-5269e81dbec8",
   "metadata": {},
   "source": [
    "# Demo: Reproducible Features in CrocoDash\n",
    "\n",
    "## Set up a custom regional CESM-MOM6 run using reproducible features\n",
    "\n",
    "A typical workflow of utilizing CrocoDash consists of four main steps:\n",
    "\n",
    "1. Generate a regional MOM6 domain.\n",
    "2. Create the CESM case.\n",
    "3. Prepare ocean forcing data.\n",
    "4. Build and run the case.\n",
    "\n",
    "This notebook demonstrates key reproducibility features in CrocoDash, including interactive case assembly, tides configuration, and `user_nl_mom` block management, which can further streamline this workflow."
   ]
  },
  {
   "cell_type": "markdown",
   "id": "4dd23c09-07b6-4838-8246-9fb855e93b17",
   "metadata": {},
   "source": [
    "All steps are tracked in the provenance files: `README.case`, `case_history.json`, `object_histories.json`, and `user_nl_history.json` for full reproducibility."
   ]
  },
  {
   "cell_type": "markdown",
   "id": "a63cf2a2-c64a-4325-9bf7-1eb7735a4081",
   "metadata": {},
   "source": [
    "# SECTION 1: Assemble a Case from History"
   ]
  },
  {
   "cell_type": "markdown",
   "id": "6993f2e4-9237-4345-8c9d-bb9ff576e838",
   "metadata": {},
   "source": [
    "Use the interactive widget to rebuild a `Case` from global history.\n",
    "\n",
    "You can select `Grid`, `Topo`, `VGrid`, and a forcing configuration from previous runs."
   ]
  },
  {
   "cell_type": "markdown",
   "id": "c2912aa7-bf7b-4a0d-a148-d4686bdd5547",
   "metadata": {},
   "source": [
    "Compatibility checks between objects (e.g., `Grid` and `Topo` attributes) are performed automatically under the hood, so only valid combinations are shown in the UI."
   ]
  },
  {
   "cell_type": "markdown",
   "id": "3a3db491-8fc8-4e3a-9236-c5f557de1f90",
   "metadata": {},
   "source": [
    "## Provenance and reproducibility:\n",
    "\n",
    "* Every selection and instantiation is logged in `case_history.json` and `object_histories.json`.\n",
    "* The `README.case` file is automatically updated with a summary of the configuration and workflow code.\n",
    "* All files and settings used are tracked for future restoration or auditing.\n"
   ]
  },
  {
   "cell_type": "markdown",
   "id": "234efea5-2f27-490b-b1a8-1bb6ed94ab11",
   "metadata": {},
   "source": [
    "After you select the `Grid`, `Topo`, `VGrid`, and forcing configuration, the widget pauses and presents you with a choice:\n",
    "\n",
    "*Generate Forcings*: This option will immediately configure and process the atmospheric and oceanic forcings for your case, updating all relevant configuration and provenance files.\n",
    "\n",
    "*Leave Case As-Is*: This option allows you to build the case without generating forcings, so you can manually configure them later or use further customized workflows."
   ]
  },
  {
   "cell_type": "code",
   "execution_count": 13,
   "id": "8550174e-e984-49a2-ad9c-df85bc2d6d16",
   "metadata": {},
   "outputs": [
    {
     "name": "stdout",
     "output_type": "stream",
     "text": [
      "The autoreload extension is already loaded. To reload it, use:\n",
      "  %reload_ext autoreload\n"
     ]
    }
   ],
   "source": [
    "%load_ext autoreload\n",
    "%autoreload 2"
   ]
  },
  {
   "cell_type": "markdown",
   "id": "e7ef8bac-882b-483a-bc07-1577c89020a1",
   "metadata": {},
   "source": [
    "*The Case Assembler only works if at least one Case has been previously instantiated. Ensure that this has been previously done.*"
   ]
  },
  {
   "cell_type": "code",
   "execution_count": 15,
   "id": "72268da1-e638-468e-8bfb-713adefc38de",
   "metadata": {},
   "outputs": [
    {
     "data": {
      "application/vnd.jupyter.widget-view+json": {
       "model_id": "d8023615ce2b4c93bad741f3469e5a94",
       "version_major": 2,
       "version_minor": 0
      },
      "text/plain": [
       "HTML(value='<h1>Case Assembler</h1>')"
      ]
     },
     "metadata": {},
     "output_type": "display_data"
    },
    {
     "data": {
      "application/vnd.jupyter.widget-view+json": {
       "model_id": "9a026f5901674d47a14207f8e90c7276",
       "version_major": 2,
       "version_minor": 0
      },
      "text/plain": [
       "HBox(children=(VBox(children=(HTML(value='<h2>Grid File:</h2>'), Dropdown(layout=Layout(width='95%'), options=…"
      ]
     },
     "metadata": {},
     "output_type": "display_data"
    },
    {
     "data": {
      "application/vnd.jupyter.widget-view+json": {
       "model_id": "aa91a32e7b8243fb8bc1722cbc1ced1c",
       "version_major": 2,
       "version_minor": 0
      },
      "text/plain": [
       "HBox(children=(VBox(children=(HTML(value='<h2>Topo File:</h2>'), Dropdown(layout=Layout(width='95%'), options=…"
      ]
     },
     "metadata": {},
     "output_type": "display_data"
    },
    {
     "data": {
      "application/vnd.jupyter.widget-view+json": {
       "model_id": "69be0bee81174ee8bdc723fbe1251e49",
       "version_major": 2,
       "version_minor": 0
      },
      "text/plain": [
       "HBox(children=(VBox(children=(HTML(value='<h2>VGrid File:</h2>'), Dropdown(layout=Layout(width='95%'), options…"
      ]
     },
     "metadata": {},
     "output_type": "display_data"
    },
    {
     "data": {
      "application/vnd.jupyter.widget-view+json": {
       "model_id": "c774f77e427a4650974ffa045a125f89",
       "version_major": 2,
       "version_minor": 0
      },
      "text/plain": [
       "VBox(children=(HTML(value='<h2>Select Case for Forcing Config:</h2>'), Dropdown(layout=Layout(width='30%'), op…"
      ]
     },
     "metadata": {},
     "output_type": "display_data"
    },
    {
     "data": {
      "application/vnd.jupyter.widget-view+json": {
       "model_id": "723215f8a31646b8a9ca01665897cb8f",
       "version_major": 2,
       "version_minor": 0
      },
      "text/plain": [
       "Output(layout=Layout(border_bottom='1px solid gray', border_left='1px solid gray', border_right='1px solid gra…"
      ]
     },
     "metadata": {},
     "output_type": "display_data"
    },
    {
     "data": {
      "application/vnd.jupyter.widget-view+json": {
       "model_id": "dddf39f01c4c4a73a92bb4b4d889df5e",
       "version_major": 2,
       "version_minor": 0
      },
      "text/plain": [
       "VBox(children=(HTML(value='<h2>Case Name:</h2>'), Text(value='', layout=Layout(width='30%'), placeholder='Ente…"
      ]
     },
     "metadata": {},
     "output_type": "display_data"
    },
    {
     "data": {
      "application/vnd.jupyter.widget-view+json": {
       "model_id": "31e2f5c9bdbf460383664f437cd99173",
       "version_major": 2,
       "version_minor": 0
      },
      "text/plain": [
       "HBox(children=(Button(button_style='success', description='Assemble Case', layout=Layout(width='30%'), style=B…"
      ]
     },
     "metadata": {},
     "output_type": "display_data"
    },
    {
     "data": {
      "application/vnd.jupyter.widget-view+json": {
       "model_id": "6346840ac7d6418e8602edf739f9e63c",
       "version_major": 2,
       "version_minor": 0
      },
      "text/plain": [
       "Output()"
      ]
     },
     "metadata": {},
     "output_type": "display_data"
    }
   ],
   "source": [
    "from CrocoDash.assemble_case import CaseAssembler\n",
    "\n",
    "# Launch the widget (edit paths as needed)\n",
    "CaseAssembler.assemble_case(\n",
    "    caseroot=\"/glade/u/home/akwong/croc_cases\",\n",
    "    inputdir=\"/glade/u/home/akwong/croc_input\",\n",
    "    cesmroot=\"/glade/work/akwong/cesm_installs/CESM\"\n",
    ")"
   ]
  },
  {
   "cell_type": "markdown",
   "id": "2a063096-9bb5-4a25-9180-fd22949fd0ce",
   "metadata": {},
   "source": [
    "# SECTION 2: Configure and Process Tides\n"
   ]
  },
  {
   "cell_type": "markdown",
   "id": "7ec968f3-cebc-4095-b9dd-383d111f747d",
   "metadata": {},
   "source": [
    "After assembling your case, you can configure tidal constituents and process tides for reproducibility."
   ]
  },
  {
   "cell_type": "markdown",
   "id": "a6f776c8-4a36-42b5-a366-eb7940d0f51b",
   "metadata": {},
   "source": [
    "These actions update both the runtime configuration `user_nl_mom` and the provenance files `README.case`, `case_history.json`, `user_nl_history.json`."
   ]
  },
  {
   "cell_type": "code",
   "execution_count": null,
   "id": "bdd2a6e3-450b-46e6-8d2c-66a18f064a7e",
   "metadata": {},
   "outputs": [],
   "source": [
    "# Example: configure tides for the case\n",
    "case.configure_tides(\n",
    "    tidal_constituents=[\"M2\"],\n",
    "    tpxo_elevation_filepath=\"/glade/derecho/scratch/manishrv/ice/croc/tpxo/h_tpxo9.v1.nc\",\n",
    "    tpxo_velocity_filepath=\"/glade/derecho/scratch/manishrv/ice/croc/tpxo/u_tpxo9.v1.nc\"\n",
    ")\n",
    "\n",
    "# Process tides (generates boundary files and updates user_nl_mom)\n",
    "case.process_tides()"
   ]
  },
  {
   "cell_type": "markdown",
   "id": "cae19d31-edb5-457d-a8b6-54c72f5a60ff",
   "metadata": {},
   "source": [
    "# SECTION 3: Remove and Append Tides in `user_nl_mom`"
   ]
  },
  {
   "cell_type": "markdown",
   "id": "eb637520-8929-44fc-8c48-cbf90a2c6520",
   "metadata": {},
   "source": [
    "You can remove the tides block from `user_nl_mom` and clear related config fields:"
   ]
  },
  {
   "cell_type": "code",
   "execution_count": null,
   "id": "6b263ebc-e772-4c85-8e02-c79bb9c957b8",
   "metadata": {},
   "outputs": [],
   "source": [
    "case.remove_user_nl_block(\"Tides\", clear_config=True)"
   ]
  },
  {
   "cell_type": "markdown",
   "id": "e0d59b11-f410-4c39-818d-9faa92bae0f4",
   "metadata": {},
   "source": [
    "To (re-)append a custom tides block:"
   ]
  },
  {
   "cell_type": "code",
   "execution_count": null,
   "id": "dc243fd6-1d97-489e-865d-a0b76af8e7e5",
   "metadata": {},
   "outputs": [],
   "source": [
    "case.append_user_nl_block(\n",
    "    \"Tides\",\n",
    "    [\n",
    "        (\"TIDES\", \"True\"),\n",
    "        (\"TIDE_M2\", \"True\"),\n",
    "        (\"CD_TIDES\", 0.0018),\n",
    "        (\"TIDE_USE_EQ_PHASE\", \"True\"),\n",
    "        (\"TIDE_REF_DATE\", \"1850, 1, 1\"),\n",
    "        (\"OBC_TIDE_ADD_EQ_PHASE\", \"True\"),\n",
    "        (\"OBC_TIDE_N_CONSTITUENTS\", 1),\n",
    "        (\"OBC_TIDE_CONSTITUENTS\", '\"M2\"'),\n",
    "        (\"OBC_TIDE_REF_DATE\", \"1850, 1, 1\"),\n",
    "    ],\n",
    "    tpxo_elevation_filepath=\"/glade/derecho/scratch/manishrv/ice/croc/tpxo/h_tpxo9.v1.nc\",\n",
    "    tpxo_velocity_filepath=\"/glade/derecho/scratch/manishrv/ice/croc/tpxo/u_tpxo9.v1.nc\"\n",
    ")"
   ]
  },
  {
   "cell_type": "markdown",
   "id": "d8b205c6-fa62-4e2c-ae37-55bcd0a1c13d",
   "metadata": {},
   "source": [
    "# SECTION 4: Undo/Redo `user_nl_mom` Changes"
   ]
  },
  {
   "cell_type": "markdown",
   "id": "9b5437e0-aa1e-4f11-8ae6-9fe04872ac0c",
   "metadata": {},
   "source": [
    "You can undo or redo changes to `user_nl_mom` for full reproducibility:"
   ]
  },
  {
   "cell_type": "code",
   "execution_count": null,
   "id": "a885dbe9-1db7-40b7-8d53-49ffb79dee5a",
   "metadata": {},
   "outputs": [],
   "source": [
    "from visualCaseGen.custom_widget_types.case_tools import undo_user_nl, redo_user_nl\n",
    "\n",
    "# Undo the last user_nl change\n",
    "undo_user_nl(case.caseroot, do_exec=True, case_obj=case)\n",
    "\n",
    "# Redo the last undone user_nl change\n",
    "redo_user_nl(case.caseroot, do_exec=True, case_obj=case)"
   ]
  },
  {
   "cell_type": "markdown",
   "id": "767847bd-bf6d-47e1-a189-75143e123cc3",
   "metadata": {},
   "source": [
    "This is useful for exploring different configurations or reverting mistakes."
   ]
  },
  {
   "cell_type": "markdown",
   "id": "9593af58-f943-4edd-98c1-a6041ca06799",
   "metadata": {},
   "source": [
    "*Tip:*\n",
    "All changes to `user_nl_mom` blocks and tides configuration are logged and can be traced in the case history files for full provenance. Read more on the documentation regarding reproducibility in CrocoDash here: _____TO BE MADE DOCS_____"
   ]
  },
  {
   "cell_type": "code",
   "execution_count": null,
   "id": "f08ff6e1-51a8-4605-a772-fc7505075aaf",
   "metadata": {},
   "outputs": [],
   "source": []
  }
 ],
 "metadata": {
  "kernelspec": {
   "display_name": "Python [conda env:CrocoDash]",
   "language": "python",
   "name": "conda-env-CrocoDash-py"
  },
  "language_info": {
   "codemirror_mode": {
    "name": "ipython",
    "version": 3
   },
   "file_extension": ".py",
   "mimetype": "text/x-python",
   "name": "python",
   "nbconvert_exporter": "python",
   "pygments_lexer": "ipython3",
   "version": "3.11.13"
  }
 },
 "nbformat": 4,
 "nbformat_minor": 5
}
