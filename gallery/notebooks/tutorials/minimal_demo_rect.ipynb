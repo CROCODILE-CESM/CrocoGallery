{
   "cells": [
      {
         "cell_type": "markdown",
         "metadata": {},
         "source": [
            "# Set up a rectangular regional CESM-MOM6 run\n",
            "\n",
            "A typical workflow of utilizing CrocoDash consists of four main steps:\n",
            "\n",
            "1. Generate a regional MOM6 domain.\n",
            "2. Create the CESM case.\n",
            "3. Prepare ocean forcing data.\n",
            "4. Build and run the case."
         ]
      },
      {
         "cell_type": "markdown",
         "metadata": {},
         "source": [
            "# SECTION 1: Generate a regional MOM6 domain\n",
            "\n",
            "We begin by defining a regional MOM6 domain using CrocoDash. To do so, we first generate a horizontal grid. We then generate the topography by remapping an existing bathymetric dataset to our horizontal grid. Finally, we define a vertical grid."
         ]
      },
      {
         "cell_type": "markdown",
         "metadata": {},
         "source": [
            "## Step 1.1: Horizontal Grid"
         ]
      },
      {
         "cell_type": "code",
         "execution_count": 7,
         "metadata": {},
         "outputs": [],
         "source": [
            "from CrocoDash.grid import Grid\n",
            "\n",
            "grid = Grid(\n",
            "  resolution = 0.01,\n",
            "  xstart = 278.0,\n",
            "  lenx = 1.0,\n",
            "  ystart = 7.0,\n",
            "  leny = 1.0,\n",
            "  name = \"panama1\",\n",
            ")"
         ]
      },
      {
         "cell_type": "markdown",
         "metadata": {},
         "source": [
            "## Step 1.2: Topography"
         ]
      },
      {
         "cell_type": "code",
         "execution_count": 8,
         "metadata": {},
         "outputs": [],
         "source": [
            "from CrocoDash.topo import Topo\n",
            "\n",
            "topo = Topo(\n",
            "    grid = grid,\n",
            "    min_depth = 9.5,\n",
            ")"
         ]
      },
      {
         "cell_type": "code",
         "execution_count": 9,
         "metadata": {},
         "outputs": [
            {
               "name": "stdout",
               "output_type": "stream",
               "text": [
                  "Begin regridding bathymetry...\n",
                  "\n",
                  "Original bathymetry size: 1.85 Mb\n",
                  "Regridded size: 0.24 Mb\n",
                  "Automatic regridding may fail if your domain is too big! If this process hangs or crashes,open a terminal with appropriate computational and resources try calling ESMF directly in the input directory None via\n",
                  "\n",
                  "`mpirun -np NUMBER_OF_CPUS ESMF_Regrid -s bathymetry_original.nc -d bathymetry_unfinished.nc -m bilinear --src_var depth --dst_var depth --netcdf4 --src_regional --dst_regional`\n",
                  "\n",
                  "For details see https://xesmf.readthedocs.io/en/latest/large_problems_on_HPC.html\n",
                  "\n",
                  "Afterwards, we run the 'expt.tidy_bathymetry' method to skip the expensive interpolation step, and finishing metadata, encoding and cleanup.\n",
                  "\n",
                  "\n",
                  "\n",
                  "Regridding successful! Now calling `tidy_bathymetry` method for some finishing touches...\n",
                  "setup bathymetry has finished successfully.\n",
                  "Tidy bathymetry: Reading in regridded bathymetry to fix up metadata...done. Filling in inland lakes and channels... "
               ]
            }
         ],
         "source": [
            "bathymetry_path='/home/manishrv/inputs_rm6/gebco/GEBCO_2024.nc'\n",
            "\n",
            "topo.interpolate_from_file(\n",
            "    file_path = bathymetry_path,\n",
            "    longitude_coordinate_name=\"lon\",\n",
            "    latitude_coordinate_name=\"lat\",\n",
            "    vertical_coordinate_name=\"elevation\"\n",
            ")"
         ]
      },
      {
         "cell_type": "markdown",
         "metadata": {},
         "source": [
            "**TODO:** when the above topo.interpolate_from_file() method is called with the original GEBCO dataset, the interpolation fails do to large computational demand when run on login nodes. Check if there is a failsafe way, or at least, a means to precaution the user.\n",
            "\n",
            "**TODO:** Make required data available online (not just on glade)."
         ]
      },
      {
         "cell_type": "code",
         "execution_count": 10,
         "metadata": {},
         "outputs": [
            {
               "data": {
                  "text/plain": [
                     "<matplotlib.collections.QuadMesh at 0x350834200>"
                  ]
               },
               "execution_count": 10,
               "metadata": {},
               "output_type": "execute_result"
            },
            {
               "data": {
                  "image/png": "[encoded data removed]",
                  "text/plain": [
                     "<Figure size 640x480 with 2 Axes>"
                  ]
               },
               "metadata": {},
               "output_type": "display_data"
            }
         ],
         "source": [
            "topo.depth.plot()"
         ]
      },
      {
         "cell_type": "code",
         "execution_count": 9,
         "metadata": {},
         "outputs": [
            {
               "data": {
                  "application/vnd.jupyter.widget-view+json": {
                     "model_id": "5c2fdb71852e457c9e899df79074870b",
                     "version_major": 2,
                     "version_minor": 0
                  },
                  "text/plain": [
                     "TopoEditor(children=(VBox(children=(HTML(value='<h2>Topo Editor</h2>'), HTML(value='<hr><h3>Display</h3>'), To…"
                  ]
               },
               "execution_count": 9,
               "metadata": {},
               "output_type": "execute_result"
            }
         ],
         "source": [
            "# Erase Pacific & Canada Bays\n",
            "%matplotlib ipympl\n",
            "from CrocoDash.topo_editor import TopoEditor\n",
            "topo.depth[\"units\"] = \"m\"\n",
            "TopoEditor(topo)"
         ]
      },
      {
         "cell_type": "markdown",
         "metadata": {},
         "source": [
            "## Step 1.3: Vertical Grid"
         ]
      },
      {
         "cell_type": "code",
         "execution_count": null,
         "metadata": {},
         "outputs": [],
         "source": [
            "from CrocoDash.vgrid import VGrid\n",
            "\n",
            "vgrid  = VGrid.hyperbolic(\n",
            "    nk = 75,\n",
            "    depth = topo.max_depth,\n",
            "    ratio=20.0\n",
            ")"
         ]
      },
      {
         "cell_type": "code",
         "execution_count": null,
         "metadata": {},
         "outputs": [
            {
               "name": "stdout",
               "output_type": "stream",
               "text": [
                  "[0.21694419 0.21831456 0.21993735 0.22185878 0.22413343 0.22682572\n",
                  " 0.23001158 0.23378048 0.23823767 0.24350685 0.24973312 0.2570864\n",
                  " 0.26576522 0.27600092 0.28806219 0.30225995 0.31895235 0.33854966\n",
                  " 0.36151882 0.38838707 0.41974408 0.45624165 0.49859003 0.54754938\n",
                  " 0.60391517 0.66849579 0.74208109 0.82540104 0.91907437 1.02354865\n",
                  " 1.13903497 1.26544263 1.40232117 1.54881896 1.70366733 1.86519807\n",
                  " 2.03139814 2.20000036 2.36860259 2.53480266 2.69633339 2.85118177\n",
                  " 2.99767955 3.1345581  3.26096575 3.37645208 3.48092636 3.57459969\n",
                  " 3.65791963 3.73150494 3.79608556 3.85245135 3.9014107  3.94375907\n",
                  " 3.98025665 4.01161366 4.03848191 4.06145107 4.08104838 4.09774077\n",
                  " 4.11193854 4.12399981 4.13423551 4.14291433 4.15026761 4.15649388\n",
                  " 4.16176306 4.16622025 4.16998915 4.17317501 4.1758673  4.17814195\n",
                  " 4.18006338 4.18168617 4.18305654]\n"
               ]
            }
         ],
         "source": [
            "print(vgrid.dz)"
         ]
      },
      {
         "cell_type": "code",
         "execution_count": null,
         "metadata": {},
         "outputs": [],
         "source": [
            "import matplotlib.pyplot as plt\n",
            "plt.close()\n",
            "# Create the plot\n",
            "for depth in vgrid.z:\n",
            "    plt.axhline(y=depth, linestyle='-')  # Horizontal lines\n",
            "\n",
            "plt.ylim(max(vgrid.z) + 10, min(vgrid.z) - 10)  # Invert y-axis so deeper values go down\n",
            "plt.ylabel(\"Depth\")\n",
            "plt.title(\"Vertical Grid\")\n",
            "plt.show()"
         ]
      },
      {
         "cell_type": "markdown",
         "metadata": {},
         "source": [
            "# SECTION 2: Create the CESM case\n",
            "\n",
            "After generating the MOM6 domain, the next step is to create a CESM case using CrocoDash. This process is straightforward and involves instantiating the CrocoDash Case object. The Case object requires the following inputs:\n",
            "\n",
            " - CESM Source Directory: A local path to a compatible CESM source copy.\n",
            " - Case Name: A unique name for the CESM case.\n",
            " - Input Directory: The directory where all necessary input files will be written.\n",
            " - MOM6 Domain Objects: The horizontal grid, topography, and vertical grid created in the previous section.\n",
            " - Project ID: (Optional) A project ID, if required by the machine."
         ]
      },
      {
         "cell_type": "markdown",
         "metadata": {},
         "source": [
            "## Step 2.1: Specify case name and directories:\n",
            "\n",
            "Begin by specifying the case name and the necessary directory paths. Ensure the CESM root directory points to your own local copy of CESM. Below is an example setup:"
         ]
      },
      {
         "cell_type": "code",
         "execution_count": 7,
         "metadata": {},
         "outputs": [],
         "source": [
            "from pathlib import Path"
         ]
      },
      {
         "cell_type": "code",
         "execution_count": 8,
         "metadata": {},
         "outputs": [],
         "source": [
            "# CESM case (experiment) name\n",
            "casename = \"panama-1\"\n",
            "\n",
            "# CESM source root (Update this path accordingly!!!)\n",
            "cesmroot =Path.home() /\"CROCESM\"\n",
            "\n",
            "# Place where all your input files go \n",
            "inputdir = Path.home() / \"croc_input\" / casename\n",
            "    \n",
            "# CESM case directory\n",
            "caseroot = Path.home() / \"croc_cases\" / casename"
         ]
      },
      {
         "cell_type": "markdown",
         "metadata": {},
         "source": [
            "## Step 2.2: Create the Case\n",
            "\n",
            "To create the CESM case, instantiate the `Case` object as shown below. This will automatically set up the CESM case based on the provided inputs: The `cesmroot` argument specifies the path to your local CESM source directory.\n",
            "The `caseroot` argument defines the directory where the case will be created. CrocoDash will handle all necessary namelist modifications and XML changes to align with the MOM6 domain objects generated earlier."
         ]
      },
      {
         "cell_type": "code",
         "execution_count": 9,
         "metadata": {},
         "outputs": [
            {
               "name": "stderr",
               "output_type": "stream",
               "text": [
                  "INFO:  csp_solver:CspSolver initialized.\n"
               ]
            },
            {
               "name": "stdout",
               "output_type": "stream",
               "text": [
                  "\u001b[01;96mCreating case...\u001b[0m\n",
                  "\n",
                  "• Updating ccs_config/modelgrid_aliases_nuopc.xml file to include the new resolution \"panama-1\" consisting of the following component grids.\n",
                  " atm grid: \"TL319\", lnd grid: \"TL319\", ocn grid: \"panama1\".\n",
                  "\n",
                  "• Updating ccs_config/component_grids_nuopc.xml file to include newly generated ocean grid \"panama1\" with the following properties:\n",
                  " nx: 10, ny: 10. ocean mesh: /home/manishrv/croc_input/panama-1/ocnice/ESMF_mesh_panama1_a36b81.nc.\u001b[0m\n",
                  "\n",
                  "\u001b[01;96mRunning the create_newcase tool with the following command:\u001b[0m\n",
                  "\n",
                  "/home/manishrv/CROCESM/cime/scripts/create_newcase --compset 1850_DATM%JRA_SLND_SICE_MOM6_SROF_SGLC_SWAV --res panama-1 --case /home/manishrv/croc_cases/panama-1 --machine ubuntu-latest --run-unsupported --project NCGD0011 \n",
                  "\n",
                  "\u001b[01;96mThe create_newcase command was successful.\u001b[0m\n",
                  "\n",
                  "\u001b[01;96mNavigating to the case directory:\u001b[0m\n",
                  "\n",
                  "cd /home/manishrv/croc_cases/panama-1\n",
                  "\n",
                  "\u001b[01;96mApply NTASK grid xml changes:\u001b[0m\n",
                  "\n",
                  "./xmlchange NTASKS_OCN=2\n",
                  "\n",
                  "\u001b[01;96mRunning the case.setup script with the following command:\u001b[0m\n",
                  "\n",
                  "./case.setup\n",
                  "\n",
                  "\u001b[01;96mAdding parameter changes to user_nl_mom:\u001b[0m\n",
                  "\n",
                  "  ! Custom Horizonal Grid, Topography, and Vertical Grid\n",
                  "  INPUTDIR = /home/manishrv/croc_input/panama-1/ocnice\n",
                  "  TRIPOLAR_N = False\n",
                  "  REENTRANT_X = False\n",
                  "  REENTRANT_Y = False\n",
                  "  NIGLOBAL = 10\n",
                  "  NJGLOBAL = 10\n",
                  "  GRID_CONFIG = mosaic\n",
                  "  GRID_FILE = ocean_hgrid_panama1_a36b81.nc\n",
                  "  TOPO_CONFIG = file\n",
                  "  TOPO_FILE = ocean_topog_panama1_a36b81.nc\n",
                  "  MAXIMUM_DEPTH = 2263.7500160552345\n",
                  "  MINIMUM_DEPTH = 9.5\n",
                  "  NK = 75\n",
                  "  COORD_CONFIG = none\n",
                  "  ALE_COORDINATE_CONFIG = FILE:ocean_vgrid_panama1_a36b81.nc\n",
                  "  REGRIDDING_COORDINATE_MODE = Z*\n",
                  "\n",
                  "  ! Timesteps (based on grid resolution)\n",
                  "  DT = 50.0\n",
                  "  DT_THERM = 200.0\n",
                  "\n"
               ]
            },
            {
               "name": "stderr",
               "output_type": "stream",
               "text": [
                  "INFO:\tstage:SUCCESS: All stages are complete.\n"
               ]
            },
            {
               "name": "stdout",
               "output_type": "stream",
               "text": [
                  "\u001b[1;32mCase created successfully at /home/manishrv/croc_cases/panama-1.\u001b[0m\n",
                  "\n",
                  "\u001b[01;96mTo further customize, build, and run the case, navigate to the case directory in your terminal. To create another case, restart the notebook.\u001b[0m\n",
                  "\n"
               ]
            }
         ],
         "source": [
            "from CrocoDash.case import Case\n",
            "import os\n",
            "os.environ[\"CIME_MACHINE\"] = \"ubuntu-latest\"\n",
            "case = Case(\n",
            "    cesmroot = cesmroot,\n",
            "    caseroot = caseroot,\n",
            "    inputdir = inputdir,\n",
            "    ocn_grid = grid,\n",
            "    ocn_vgrid = vgrid,\n",
            "    ocn_topo = topo,\n",
            "    project = 'NCGD0011',\n",
            "    override = True,\n",
            "    machine = \"ubuntu-latest\"\n",
            ")"
         ]
      },
      {
         "cell_type": "markdown",
         "metadata": {},
         "source": [
            "# Section 3: Prepare ocean forcing data\n",
            "\n",
            "We need to cut out our ocean forcing. The package expects an initial condition and one time-dependent segment per non-land boundary. Naming convention is `\"east_unprocessed\"` for segments and `\"ic_unprocessed\"` for the initial condition.\n",
            "\n",
            "In this notebook, we are forcing with the Copernicus Marine \"Glorys\" reanalysis dataset. There's a function in the `CrocoDash` package, called `configure_forcings`, that generates a bash script to download the correct boundary forcing files for your experiment. First, you will need to create an account with Copernicus, and then call `copernicusmarine login` to set up your login details on your machine. Then you can run the `get_glorys_data.sh` bash script.\n",
            "\n",
            "## Step 3.1 Configure Initial Conditions and Forcings\n"
         ]
      },
      {
         "cell_type": "code",
         "execution_count": null,
         "metadata": {},
         "outputs": [
            {
               "name": "stdout",
               "output_type": "stream",
               "text": [
                  "2025-04-18 20:57:11,852 - CrocoDash.data_access.driver.load_functions - INFO - Functions have already been loaded. To reload, set self._loaded_functions to False\n"
               ]
            },
            {
               "name": "stderr",
               "output_type": "stream",
               "text": [
                  "INFO:CrocoDash.data_access.driver:Functions have already been loaded. To reload, set self._loaded_functions to False\n",
                  "INFO:CrocoDash.data_access.datasets.glorys:This data access method retuns a script at path /tmp/tmprkw8warb/get_glorys_data.sh to run to get access data \n"
               ]
            }
         ],
         "source": [
            "case.configure_forcings(\n",
            "    date_range = [\"2020-01-01 00:00:00\", \"2020-01-09 00:00:00\"]\n",
            ")"
         ]
      },
      {
         "cell_type": "markdown",
         "metadata": {},
         "source": [
            "## Step 3.2 Run `get_glorys_data.sh`\n",
            "\n",
            "In a terminal session, locate the `get_glorys_data.sh` script and execute it to download the initial conditions and boundary conditions. Follow the instructions printed by the `configure_forcings` method above.\n"
         ]
      },
      {
         "cell_type": "markdown",
         "metadata": {},
         "source": [
            "**TODO:** user copernicusmarine python API within CrocoDash, instead of directing users to run it via CLI. Also, on a derecho login node, both CLI and API fails to run due to the computational demand. We also need to address that."
         ]
      },
      {
         "cell_type": "markdown",
         "metadata": {},
         "source": [
            "##  Step 3.3: Process forcing data\n",
            "\n",
            "In this final step, we call the `process_forcings` method of CrocoDash to cut out and interpolate the initial condition as well as all boundaries. CrocoDash also updates MOM6 runtime parameters and CESM xml variables accordingly."
         ]
      },
      {
         "cell_type": "code",
         "execution_count": null,
         "metadata": {},
         "outputs": [
            {
               "name": "stdout",
               "output_type": "stream",
               "text": [
                  "Large data workflow was called, so boundary conditions will not be processed.\n",
                  "Please make sure to execute large_data_workflow as described in /home/manishrv/croc_input/panama-1/glorys/large_data_workflow\n",
                  "\u001b[01;96mAdding parameter changes to user_nl_mom:\u001b[0m\n",
                  "\n",
                  "  ! Initial conditions\n",
                  "  INIT_LAYERS_FROM_Z_FILE = True\n",
                  "  TEMP_SALT_Z_INIT_FILE = init_tracers.nc\n",
                  "  Z_INIT_FILE_PTEMP_VAR = temp\n",
                  "  Z_INIT_ALE_REMAPPING = True\n",
                  "  TEMP_SALT_INIT_VERTICAL_REMAP_ONLY = True\n",
                  "  DEPRESS_INITIAL_SURFACE = True\n",
                  "  SURFACE_HEIGHT_IC_FILE = init_eta.nc\n",
                  "  SURFACE_HEIGHT_IC_VAR = eta_t\n",
                  "  VELOCITY_CONFIG = file\n",
                  "  VELOCITY_FILE = init_vel.nc\n",
                  "\n",
                  "  ! Tides\n",
                  "  TIDES = True\n",
                  "  TIDE_M2 = True\n",
                  "  CD_TIDES = 0.0018\n",
                  "  TIDE_USE_EQ_PHASE = True\n",
                  "  TIDE_REF_DATE = 2020, 1, 1\n",
                  "  OBC_TIDE_ADD_EQ_PHASE = True\n",
                  "  OBC_TIDE_N_CONSTITUENTS = 1\n",
                  "  OBC_TIDE_CONSTITUENTS = \"M2\"\n",
                  "  OBC_TIDE_REF_DATE = 2020, 1, 1\n",
                  "\n",
                  "  ! Open boundary conditions\n",
                  "  OBC_NUMBER_OF_SEGMENTS = 4\n",
                  "  OBC_FREESLIP_VORTICITY = False\n",
                  "  OBC_FREESLIP_STRAIN = False\n",
                  "  OBC_COMPUTED_VORTICITY = True\n",
                  "  OBC_COMPUTED_STRAIN = True\n",
                  "  OBC_ZERO_BIHARMONIC = True\n",
                  "  OBC_TRACER_RESERVOIR_LENGTH_SCALE_OUT = 3.0E+04\n",
                  "  OBC_TRACER_RESERVOIR_LENGTH_SCALE_IN = 3000.0\n",
                  "  BRUSHCUTTER_MODE = True\n",
                  "  OBC_SEGMENT_001 = \"J=0,I=0:N,FLATHER,ORLANSKI,NUDGED,ORLANSKI_TAN,NUDGED_TAN\"\n",
                  "  OBC_SEGMENT_001_VELOCITY_NUDGING_TIMESCALES = 0.3, 360.0\n",
                  "  OBC_SEGMENT_001_DATA = \"U=file:forcing_obc_segment_001.nc(u),V=file:forcing_obc_segment_001.nc(v),SSH=file:forcing_obc_segment_001.nc(eta),TEMP=file:forcing_obc_segment_001.nc(temp),SALT=file:forcing_obc_segment_001.nc(salt),Uamp=file:tu_segment_001.nc(uamp),Uphase=file:tu_segment_001.nc(uphase),Vamp=file:tu_segment_001.nc(vamp),Vphase=file:tu_segment_001.nc(vphase),SSHamp=file:tz_segment_001.nc(zamp),SSHphase=file:tz_segment_001.nc(zphase)\"\n",
                  "  OBC_SEGMENT_002 = \"J=N,I=N:0,FLATHER,ORLANSKI,NUDGED,ORLANSKI_TAN,NUDGED_TAN\"\n",
                  "  OBC_SEGMENT_002_VELOCITY_NUDGING_TIMESCALES = 0.3, 360.0\n",
                  "  OBC_SEGMENT_002_DATA = \"U=file:forcing_obc_segment_002.nc(u),V=file:forcing_obc_segment_002.nc(v),SSH=file:forcing_obc_segment_002.nc(eta),TEMP=file:forcing_obc_segment_002.nc(temp),SALT=file:forcing_obc_segment_002.nc(salt),Uamp=file:tu_segment_002.nc(uamp),Uphase=file:tu_segment_002.nc(uphase),Vamp=file:tu_segment_002.nc(vamp),Vphase=file:tu_segment_002.nc(vphase),SSHamp=file:tz_segment_002.nc(zamp),SSHphase=file:tz_segment_002.nc(zphase)\"\n",
                  "  OBC_SEGMENT_003 = \"I=0,J=N:0,FLATHER,ORLANSKI,NUDGED,ORLANSKI_TAN,NUDGED_TAN\"\n",
                  "  OBC_SEGMENT_003_VELOCITY_NUDGING_TIMESCALES = 0.3, 360.0\n",
                  "  OBC_SEGMENT_003_DATA = \"U=file:forcing_obc_segment_003.nc(u),V=file:forcing_obc_segment_003.nc(v),SSH=file:forcing_obc_segment_003.nc(eta),TEMP=file:forcing_obc_segment_003.nc(temp),SALT=file:forcing_obc_segment_003.nc(salt),Uamp=file:tu_segment_003.nc(uamp),Uphase=file:tu_segment_003.nc(uphase),Vamp=file:tu_segment_003.nc(vamp),Vphase=file:tu_segment_003.nc(vphase),SSHamp=file:tz_segment_003.nc(zamp),SSHphase=file:tz_segment_003.nc(zphase)\"\n",
                  "  OBC_SEGMENT_004 = \"I=N,J=0:N,FLATHER,ORLANSKI,NUDGED,ORLANSKI_TAN,NUDGED_TAN\"\n",
                  "  OBC_SEGMENT_004_VELOCITY_NUDGING_TIMESCALES = 0.3, 360.0\n",
                  "  OBC_SEGMENT_004_DATA = \"U=file:forcing_obc_segment_004.nc(u),V=file:forcing_obc_segment_004.nc(v),SSH=file:forcing_obc_segment_004.nc(eta),TEMP=file:forcing_obc_segment_004.nc(temp),SALT=file:forcing_obc_segment_004.nc(salt),Uamp=file:tu_segment_004.nc(uamp),Uphase=file:tu_segment_004.nc(uphase),Vamp=file:tu_segment_004.nc(vamp),Vphase=file:tu_segment_004.nc(vphase),SSHamp=file:tz_segment_004.nc(zamp),SSHphase=file:tz_segment_004.nc(zphase)\"\n",
                  "\n",
                  "./xmlchange RUN_STARTDATE=2020-01-01\n",
                  "\n",
                  "./xmlchange MOM6_MEMORY_MODE=dynamic_symmetric\n",
                  "\n",
                  "Case is ready to be built: /home/manishrv/croc_cases/panama-1\n"
               ]
            }
         ],
         "source": [
            "case.process_forcings()"
         ]
      },
      {
         "cell_type": "markdown",
         "metadata": {},
         "source": [
            "# Section 4: Build and run the case\n",
            "\n",
            "After completing the previous steps, you are ready to build and run your CESM case. Begin by navigating to the case root directory specified during the case creation. Before proceeding, review the `user_nl_mom` file located in the case directory. This file contains MOM6 parameter settings that were automatically generated by CrocoDash. Carefully examine these parameters and make any necessary adjustments to fine-tune the model for your specific requirements. While CrocoDash aims to provide a solid starting point, further tuning and adjustments are typically necessary to improve the model for your use case.\n",
            "\n",
            "Once you have reviewed and modified the parameters as needed, you can build and execute the case using the following commands: \n",
            "```\n",
            "./case.build\n",
            "./case.submit\n",
            "```"
         ]
      }
   ],
   "metadata": {
      "kernelspec": {
         "display_name": "CrocoDash",
         "language": "python",
         "name": "python3"
      },
      "language_info": {
         "codemirror_mode": {
            "name": "ipython",
            "version": 3
         },
         "file_extension": ".py",
         "mimetype": "text/x-python",
         "name": "python",
         "nbconvert_exporter": "python",
         "pygments_lexer": "ipython3",
         "version": "3.12.10"
      }
   },
   "nbformat": 4,
   "nbformat_minor": 4
}
