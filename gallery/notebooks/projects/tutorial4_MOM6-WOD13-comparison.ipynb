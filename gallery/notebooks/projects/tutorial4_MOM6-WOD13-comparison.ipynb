{
 "cells": [
  {
   "cell_type": "markdown",
   "id": "0",
   "metadata": {},
   "source": [
    "# Model-Observation comparison with MOM6 and World Ocean Database\n",
    "\n",
    "The goal of this notebook is to get familiar with the basics of using CrocoCamp to interpolate MOM6 output onto the space of observations stored in the World Ocean Database (WOD). We will use output from a MOM6 run already stored on NCAR's HPC system, and WOD13 observation files already in obs_seq format and also stored on NCAR's HPC system.\n",
    "\n",
    "#### Installing CrocoCamp\n",
    "\n",
    "If you don't have CrocoCamp set up yet, [here](https://github.com/CROCODILE-CESM/CrocoCamp/tree/2025-Crocodile-Workshop) are the instructions to install it on NCAR's HPC. If you have any issues or need to install it on a different machine, please contact <enrico.milanese@whoi.edu>.\n",
    "\n",
    "## Running the workflow with custom config options\n",
    "\n",
    "This notebook uses the same MOM6 files of tutorials 1 and 2, but different observations and output paths. We can either generate a new config file using as reference of from those tutorials (e.g. see `config_tutorial_3.yaml`), or we can generate a workflow with one of the old templates, and override the paths that are different. While using a config file is the recommended way as it helps keep better track of our workflow, overriding parameters can come handy during exploratory phases. I'll do the latter to demonstrate this option in CrocoCamp. \n",
    "\n",
    "Remember that you need to be running the workflow on Casper, as the configuration settings point to DART's installation on that machine."
   ]
  },
  {
   "cell_type": "code",
   "execution_count": null,
   "id": "5e3e260e-2e12-428f-9d61-7e714b0df082",
   "metadata": {},
   "outputs": [],
   "source": [
    "from crococamp.workflows import WorkflowModelObs\n",
    "\n",
    "# Create and run workflow to interpolate MOM6 model onto World Ocean Database obs space\n",
    "workflow_WOD13 = WorkflowModelObs.from_config_file(\n",
    "    'config_tutorial_1.yaml', \n",
    "    obs_seq_in_folder = '/glade/campaign/cgd/oce/projects/CROCODILE/workshops/2025/CrocoCamp/tutorial_3/in_WOD13/',\n",
    "    output_folder='$WORK/crocodile_2025/CrocoCamp/tutorial_3/out_obs_seq_in/',\n",
    "    input_nml_bck='$WORK/crocodile_2025/CrocoCamp/tutorial_3/input_bckp/',\n",
    "    trimmed_obs_folder='$WORK/crocodile_2025/CrocoCamp/tutorial_3/out_trimmed_obs_seq_in/',\n",
    "    parquet_folder='$WORK/crocodile_2025/CrocoCamp/tutorial_3/out_parquet/',\n",
    "    tmp_folder='$WORK/crocodile_2025/CrocoCamp/tutorial_3/tmp/'\n",
    ")\n",
    "workflow_WOD13.run(clear_output=True) #use flag clear_output=True if you want to re-run it and automatically clean all previous output"
   ]
  },
  {
   "cell_type": "markdown",
   "id": "5d779b7e-5283-4f73-b3b9-3ed55f151ef0",
   "metadata": {},
   "source": [
    "## Displaying the interactive map\n",
    "\n",
    "CrocoCamp generates a parquet dataset that contains the values of the WOD observations, the MOM6 model data interpolated onto the observations space, and some basic statistics.\n",
    "\n",
    "You can load and explore the data using pandas (CrocoCamp supports also dask for large datasets)."
   ]
  },
  {
   "cell_type": "code",
   "execution_count": null,
   "id": "5fec2851-e4a6-4906-8c21-30e32ab8b448",
   "metadata": {},
   "outputs": [],
   "source": [
    "good_model_obs_df = workflow_WOD13.get_good_model_obs_df(compute=True) # compute=True triggers the compute of the dask dataframe, returning a pandas dataframe with data loaded in memory\n",
    "good_model_obs_df.head()                                                   # displays first 5 rows in the dataframe"
   ]
  },
  {
   "cell_type": "markdown",
   "id": "cca9ce87-3c56-4e19-ac78-42ff4e838964",
   "metadata": {},
   "source": [
    "Loading the interactive map is as simple as importing the widget and passing the dataframe to it:"
   ]
  },
  {
   "cell_type": "code",
   "execution_count": null,
   "id": "92214808-86f4-41ac-837a-973ebc03ce77",
   "metadata": {},
   "outputs": [],
   "source": [
    "from crococamp.viz import InteractiveWidgetMap\n",
    "# Create an interactive map widget to visualize model-observation comparisons\n",
    "# The widget provides controls for selecting variables, observation types, and time ranges\n",
    "widget = InteractiveWidgetMap(good_model_obs_df)\n",
    "widget.setup()"
   ]
  }
 ],
 "metadata": {
  "kernelspec": {
   "display_name": "Python [conda env:my-crococamp-2025]",
   "language": "python",
   "name": "conda-env-my-crococamp-2025-py"
  },
  "language_info": {
   "codemirror_mode": {
    "name": "ipython",
    "version": 3
   },
   "file_extension": ".py",
   "mimetype": "text/x-python",
   "name": "python",
   "nbconvert_exporter": "python",
   "pygments_lexer": "ipython3",
   "version": "3.12.0"
  }
 },
 "nbformat": 4,
 "nbformat_minor": 5
}
