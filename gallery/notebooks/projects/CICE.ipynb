{
 "cells": [
  {
   "cell_type": "markdown",
   "metadata": {},
   "source": [
    "# CICE-MOM6 \n",
    "\n",
    "We'll go through these steps:\n",
    "\n",
    "1. Generate a regional MOM6 domain.\n",
    "2. Create the CESM case.\n",
    "3. Prepare ocean forcing data.\n",
    "4. Generate the regional CICE grid.\n",
    "5. Build and run the case.\n",
    "\n",
    "Remember to swap your environment to CrocoDash first!"
   ]
  },
  {
   "cell_type": "markdown",
   "metadata": {},
   "source": [
    "# Section 1: Generate a regional MOM6 domain\n",
    "\n",
    "We begin by defining a regional MOM6 domain using CrocoDash. To do so, we first generate a horizontal grid. We then generate the topography by remapping an existing bathymetric dataset to our horizontal grid. Finally, we define a vertical grid."
   ]
  },
  {
   "cell_type": "markdown",
   "metadata": {},
   "source": [
    "## Step 1.1: Horizontal Grid\n",
    "\n",
    "The horizontal grid described below is from the Antarctic domain (https://maps.app.goo.gl/WLLzioPgahQpLMSK8 - near the Mendel station) at 60°W, 64°S."
   ]
  },
  {
   "cell_type": "code",
   "execution_count": null,
   "metadata": {},
   "outputs": [],
   "source": [
    "from CrocoDash.grid import Grid\n",
    "\n",
    "grid = Grid(\n",
    "  resolution = 0.01,\n",
    "  xstart = 300.0,\n",
    "  lenx = 4.0,\n",
    "  ystart = -64.0,\n",
    "  leny = 4.0,\n",
    "  name = \"antarctica2\",\n",
    ")"
   ]
  },
  {
   "cell_type": "markdown",
   "metadata": {},
   "source": [
    "## Step 1.2: Topography"
   ]
  },
  {
   "cell_type": "code",
   "execution_count": null,
   "metadata": {},
   "outputs": [],
   "source": [
    "from CrocoDash.topo import Topo\n",
    "\n",
    "topo = Topo(\n",
    "    grid = grid,\n",
    "    min_depth = 9.5,\n",
    ")"
   ]
  },
  {
   "cell_type": "markdown",
   "metadata": {},
   "source": [
    "Swap your `bathymetry_path` accordingly below. Grab your data from: https://www.gebco.net/data-products/gridded-bathymetry-data"
   ]
  },
  {
   "cell_type": "code",
   "execution_count": null,
   "metadata": {},
   "outputs": [],
   "source": [
    "bathymetry_path='<GEBCO>' # Swap this!\n",
    "\n",
    "topo.interpolate_from_file(\n",
    "    file_path = bathymetry_path,\n",
    "    longitude_coordinate_name=\"lon\",\n",
    "    latitude_coordinate_name=\"lat\",\n",
    "    vertical_coordinate_name=\"elevation\",\n",
    "    write_to_file = True\n",
    ")"
   ]
  },
  {
   "cell_type": "markdown",
   "metadata": {},
   "source": [
    "**TODO:** when the above topo.interpolate_from_file() method is called with the original GEBCO dataset, the interpolation fails do to large computational demand when run on login nodes. Check if there is a failsafe way, or at least, a means to precaution the user."
   ]
  },
  {
   "cell_type": "code",
   "execution_count": null,
   "metadata": {},
   "outputs": [],
   "source": [
    "topo.depth.plot()"
   ]
  },
  {
   "cell_type": "markdown",
   "metadata": {},
   "source": [
    "Run the topo-editor below to configure your bathymetry!"
   ]
  },
  {
   "cell_type": "code",
   "execution_count": null,
   "metadata": {},
   "outputs": [],
   "source": [
    "%matplotlib ipympl\n",
    "from CrocoDash.topo_editor import TopoEditor\n",
    "topo.depth[\"units\"] = \"m\"\n",
    "TopoEditor(topo)"
   ]
  },
  {
   "cell_type": "markdown",
   "metadata": {},
   "source": [
    "## Step 1.3: Vertical Grid"
   ]
  },
  {
   "cell_type": "code",
   "execution_count": null,
   "metadata": {},
   "outputs": [],
   "source": [
    "from CrocoDash.vgrid import VGrid\n",
    "\n",
    "vgrid  = VGrid.hyperbolic(\n",
    "    nk = 75,\n",
    "    depth = topo.max_depth,\n",
    "    ratio=20.0\n",
    ")"
   ]
  },
  {
   "cell_type": "code",
   "execution_count": null,
   "metadata": {},
   "outputs": [],
   "source": [
    "print(vgrid.dz)"
   ]
  },
  {
   "cell_type": "code",
   "execution_count": null,
   "metadata": {},
   "outputs": [],
   "source": [
    "import matplotlib.pyplot as plt\n",
    "plt.close()\n",
    "# Create the plot\n",
    "for depth in vgrid.z:\n",
    "    plt.axhline(y=depth, linestyle='-')  # Horizontal lines\n",
    "\n",
    "plt.ylim(max(vgrid.z) + 10, min(vgrid.z) - 10)  # Invert y-axis so deeper values go down\n",
    "plt.ylabel(\"Depth\")\n",
    "plt.title(\"Vertical Grid\")\n",
    "plt.show()"
   ]
  },
  {
   "cell_type": "markdown",
   "metadata": {},
   "source": [
    "# SECTION 3: Create the CESM case\n",
    "\n",
    "After generating the MOM6 domain, the next step is to create a CESM case using CrocoDash. This process is straightforward and involves instantiating the CrocoDash Case object. The Case object requires the following inputs:\n",
    "\n",
    " - CESM Source Directory: A local path to a compatible CESM source copy.\n",
    " - Case Name: A unique name for the CESM case.\n",
    " - Input Directory: The directory where all necessary input files will be written.\n",
    " - MOM6 Domain Objects: The horizontal grid, topography, and vertical grid created in the previous section.\n",
    " - Project ID: (Optional) A project ID, if required by the machine."
   ]
  },
  {
   "cell_type": "markdown",
   "metadata": {},
   "source": [
    "## Step 2.1: Specify case name and directories:\n",
    "\n",
    "Begin by specifying the case name and the necessary directory paths. Ensure the CESM root directory points to your own local copy of CESM. \n",
    "**Note that if the case is already created - in case you want to rerun this notebook - the `/run` directory must be removed for the case to be created anew.**\n",
    "Below is an example setup:"
   ]
  },
  {
   "cell_type": "code",
   "execution_count": null,
   "metadata": {},
   "outputs": [],
   "source": [
    "from pathlib import Path"
   ]
  },
  {
   "cell_type": "code",
   "execution_count": null,
   "metadata": {},
   "outputs": [],
   "source": [
    "# CESM case (experiment) name\n",
    "casename = \"antarctica-tutorial\"\n",
    "\n",
    "# CESM source root (Update this path accordingly!!!)\n",
    "cesmroot = \"<CESM>\"\n",
    "\n",
    "# Place where all your input files go\n",
    "inputdir = Path.home() / \"input\" / casename\n",
    "\n",
    "# CESM case directory\n",
    "caseroot = Path.home() / \"cases\" / casename\n",
    "print(cesmroot, inputdir, caseroot) # View your directory and change as you need!"
   ]
  },
  {
   "cell_type": "markdown",
   "metadata": {},
   "source": [
    "## Step 2.2: Create the Case\n",
    "\n",
    "To create the CESM case, instantiate the `Case` object as shown below. This will automatically set up the CESM case based on the provided inputs: The `cesmroot` argument specifies the path to your local CESM source directory.\n",
    "The `caseroot` argument defines the directory where the case will be created. CrocoDash will handle all necessary namelist modifications and XML changes to align with the MOM6 domain objects generated earlier.\n",
    "\n",
    "Remember to change/remove your project ID (with parameter `project`) and machine (with parameter `machine`, likely `derecho`) as needed."
   ]
  },
  {
   "cell_type": "code",
   "execution_count": null,
   "metadata": {},
   "outputs": [],
   "source": [
    "from CrocoDash.case import Case\n",
    "\n",
    "case = Case(\n",
    "    cesmroot = cesmroot,\n",
    "    caseroot = caseroot,\n",
    "    inputdir = inputdir,\n",
    "    ocn_grid = grid,\n",
    "    ocn_vgrid = vgrid,\n",
    "    ocn_topo = topo,\n",
    "    project = 'P93300012', # Switch this\n",
    "    override = True,\n",
    "    machine = \"derecho\", # And this\n",
    "    compset = \"1850_DATM%JRA_SLND_CICE_MOM6_SROF_SGLC_SWAV\", \n",
    ")"
   ]
  },
  {
   "cell_type": "markdown",
   "metadata": {},
   "source": [
    "# Section 3: Prepare ocean forcing data\n",
    "\n",
    "We need to cut out our ocean forcing. The package expects an initial condition and one time-dependent segment per non-land boundary. Naming convention is `\"east_unprocessed\"` for segments and `\"ic_unprocessed\"` for the initial condition.\n",
    "\n",
    "In this notebook, we are forcing with the Copernicus Marine \"Glorys\" reanalysis dataset. There's a function in the `CrocoDash` package, called `configure_forcings`, that generates a bash script to download the correct boundary forcing files for your experiment. First, you will need to create an account with Copernicus, and then call `copernicusmarine login` to set up your login details on your machine. Then you can run the `get_glorys_data.sh` bash script.\n",
    "\n",
    "## Step 3.1 Configure Initial Conditions and Forcings"
   ]
  },
  {
   "cell_type": "code",
   "execution_count": null,
   "metadata": {},
   "outputs": [],
   "source": [
    "from CrocoDash.case import Case\n",
    "case.configure_forcings(\n",
    "    date_range = [\"2020-01-01 00:00:00\", \"2020-01-09 00:00:00\"],\n",
    ")"
   ]
  },
  {
   "cell_type": "markdown",
   "metadata": {},
   "source": [
    "## Step 3.2 Run `get_glorys_data.sh`\n",
    "\n",
    "Follow the instructions printed by the `configure_forcings` method above to navigate to your `glorys` folder.\n",
    "Once you're in your `/glorys` folder, run `chmod +x get_glorys_data.sh` to enable execution of the bash script. Also activate your conda environment with:\n",
    "```bash\n",
    "module load conda && conda activate CrocoDash ! or the name of the virtual environment you have installed with CrocoDash enabled\n",
    "```\n",
    "if you haven't done so. Finally, run `./get_glorys_data.sh`.\n",
    "\n",
    "**Note**: You'll have to enter your login multiple times for `copernicus marine`. Do not escape the script until finished.\n"
   ]
  },
  {
   "cell_type": "markdown",
   "metadata": {},
   "source": [
    "**TODO:** user copernicusmarine python API within CrocoDash, instead of directing users to run it via CLI. Also, on a derecho login node, both CLI and API fails to run due to the computational demand. We also need to address that."
   ]
  },
  {
   "cell_type": "markdown",
   "metadata": {},
   "source": [
    "##  Step 3.3: Process forcing data\n",
    "\n",
    "In this final step, we call the `process_forcings` method of CrocoDash to cut out and interpolate the initial condition as well as all boundaries. CrocoDash also updates MOM6 runtime parameters and CESM xml variables accordingly."
   ]
  },
  {
   "cell_type": "code",
   "execution_count": null,
   "metadata": {},
   "outputs": [],
   "source": [
    "case.process_forcings()"
   ]
  },
  {
   "cell_type": "markdown",
   "metadata": {},
   "source": [
    "## Optional: Use restart files as initial condition for your run"
   ]
  },
  {
   "cell_type": "markdown",
   "metadata": {},
   "source": [
    "In case you want to start the model with a restart file instead of using the generated initial condition, follow the below steps. Note that you have to have finished a run beforehand for the restart files to appear.\n",
    "1. Locate your restart file - they are usually in your previous case's `/archive/rest/<year>` folder with a `.r` infix, e.g., `cice.test.cice.r.1994-01-01-00000.nc`.\n",
    "   If you do not know your `/archive` folder location, run `./xmlquery DOUT_S_ROOT` in your (previous) case folder, which will return a path similar to `DOUT_S_ROOT: <PATH TO ARCHIVE>`.\n",
    "\n",
    "2. Use the `cp` command to copy the file to your current case `/run` directory, e.g., `cp cice.test.cice.r.1994-01-01-00000.nc <your_run_dir>`.\n",
    "3. Open `user_nl_cice` in your case directory again and change the `ice_ic` variable from `\"UNSET\"` to your file name, e.g., `ice_ic=cice.test.cice.r.1994-01-01-00000.nc`\n",
    "\n",
    "Your file will now be used automatically as the ice initial condition for your next run. Note that `.h` and `.h1` files (i.e. history files) currently **cannot be used** as initial conditions for CICE."
   ]
  },
  {
   "cell_type": "markdown",
   "metadata": {},
   "source": [
    "# Section 5: Build and run the case\n",
    "\n",
    "After completing the previous steps, you are ready to build and run your CESM case. Begin by navigating to the case root directory specified during the case creation. Before proceeding, review the `user_nl_mom` file located in the case directory. This file contains MOM6 parameter settings that were automatically generated by CrocoDash. Carefully examine these parameters and make any necessary adjustments to fine-tune the model for your specific requirements. While CrocoDash aims to provide a solid starting point, further tuning and adjustments are typically necessary to improve the model for your use case.\n",
    "\n",
    "Once you have reviewed and modified the parameters as needed, you can build and execute the case using the following commands: \n",
    "```\n",
    "./case.build\n",
    "./case.submit\n",
    "```"
   ]
  },
  {
   "cell_type": "markdown",
   "metadata": {},
   "source": [
    "### Optional: Write full grid"
   ]
  },
  {
   "cell_type": "markdown",
   "metadata": {},
   "source": [
    "The function below will output the full MOM6 grid in case you need it!"
   ]
  },
  {
   "cell_type": "code",
   "execution_count": null,
   "metadata": {},
   "outputs": [],
   "source": [
    "import xarray as xr\n",
    "from CrocoDash.grid import Grid\n",
    "\n",
    "# List of explicitly defined grid metric attributes\n",
    "varnames = [\n",
    "    \"tlon\", \"tlat\", \"ulon\", \"ulat\", \"vlon\", \"vlat\", \"qlon\", \"qlat\",\n",
    "    \"dxt\", \"dyt\", \"dxCv\", \"dyCu\", \"dxCu\", \"dyCv\", \"angle\", \"tarea\"\n",
    "]\n",
    "\n",
    "data_vars = {name: getattr(grid, name) for name in varnames}\n",
    "\n",
    "# Create Dataset\n",
    "ds = xr.Dataset(data_vars)\n",
    "ds.attrs[\"name\"] = getattr(grid, \"_name\", \"unnamed_grid\")\n",
    "\n",
    "# Write to NetCDF\n",
    "ds.to_netcdf(\"antarctica_fullvar_grid.nc\") # Change as needed!"
   ]
  },
  {
   "cell_type": "code",
   "execution_count": null,
   "metadata": {},
   "outputs": [],
   "source": [
    "# Check your variables!\n",
    "for name in varnames:\n",
    "    var = getattr(grid, name)\n",
    "    print(f\"{name}: shape={var.shape}, dims={getattr(var, 'dims', 'unknown')}\")"
   ]
  }
 ],
 "metadata": {
  "kernelspec": {
   "display_name": "CrocoDash",
   "language": "python",
   "name": "python3"
  },
  "language_info": {
   "codemirror_mode": {
    "name": "ipython",
    "version": 3
   },
   "file_extension": ".py",
   "mimetype": "text/x-python",
   "name": "python",
   "nbconvert_exporter": "python",
   "pygments_lexer": "ipython3",
   "version": "3.12.8"
  }
 },
 "nbformat": 4,
 "nbformat_minor": 4
}
