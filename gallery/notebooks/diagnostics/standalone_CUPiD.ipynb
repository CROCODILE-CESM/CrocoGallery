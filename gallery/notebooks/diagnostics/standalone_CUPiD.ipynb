{
 "cells": [
  {
   "cell_type": "markdown",
   "id": "2d860e83",
   "metadata": {},
   "source": [
    "# Running a CUPiD Example\n",
    "\n",
    "CUPiD provides examples of configuration files to allow users to look at a variety of diagnostics.\n",
    "These examples are designed to be run on the NCAR supercomputers,\n",
    "using output curated from CESM development runs and stored in `/glade/campaign/cesm/development/cross-wg/diagnostic_framework/CESM_output_for_testing/`.\n",
    "\n",
    "We have added a `regional_mom6` example to CUPiD that provides diagnostics for a 10-month run.\n",
    "This run uses a 1/12° grid over the northwest Atlantic domain, and includes ocean biogeochemistry tracers from the Marine Biogeochemistry library (MARBL).\n",
    "The compset used for this run was\n",
    "\n",
    "```\n",
    "1850_DATM%JRA_SLND_SICE_MOM6%MARBL-BIO_SROF_SGLC_SWAV_SESP\n",
    "```\n",
    "\n",
    "## Diagnostics Provided in this Example\n",
    "\n",
    "## Task 2:"
   ]
  }
 ],
 "metadata": {
  "language_info": {
   "name": "python"
  }
 },
 "nbformat": 4,
 "nbformat_minor": 5
}
