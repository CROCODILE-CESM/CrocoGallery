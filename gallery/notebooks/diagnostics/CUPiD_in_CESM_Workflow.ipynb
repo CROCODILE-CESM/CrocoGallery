{
 "cells": [
  {
   "cell_type": "markdown",
   "id": "c7da23b0",
   "metadata": {},
   "source": [
    "## Task 3:"
   ]
  }
 ],
 "metadata": {
  "language_info": {
   "name": "python"
  }
 },
 "nbformat": 4,
 "nbformat_minor": 5
}
