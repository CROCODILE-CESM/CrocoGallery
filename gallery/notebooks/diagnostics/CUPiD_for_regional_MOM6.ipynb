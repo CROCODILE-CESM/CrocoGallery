{
 "cells": [
  {
   "cell_type": "markdown",
   "id": "1086d02e",
   "metadata": {},
   "source": [
    "# CESM Unified Postprocessing and Diagnostics (CUPiD)\n",
    "\n",
    "CESM3 includes a python-based postprocessing tool, [CUPiD](https://ncar.github.io/CUPiD/).\n",
    "CUPiD can be included in the CESM workflow or run in stand-alone mode to analyze CESM cases.\n",
    "In this tutorial participants will familiarize themselves with CUPiD by looking at diagnostics from an existing regional MOM6 run in stand-alone mode,\n",
    "and then run the same diagnostics on their own regional MOM6 run.\n",
    "\n",
    "## CUPiD Vision Statement\n",
    "\n",
    "CUPiD is a “one stop shop” that enables and integrates timeseries file generation, data standardization, diagnostics, and metrics from all CESM components.\n",
    "\n",
    "This collaborative effort aims to simplify the user experience of running diagnostics by calling post-processing tools directly from CUPiD,\n",
    "running all component diagnostics from the same tool as either part of the CIME workflow or independently,\n",
    "and sharing python code and a standard conda environment across components.\n",
    "\n",
    "![CUPiD Logo](../../images/CUPiD_logo.png)"
   ]
  }
 ],
 "metadata": {
  "language_info": {
   "name": "python"
  }
 },
 "nbformat": 4,
 "nbformat_minor": 5
}
