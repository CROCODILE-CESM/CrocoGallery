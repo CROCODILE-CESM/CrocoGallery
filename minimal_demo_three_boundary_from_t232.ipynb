{
 "cells": [
  {
   "cell_type": "markdown",
   "metadata": {},
   "source": [
    "# Set up a low res three boundary regional CESM-MOM6 run\n",
    "\n",
    "A typical workflow of utilizing CrocoDash consists of four main steps:\n",
    "\n",
    "1. Generate a regional MOM6 domain.\n",
    "2. Create the CESM case.\n",
    "3. Prepare ocean forcing data.\n",
    "4. Build and run the case."
   ]
  },
  {
   "cell_type": "markdown",
   "metadata": {},
   "source": [
    "# SECTION 1: Generate a regional MOM6 domain\n",
    "\n",
    "We begin by defining a regional MOM6 domain using CrocoDash. To do so, we first carve out a subdomain from a 1/12 degree global grid. We then generate the topography by remapping an existing bathymetric dataset to our horizontal grid. Finally, we define a vertical grid."
   ]
  },
  {
   "cell_type": "markdown",
   "metadata": {},
   "source": [
    "## Step 1.1: Horizontal Grid\n",
    "\n",
    "Extract a subgrid from a global grid using the `subgrid_from_supergrid` method:"
   ]
  },
  {
   "cell_type": "code",
   "execution_count": 2,
   "metadata": {},
   "outputs": [],
   "source": [
    "from CrocoDash.grid import Grid\n",
    "\n",
    "grid = Grid.subgrid_from_supergrid(\n",
    "    path = \"/glade/p/cesmdata/cseg/inputdata/ocn/mom/tx2_3v2/ocean_hgrid_221123.nc\",  # supergrid\n",
    "    llc = (15, -99),  # (l)ower (l)eft (c)orner coords\n",
    "    urc = (30, -80.),  # (u)pper (r)ight (c)orner coords\n",
    "    name = \"little_nwa12\"\n",
    ")"
   ]
  },
  {
   "cell_type": "markdown",
   "metadata": {},
   "source": [
    "## Step 1.2: Topography"
   ]
  },
  {
   "cell_type": "code",
   "execution_count": 3,
   "metadata": {},
   "outputs": [],
   "source": [
    "from CrocoDash.topo import Topo\n",
    "\n",
    "topo = Topo(\n",
    "    grid = grid,\n",
    "    min_depth = 9.5,\n",
    ")"
   ]
  },
  {
   "cell_type": "code",
   "execution_count": 4,
   "metadata": {},
   "outputs": [
    {
     "name": "stdout",
     "output_type": "stream",
     "text": [
      "If bathymetry setup fails, rerun this function with write_to_file = True\n",
      "Begin regridding bathymetry...\n",
      "\n",
      "Original bathymetry size: 2.26 Mb\n",
      "Regridded size: 0.02 Mb\n",
      "Automatic regridding may fail if your domain is too big! If this process hangs or crashes,make sure function argument write_to_file = True and,open a terminal with appropriate computational and resources try calling ESMF directly in the input directory None via\n",
      "\n",
      "`mpirun -np NUMBER_OF_CPUS ESMF_Regrid -s bathymetry_original.nc -d bathymetry_unfinished.nc -m bilinear --src_var depth --dst_var depth --netcdf4 --src_regional --dst_regional`\n",
      "\n",
      "For details see https://xesmf.readthedocs.io/en/latest/large_problems_on_HPC.html\n",
      "\n",
      "Afterwards, we run the 'expt.tidy_bathymetry' method to skip the expensive interpolation step, and finishing metadata, encoding and cleanup.\n",
      "\n",
      "\n",
      "\n",
      "Regridding successful! Now calling `tidy_bathymetry` method for some finishing touches...\n",
      "setup bathymetry has finished successfully.\n",
      "Tidy bathymetry: Reading in regridded bathymetry to fix up metadata...done. Filling in inland lakes and channels... "
     ]
    }
   ],
   "source": [
    "bathymetry_path='/glade/work/altuntas/croc/input/GEBCO_2024_coarse_x8.nc'\n",
    "\n",
    "topo.interpolate_from_file(\n",
    "    file_path = bathymetry_path,\n",
    "    longitude_coordinate_name=\"lon\",\n",
    "    latitude_coordinate_name=\"lat\",\n",
    "    vertical_coordinate_name=\"elevation\"\n",
    ")"
   ]
  },
  {
   "cell_type": "code",
   "execution_count": 5,
   "metadata": {},
   "outputs": [
    {
     "data": {
      "text/plain": [
       "<matplotlib.collections.QuadMesh at 0x151710e148c0>"
      ]
     },
     "execution_count": 5,
     "metadata": {},
     "output_type": "execute_result"
    },
    {
     "data": {
      "image/png": "[encoded data removed]",
      "text/plain": [
       "<Figure size 640x480 with 2 Axes>"
      ]
     },
     "metadata": {},
     "output_type": "display_data"
    }
   ],
   "source": [
    "topo.depth.plot()"
   ]
  },
  {
   "cell_type": "code",
   "execution_count": 6,
   "metadata": {},
   "outputs": [
    {
     "ename": "TypeError",
     "evalue": "unsupported operand type(s) for /: 'float' and 'NoneType'",
     "output_type": "error",
     "traceback": [
      "\u001b[0;31m---------------------------------------------------------------------------\u001b[0m",
      "\u001b[0;31mTypeError\u001b[0m                                 Traceback (most recent call last)",
      "Input \u001b[0;32mIn [6]\u001b[0m, in \u001b[0;36m<cell line: 0>\u001b[0;34m()\u001b[0m\n\u001b[1;32m      3\u001b[0m \u001b[38;5;28;01mfrom\u001b[39;00m\u001b[38;5;250m \u001b[39m\u001b[38;5;21;01mCrocoDash\u001b[39;00m\u001b[38;5;21;01m.\u001b[39;00m\u001b[38;5;21;01mtopo_editor\u001b[39;00m\u001b[38;5;250m \u001b[39m\u001b[38;5;28;01mimport\u001b[39;00m TopoEditor\n\u001b[1;32m      4\u001b[0m topo\u001b[38;5;241m.\u001b[39mdepth[\u001b[38;5;124m\"\u001b[39m\u001b[38;5;124munits\u001b[39m\u001b[38;5;124m\"\u001b[39m] \u001b[38;5;241m=\u001b[39m \u001b[38;5;124m\"\u001b[39m\u001b[38;5;124mm\u001b[39m\u001b[38;5;124m\"\u001b[39m \u001b[38;5;66;03m# Short term bug fix\u001b[39;00m\n\u001b[0;32m----> 5\u001b[0m \u001b[43mTopoEditor\u001b[49m\u001b[43m(\u001b[49m\u001b[43mtopo\u001b[49m\u001b[43m)\u001b[49m\n",
      "File \u001b[0;32m~/CrocoDash/CrocoDash/visualCaseGen/external/mom6_bathy/mom6_bathy/topo_editor.py:23\u001b[0m, in \u001b[0;36mTopoEditor.__init__\u001b[0;34m(self, topo, build_ui, snapshot_dir, restore_last)\u001b[0m\n\u001b[1;32m     20\u001b[0m \u001b[38;5;28mself\u001b[39m\u001b[38;5;241m.\u001b[39mnx \u001b[38;5;241m=\u001b[39m \u001b[38;5;28mself\u001b[39m\u001b[38;5;241m.\u001b[39mtopo\u001b[38;5;241m.\u001b[39mdepth\u001b[38;5;241m.\u001b[39mdata\u001b[38;5;241m.\u001b[39mshape[\u001b[38;5;241m1\u001b[39m]\n\u001b[1;32m     22\u001b[0m \u001b[38;5;66;03m# --- Per-Grid Repo Logic ---\u001b[39;00m\n\u001b[0;32m---> 23\u001b[0m \u001b[38;5;28mself\u001b[39m\u001b[38;5;241m.\u001b[39mSNAPSHOT_DIR \u001b[38;5;241m=\u001b[39m \u001b[43mget_domain_dir\u001b[49m\u001b[43m(\u001b[49m\u001b[38;5;28;43mself\u001b[39;49m\u001b[38;5;241;43m.\u001b[39;49m\u001b[43mtopo\u001b[49m\u001b[38;5;241;43m.\u001b[39;49m\u001b[43m_grid\u001b[49m\u001b[43m,\u001b[49m\u001b[43m \u001b[49m\u001b[43mbase_dir\u001b[49m\u001b[38;5;241;43m=\u001b[39;49m\u001b[43msnapshot_dir\u001b[49m\u001b[43m)\u001b[49m\n\u001b[1;32m     24\u001b[0m os\u001b[38;5;241m.\u001b[39mmakedirs(\u001b[38;5;28mself\u001b[39m\u001b[38;5;241m.\u001b[39mSNAPSHOT_DIR, exist_ok\u001b[38;5;241m=\u001b[39m\u001b[38;5;28;01mTrue\u001b[39;00m)\n\u001b[1;32m     25\u001b[0m \u001b[38;5;28mself\u001b[39m\u001b[38;5;241m.\u001b[39mrepo \u001b[38;5;241m=\u001b[39m git_repo_action(\u001b[38;5;28mself\u001b[39m\u001b[38;5;241m.\u001b[39mSNAPSHOT_DIR)\n",
      "File \u001b[0;32m~/CrocoDash/CrocoDash/visualCaseGen/external/mom6_bathy/mom6_bathy/git_utils.py:12\u001b[0m, in \u001b[0;36mget_domain_dir\u001b[0;34m(grid, base_dir)\u001b[0m\n\u001b[1;32m      8\u001b[0m \u001b[38;5;28;01mdef\u001b[39;00m\u001b[38;5;250m \u001b[39m\u001b[38;5;21mget_domain_dir\u001b[39m(grid, base_dir\u001b[38;5;241m=\u001b[39m\u001b[38;5;124m\"\u001b[39m\u001b[38;5;124mTopos\u001b[39m\u001b[38;5;124m\"\u001b[39m):\n\u001b[1;32m      9\u001b[0m \u001b[38;5;250m    \u001b[39m\u001b[38;5;124;03m\"\"\"\u001b[39;00m\n\u001b[1;32m     10\u001b[0m \u001b[38;5;124;03m    Returns a unique directory path for a given grid object.\u001b[39;00m\n\u001b[1;32m     11\u001b[0m \u001b[38;5;124;03m    \"\"\"\u001b[39;00m\n\u001b[0;32m---> 12\u001b[0m     shape \u001b[38;5;241m=\u001b[39m \u001b[38;5;124mf\u001b[39m\u001b[38;5;124m\"\u001b[39m\u001b[38;5;132;01m{\u001b[39;00m\u001b[38;5;28mint\u001b[39m(\u001b[43mgrid\u001b[49m\u001b[38;5;241;43m.\u001b[39;49m\u001b[43mleny\u001b[49m\u001b[38;5;241;43m/\u001b[39;49m\u001b[43mgrid\u001b[49m\u001b[38;5;241;43m.\u001b[39;49m\u001b[43mresolution\u001b[49m)\u001b[38;5;132;01m}\u001b[39;00m\u001b[38;5;124mx\u001b[39m\u001b[38;5;132;01m{\u001b[39;00m\u001b[38;5;28mint\u001b[39m(grid\u001b[38;5;241m.\u001b[39mlenx\u001b[38;5;241m/\u001b[39mgrid\u001b[38;5;241m.\u001b[39mresolution)\u001b[38;5;132;01m}\u001b[39;00m\u001b[38;5;124m\"\u001b[39m\n\u001b[1;32m     13\u001b[0m     name \u001b[38;5;241m=\u001b[39m \u001b[38;5;28mgetattr\u001b[39m(grid, \u001b[38;5;124m\"\u001b[39m\u001b[38;5;124mname\u001b[39m\u001b[38;5;124m\"\u001b[39m, \u001b[38;5;124m\"\u001b[39m\u001b[38;5;124munknown\u001b[39m\u001b[38;5;124m\"\u001b[39m)\n\u001b[1;32m     14\u001b[0m     \u001b[38;5;28;01mreturn\u001b[39;00m os\u001b[38;5;241m.\u001b[39mpath\u001b[38;5;241m.\u001b[39mjoin(base_dir, \u001b[38;5;124mf\u001b[39m\u001b[38;5;124m\"\u001b[39m\u001b[38;5;124mdomain_\u001b[39m\u001b[38;5;132;01m{\u001b[39;00mname\u001b[38;5;132;01m}\u001b[39;00m\u001b[38;5;124m_\u001b[39m\u001b[38;5;132;01m{\u001b[39;00mshape\u001b[38;5;132;01m}\u001b[39;00m\u001b[38;5;124m\"\u001b[39m)\n",
      "\u001b[0;31mTypeError\u001b[0m: unsupported operand type(s) for /: 'float' and 'NoneType'"
     ]
    }
   ],
   "source": [
    "# Erase Pacific -> Go to Basinmask, Select basin you want to keep (Atlantic), press the erase disconnected basin button to erase the pacific\n",
    "%matplotlib ipympl\n",
    "from CrocoDash.topo_editor import TopoEditor\n",
    "topo.depth[\"units\"] = \"m\" # Short term bug fix\n",
    "TopoEditor(topo)\n"
   ]
  },
  {
   "cell_type": "markdown",
   "metadata": {},
   "source": [
    "## Step 1.3: Vertical Grid"
   ]
  },
  {
   "cell_type": "code",
   "execution_count": 7,
   "metadata": {},
   "outputs": [],
   "source": [
    "from CrocoDash.vgrid import VGrid\n",
    "\n",
    "vgrid  = VGrid.hyperbolic(\n",
    "    nk = 75,\n",
    "    depth = topo.max_depth,\n",
    "    ratio=20.0\n",
    ")"
   ]
  },
  {
   "cell_type": "code",
   "execution_count": 8,
   "metadata": {},
   "outputs": [
    {
     "data": {
      "application/vnd.jupyter.widget-view+json": {
       "model_id": "21476b3f65ec48238d3be51560d50d10",
       "version_major": 2,
       "version_minor": 0
      },
      "image/png": "[encoded data removed]",
      "text/html": [
       "\n",
       "            <div style=\"display: inline-block;\">\n",
       "                <div class=\"jupyter-widgets widget-label\" style=\"text-align: center;\">\n",
       "                    Figure\n",
       "                </div>\n",
       "                <img src='data:image/png;base64,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' width=640.0/>\n",
       "            </div>\n",
       "        "
      ],
      "text/plain": [
       "Canvas(toolbar=Toolbar(toolitems=[('Home', 'Reset original view', 'home', 'home'), ('Back', 'Back to previous …"
      ]
     },
     "metadata": {},
     "output_type": "display_data"
    }
   ],
   "source": [
    "import matplotlib.pyplot as plt\n",
    "# Create the plot\n",
    "for depth in vgrid.z:\n",
    "    plt.axhline(y=depth, linestyle='-')  # Horizontal lines\n",
    "\n",
    "plt.ylim(max(vgrid.z) + 10, min(vgrid.z) - 10)  # Invert y-axis so deeper values go down\n",
    "plt.ylabel(\"Depth\")\n",
    "plt.title(\"Vertical Grid\")\n",
    "plt.show()"
   ]
  },
  {
   "cell_type": "markdown",
   "metadata": {},
   "source": [
    "# SECTION 2: Create the CESM case\n",
    "\n",
    "After generating the MOM6 domain, the next step is to create a CESM case using CrocoDash. This process is straightforward and involves instantiating the CrocoDash Case object. The Case object requires the following inputs:\n",
    "\n",
    " - CESM Source Directory: A local path to a compatible CESM source copy.\n",
    " - Case Name: A unique name for the CESM case.\n",
    " - Input Directory: The directory where all necessary input files will be written.\n",
    " - MOM6 Domain Objects: The horizontal grid, topography, and vertical grid created in the previous section.\n",
    " - Project ID: (Optional) A project ID, if required by the machine."
   ]
  },
  {
   "cell_type": "code",
   "execution_count": 11,
   "metadata": {},
   "outputs": [],
   "source": [
    "from pathlib import Path"
   ]
  },
  {
   "cell_type": "code",
   "execution_count": 12,
   "metadata": {},
   "outputs": [],
   "source": [
    "# CESM case (experiment) name\n",
    "casename = \"little-nwa-three-boundary-t232\"\n",
    "\n",
    "# CESM source root (Update this path accordingly!!!)\n",
    "cesmroot = \"/glade/work/akwong/installs/CESM\"\n",
    "\n",
    "# Place where all your input files go \n",
    "inputdir = Path.home()  / \"croc_input\" / casename\n",
    "    \n",
    "# CESM case directory\n",
    "caseroot =  Path.home() / \"croc_cases\" / casename"
   ]
  },
  {
   "cell_type": "markdown",
   "metadata": {},
   "source": [
    "## Step 2.2: Create the Case\n",
    "\n",
    "To create the CESM case, instantiate the `Case` object as shown below. This will automatically set up the CESM case based on the provided inputs: The `cesmroot` argument specifies the path to your local CESM source directory.\n",
    "The `caseroot` argument defines the directory where the case will be created. CrocoDash will handle all necessary namelist modifications and XML changes to align with the MOM6 domain objects generated earlier."
   ]
  },
  {
   "cell_type": "code",
   "execution_count": 13,
   "metadata": {},
   "outputs": [
    {
     "name": "stderr",
     "output_type": "stream",
     "text": [
      "INFO:  csp_solver:CspSolver initialized.\n"
     ]
    },
    {
     "name": "stdout",
     "output_type": "stream",
     "text": [
      "\u001b[01;96mCreating case...\u001b[0m\n",
      "\n",
      "• Updating ccs_config/modelgrid_aliases_nuopc.xml file to include the new resolution \"little-nwa-three-boundary-t232\" consisting of the following component grids.\n",
      " atm grid: \"TL319\", lnd grid: \"TL319\", ocn grid: \"little_nwa12\".\n",
      "\n",
      "• Updating ccs_config/component_grids_nuopc.xml file to include newly generated ocean grid \"little_nwa12\" with the following properties:\n",
      " nx: 29, ny: 26. ocean mesh: /glade/u/home/akwong/croc_input/little-nwa-three-boundary-t232/ocnice/ESMF_mesh_little_nwa12_c62066.nc.\u001b[0m\n",
      "\n",
      "\u001b[01;96mRunning the create_newcase tool with the following command:\u001b[0m\n",
      "\n",
      "/glade/work/akwong/installs/CESM/cime/scripts/create_newcase --compset 1850_DATM%JRA_SLND_SICE_MOM6_SROF_SGLC_SWAV --res little-nwa-three-boundary-t232 --case /glade/u/home/akwong/croc_cases/little-nwa-three-boundary-t232 --machine derecho --run-unsupported --project NCGD0011 --ninst 2 --non-local \n",
      "\n",
      "\u001b[01;96mThe create_newcase command was successful.\u001b[0m\n",
      "\n",
      "\u001b[01;96mNavigating to the case directory:\u001b[0m\n",
      "\n",
      "cd /glade/u/home/akwong/croc_cases/little-nwa-three-boundary-t232\n",
      "\n",
      "\u001b[01;96mApply NTASK grid xml changes:\u001b[0m\n",
      "\n",
      "./xmlchange NTASKS_OCN=12 --non-local\n",
      "\n",
      "\u001b[01;96mRunning the case.setup script with the following command:\u001b[0m\n",
      "\n",
      "./case.setup --non-local\n",
      "\n",
      "\u001b[01;96mAdding parameter changes to user_nl_mom_0001:\u001b[0m\n",
      "\n",
      "  ! Custom Horizonal Grid, Topography, and Vertical Grid\n",
      "  INPUTDIR = /glade/u/home/akwong/croc_input/little-nwa-three-boundary-t232/ocnice\n",
      "  TRIPOLAR_N = False\n",
      "  REENTRANT_X = False\n",
      "  REENTRANT_Y = False\n",
      "  NIGLOBAL = 29\n",
      "  NJGLOBAL = 26\n",
      "  GRID_CONFIG = mosaic\n",
      "  GRID_FILE = ocean_hgrid_little_nwa12_c62066.nc\n",
      "  TOPO_CONFIG = file\n",
      "  TOPO_FILE = ocean_topog_little_nwa12_c62066.nc\n",
      "  MAXIMUM_DEPTH = 6849.740428972226\n",
      "  MINIMUM_DEPTH = 9.5\n",
      "  NK = 75\n",
      "  COORD_CONFIG = none\n",
      "  ALE_COORDINATE_CONFIG = FILE:ocean_vgrid_little_nwa12_c62066.nc\n",
      "  REGRIDDING_COORDINATE_MODE = Z*\n",
      "\n",
      "\u001b[01;96mAdding parameter changes to user_nl_mom_0002:\u001b[0m\n",
      "\n",
      "  ! Custom Horizonal Grid, Topography, and Vertical Grid\n",
      "  INPUTDIR = /glade/u/home/akwong/croc_input/little-nwa-three-boundary-t232/ocnice\n",
      "  TRIPOLAR_N = False\n",
      "  REENTRANT_X = False\n",
      "  REENTRANT_Y = False\n",
      "  NIGLOBAL = 29\n",
      "  NJGLOBAL = 26\n",
      "  GRID_CONFIG = mosaic\n",
      "  GRID_FILE = ocean_hgrid_little_nwa12_c62066.nc\n",
      "  TOPO_CONFIG = file\n",
      "  TOPO_FILE = ocean_topog_little_nwa12_c62066.nc\n",
      "  MAXIMUM_DEPTH = 6849.740428972226\n",
      "  MINIMUM_DEPTH = 9.5\n",
      "  NK = 75\n",
      "  COORD_CONFIG = none\n",
      "  ALE_COORDINATE_CONFIG = FILE:ocean_vgrid_little_nwa12_c62066.nc\n",
      "  REGRIDDING_COORDINATE_MODE = Z*\n",
      "\n",
      "  ! Timesteps (based on grid resolution)\n",
      "  DT = 300.0\n",
      "  DT_THERM = 900.0\n",
      "\n",
      "  ! Timesteps (based on grid resolution)\n",
      "  DT = 300.0\n",
      "  DT_THERM = 900.0\n",
      "\n"
     ]
    },
    {
     "name": "stderr",
     "output_type": "stream",
     "text": [
      "INFO:\tstage:SUCCESS: All stages are complete.\n"
     ]
    },
    {
     "name": "stdout",
     "output_type": "stream",
     "text": [
      "\u001b[1;32mCase created successfully at /glade/u/home/akwong/croc_cases/little-nwa-three-boundary-t232.\u001b[0m\n",
      "\n",
      "\u001b[01;96mTo further customize, build, and run the case, navigate to the case directory in your terminal. To create another case, restart the notebook.\u001b[0m\n",
      "\n"
     ]
    }
   ],
   "source": [
    "from CrocoDash.case import Case\n",
    "\n",
    "case = Case(\n",
    "    cesmroot = cesmroot,\n",
    "    caseroot = caseroot,\n",
    "    inputdir = inputdir,\n",
    "    machine=\"derecho\",\n",
    "    ocn_grid = grid,\n",
    "    ocn_vgrid = vgrid,\n",
    "    ocn_topo = topo,\n",
    "    project = 'NCGD0011',\n",
    "    override = True,\n",
    "    ninst = 2,\n",
    ")"
   ]
  },
  {
   "cell_type": "markdown",
   "metadata": {},
   "source": [
    "# Section 3: Prepare ocean forcing data\n",
    "\n",
    "We need to cut out our ocean forcing. The package expects an initial condition and one time-dependent segment per non-land boundary. Naming convention is `\"east_unprocessed\"` for segments and `\"ic_unprocessed\"` for the initial condition.\n",
    "\n",
    "In this notebook, we are forcing with the Copernicus Marine \"Glorys\" reanalysis dataset. There's a function in the `CrocoDash` package, called `configure_forcings`, that generates a bash script to download the correct boundary forcing files for your experiment. First, you will need to create an account with Copernicus, and then call `copernicusmarine login` to set up your login details on your machine. Then you can run the `get_glorys_data.sh` bash script.\n",
    "\n",
    "## Step 3.1 Configure Initial Conditions and Forcings\n"
   ]
  },
  {
   "cell_type": "code",
   "execution_count": 21,
   "metadata": {},
   "outputs": [
    {
     "name": "stdout",
     "output_type": "stream",
     "text": [
      "2025-05-30 21:21:43,534 - CrocoDash.raw_data_access.driver.load_functions - INFO - Functions have already been loaded. To reload, set self._loaded_functions to False\n"
     ]
    },
    {
     "name": "stderr",
     "output_type": "stream",
     "text": [
      "INFO:CrocoDash.raw_data_access.driver:Functions have already been loaded. To reload, set self._loaded_functions to False\n",
      "INFO:CrocoDash.raw_data_access.datasets.glorys:This data access method retuns a script at path /glade/derecho/scratch/akwong/tmp/tmpwe1dw049/get_glorys_data.sh to run to get access data \n",
      "INFO:CrocoDash.raw_data_access.datasets.glorys:This data access method retuns a script at path /glade/u/home/akwong/croc_input/little-nwa-three-boundary-t232/glorys/get_glorys_data.sh to run to get access data \n",
      "INFO:CrocoDash.raw_data_access.datasets.glorys:This data access method retuns a script at path /glade/u/home/akwong/croc_input/little-nwa-three-boundary-t232/glorys/get_glorys_data.sh to run to get access data \n",
      "INFO:CrocoDash.raw_data_access.datasets.glorys:This data access method retuns a script at path /glade/u/home/akwong/croc_input/little-nwa-three-boundary-t232/glorys/get_glorys_data.sh to run to get access data \n",
      "INFO:CrocoDash.raw_data_access.datasets.glorys:This data access method retuns a script at path /glade/u/home/akwong/croc_input/little-nwa-three-boundary-t232/glorys/get_glorys_data.sh to run to get access data \n"
     ]
    },
    {
     "name": "stdout",
     "output_type": "stream",
     "text": [
      "Warning: Minimum depth of 9.5m is less than the depth of the third interface (18.06914528508434m)!\n",
      "This means that some areas may only have one or two layers between the surface and sea floor. \n",
      "For increased stability, consider increasing the minimum depth, or adjusting the vertical coordinate to add more layers near the surface.\n"
     ]
    }
   ],
   "source": [
    "tidal_data_dir = Path(\"/glade/u/home/manishrv/scratch/ice/croc/tpxo\")\n",
    "\n",
    "case.configure_forcings(\n",
    "    date_range = [\"2020-01-01 00:00:00\", \"2020-02-01 00:00:00\"],\n",
    "    boundaries = [\"south\", \"north\",\"east\"], \n",
    "    tidal_constituents = ['M2'],\n",
    "    tpxo_elevation_filepath = tidal_data_dir / \"h_tpxo9.v1.nc\",\n",
    "    tpxo_velocity_filepath = tidal_data_dir / \"u_tpxo9.v1.nc\",\n",
    ")"
   ]
  },
  {
   "cell_type": "markdown",
   "metadata": {},
   "source": [
    "## Step 3.2 Run `get_glorys_data.sh`\n",
    "\n",
    "In a terminal session, locate the `get_glorys_data.sh` script and execute it to download the initial conditions and boundary conditions. Follow the instructions printed by the `configure_forcings` method above.\n"
   ]
  },
  {
   "cell_type": "markdown",
   "metadata": {},
   "source": [
    "**TODO:** user copernicusmarine python API within CrocoDash, instead of directing users to run it via CLI. Also, on a derecho login node, both CLI and API fails to run due to the computational demand. We also need to address that."
   ]
  },
  {
   "cell_type": "markdown",
   "metadata": {},
   "source": [
    "##  Step 3.3: Process forcing data\n",
    "\n",
    "In this final step, we call the `process_forcings` method of CrocoDash to cut out and interpolate the initial condition as well as all boundaries. CrocoDash also updates MOM6 runtime parameters and CESM xml variables accordingly."
   ]
  },
  {
   "cell_type": "code",
   "execution_count": 22,
   "metadata": {},
   "outputs": [
    {
     "name": "stderr",
     "output_type": "stream",
     "text": [
      "INFO:regional_mom6.regridding:Getting t points..\n",
      "INFO:regional_mom6.regridding:Creating Regridder\n",
      "INFO:regional_mom6.regridding:Creating Regridder\n",
      "INFO:regional_mom6.regridding:Creating Regridder\n",
      "INFO:regional_mom6.rotation:Getting rotation angle\n",
      "INFO:regional_mom6.rotation:Calculating grid rotation angle\n",
      "INFO:regional_mom6.regridding:Getting u points..\n",
      "INFO:regional_mom6.regridding:Getting v points..\n"
     ]
    },
    {
     "name": "stdout",
     "output_type": "stream",
     "text": [
      "Setting up Initial Conditions\n",
      "Regridding Velocities... Done.\n",
      "Regridding Tracers... Done.\n",
      "Regridding Free surface... Done.\n",
      "Saving outputs... "
     ]
    },
    {
     "name": "stderr",
     "output_type": "stream",
     "text": [
      "INFO:regional_mom6.regridding:Creating coordinates of the boundary q/u/v points\n",
      "INFO:regional_mom6.regridding:Creating Regridder\n",
      "WARNING:regional_mom6.regridding:Using existing weights file at /glade/u/home/akwong/croc_input/little-nwa-three-boundary-t232/ocnice/weights/bilinear_velocity_weights_south.nc to save computing time. Delete weights file to regenerate weights.\n",
      "INFO:regional_mom6.rotation:Getting rotation angle\n",
      "INFO:regional_mom6.rotation:Calculating grid rotation angle\n",
      "INFO:regional_mom6.regridding:Creating coordinates of the boundary q/u/v points\n"
     ]
    },
    {
     "name": "stdout",
     "output_type": "stream",
     "text": [
      "done setting up initial condition.\n",
      "NOTE: the 'setup_run_directories' method does understand the less than four boundaries but be careful. Please check the MOM_input/override file carefully to reflect the number of boundaries you have, and their orientations. You should be able to find the relevant section in the MOM_input/override file by searching for 'segment_'. Ensure that the segment names match those in your inputdir/forcing folder\n",
      "Processing south boundary velocity & tracers..."
     ]
    },
    {
     "name": "stderr",
     "output_type": "stream",
     "text": [
      "INFO:regional_mom6.regridding:Filling in missing data horizontally, then vertically\n",
      "INFO:regional_mom6.regridding:Adding time dimension\n",
      "INFO:regional_mom6.regridding:Renaming vertical coordinate to nz_... in salt_segment_001\n",
      "INFO:regional_mom6.regridding:Replacing old depth coordinates with incremental integers\n",
      "INFO:regional_mom6.regridding:Adding perpendicular dimension to salt_segment_001\n",
      "INFO:regional_mom6.regridding:Renaming vertical coordinate to nz_... in temp_segment_001\n",
      "INFO:regional_mom6.regridding:Replacing old depth coordinates with incremental integers\n",
      "INFO:regional_mom6.regridding:Adding perpendicular dimension to temp_segment_001\n",
      "INFO:regional_mom6.regridding:Renaming vertical coordinate to nz_... in u_segment_001\n",
      "INFO:regional_mom6.regridding:Replacing old depth coordinates with incremental integers\n",
      "INFO:regional_mom6.regridding:Adding perpendicular dimension to u_segment_001\n",
      "INFO:regional_mom6.regridding:Renaming vertical coordinate to nz_... in v_segment_001\n",
      "INFO:regional_mom6.regridding:Replacing old depth coordinates with incremental integers\n",
      "INFO:regional_mom6.regridding:Adding perpendicular dimension to v_segment_001\n",
      "INFO:regional_mom6.regridding:Adding perpendicular dimension to eta_segment_001\n",
      "WARNING:regional_mom6.regridding:All NaNs filled b/c bathymetry wasn't provided to the function. Add bathymetry_path to the segment class to avoid this\n",
      "INFO:regional_mom6.regridding:Generating encoding dictionary\n"
     ]
    },
    {
     "name": "stdout",
     "output_type": "stream",
     "text": [
      "Done.\n",
      "Processing north boundary velocity & tracers..."
     ]
    },
    {
     "name": "stderr",
     "output_type": "stream",
     "text": [
      "INFO:regional_mom6.regridding:Creating coordinates of the boundary q/u/v points\n",
      "INFO:regional_mom6.regridding:Creating Regridder\n",
      "WARNING:regional_mom6.regridding:Using existing weights file at /glade/u/home/akwong/croc_input/little-nwa-three-boundary-t232/ocnice/weights/bilinear_velocity_weights_north.nc to save computing time. Delete weights file to regenerate weights.\n",
      "INFO:regional_mom6.rotation:Getting rotation angle\n",
      "INFO:regional_mom6.rotation:Calculating grid rotation angle\n",
      "INFO:regional_mom6.regridding:Creating coordinates of the boundary q/u/v points\n",
      "INFO:regional_mom6.regridding:Filling in missing data horizontally, then vertically\n",
      "INFO:regional_mom6.regridding:Adding time dimension\n",
      "INFO:regional_mom6.regridding:Renaming vertical coordinate to nz_... in salt_segment_002\n",
      "INFO:regional_mom6.regridding:Replacing old depth coordinates with incremental integers\n",
      "INFO:regional_mom6.regridding:Adding perpendicular dimension to salt_segment_002\n",
      "INFO:regional_mom6.regridding:Renaming vertical coordinate to nz_... in temp_segment_002\n",
      "INFO:regional_mom6.regridding:Replacing old depth coordinates with incremental integers\n",
      "INFO:regional_mom6.regridding:Adding perpendicular dimension to temp_segment_002\n",
      "INFO:regional_mom6.regridding:Renaming vertical coordinate to nz_... in u_segment_002\n",
      "INFO:regional_mom6.regridding:Replacing old depth coordinates with incremental integers\n",
      "INFO:regional_mom6.regridding:Adding perpendicular dimension to u_segment_002\n",
      "INFO:regional_mom6.regridding:Renaming vertical coordinate to nz_... in v_segment_002\n",
      "INFO:regional_mom6.regridding:Replacing old depth coordinates with incremental integers\n",
      "INFO:regional_mom6.regridding:Adding perpendicular dimension to v_segment_002\n",
      "INFO:regional_mom6.regridding:Adding perpendicular dimension to eta_segment_002\n",
      "WARNING:regional_mom6.regridding:All NaNs filled b/c bathymetry wasn't provided to the function. Add bathymetry_path to the segment class to avoid this\n",
      "INFO:regional_mom6.regridding:Generating encoding dictionary\n",
      "INFO:regional_mom6.regridding:Creating coordinates of the boundary q/u/v points\n",
      "INFO:regional_mom6.regridding:Creating Regridder\n",
      "WARNING:regional_mom6.regridding:Using existing weights file at /glade/u/home/akwong/croc_input/little-nwa-three-boundary-t232/ocnice/weights/bilinear_velocity_weights_east.nc to save computing time. Delete weights file to regenerate weights.\n",
      "INFO:regional_mom6.rotation:Getting rotation angle\n",
      "INFO:regional_mom6.rotation:Calculating grid rotation angle\n",
      "INFO:regional_mom6.regridding:Creating coordinates of the boundary q/u/v points\n",
      "INFO:regional_mom6.regridding:Filling in missing data horizontally, then vertically\n",
      "INFO:regional_mom6.regridding:Adding time dimension\n",
      "INFO:regional_mom6.regridding:Renaming vertical coordinate to nz_... in salt_segment_003\n",
      "INFO:regional_mom6.regridding:Replacing old depth coordinates with incremental integers\n",
      "INFO:regional_mom6.regridding:Adding perpendicular dimension to salt_segment_003\n",
      "INFO:regional_mom6.regridding:Renaming vertical coordinate to nz_... in temp_segment_003\n",
      "INFO:regional_mom6.regridding:Replacing old depth coordinates with incremental integers\n",
      "INFO:regional_mom6.regridding:Adding perpendicular dimension to temp_segment_003\n",
      "INFO:regional_mom6.regridding:Renaming vertical coordinate to nz_... in u_segment_003\n",
      "INFO:regional_mom6.regridding:Replacing old depth coordinates with incremental integers\n",
      "INFO:regional_mom6.regridding:Adding perpendicular dimension to u_segment_003\n",
      "INFO:regional_mom6.regridding:Renaming vertical coordinate to nz_... in v_segment_003\n",
      "INFO:regional_mom6.regridding:Replacing old depth coordinates with incremental integers\n",
      "INFO:regional_mom6.regridding:Adding perpendicular dimension to v_segment_003\n",
      "INFO:regional_mom6.regridding:Adding perpendicular dimension to eta_segment_003\n",
      "WARNING:regional_mom6.regridding:All NaNs filled b/c bathymetry wasn't provided to the function. Add bathymetry_path to the segment class to avoid this\n",
      "INFO:regional_mom6.regridding:Generating encoding dictionary\n"
     ]
    },
    {
     "name": "stdout",
     "output_type": "stream",
     "text": [
      "Done.\n",
      "Processing east boundary velocity & tracers...Done.\n"
     ]
    },
    {
     "name": "stderr",
     "output_type": "stream",
     "text": [
      "INFO:regional_mom6.regridding:Creating coordinates of the boundary q/u/v points\n",
      "INFO:regional_mom6.regridding:Creating Regridder\n"
     ]
    },
    {
     "name": "stdout",
     "output_type": "stream",
     "text": [
      "Processing south boundary..."
     ]
    },
    {
     "name": "stderr",
     "output_type": "stream",
     "text": [
      "INFO:regional_mom6.regridding:Filling in missing data horizontally, then vertically\n",
      "INFO:regional_mom6.regridding:Filling in missing data horizontally, then vertically\n",
      "INFO:regional_mom6.regridding:Adding time dimension\n",
      "INFO:regional_mom6.regridding:Creating coordinates of the boundary q/u/v points\n",
      "INFO:regional_mom6.regridding:Adding perpendicular dimension to zamp_segment_001\n",
      "INFO:regional_mom6.regridding:Adding perpendicular dimension to zphase_segment_001\n",
      "WARNING:regional_mom6.regridding:All NaNs filled b/c bathymetry wasn't provided to the function. Add bathymetry_path to the segment class to avoid this\n",
      "INFO:regional_mom6.regridding:Generating encoding dictionary\n",
      "INFO:regional_mom6.regridding:Creating Regridder\n",
      "INFO:regional_mom6.regridding:Creating Regridder\n",
      "INFO:regional_mom6.regridding:Filling in missing data horizontally, then vertically\n",
      "INFO:regional_mom6.regridding:Filling in missing data horizontally, then vertically\n",
      "INFO:regional_mom6.regridding:Filling in missing data horizontally, then vertically\n",
      "INFO:regional_mom6.regridding:Filling in missing data horizontally, then vertically\n",
      "INFO:regional_mom6.rotation:Getting rotation angle\n",
      "INFO:regional_mom6.rotation:Calculating grid rotation angle\n",
      "INFO:regional_mom6.regridding:Creating coordinates of the boundary q/u/v points\n",
      "INFO:regional_mom6.regridding:Adding time dimension\n",
      "INFO:regional_mom6.regridding:Filling in missing data horizontally, then vertically\n",
      "INFO:regional_mom6.regridding:Creating coordinates of the boundary q/u/v points\n",
      "INFO:regional_mom6.regridding:Adding perpendicular dimension to uamp_segment_001\n",
      "INFO:regional_mom6.regridding:Adding perpendicular dimension to vamp_segment_001\n",
      "INFO:regional_mom6.regridding:Adding perpendicular dimension to uphase_segment_001\n",
      "INFO:regional_mom6.regridding:Adding perpendicular dimension to vphase_segment_001\n",
      "WARNING:regional_mom6.regridding:All NaNs filled b/c bathymetry wasn't provided to the function. Add bathymetry_path to the segment class to avoid this\n",
      "INFO:regional_mom6.regridding:Generating encoding dictionary\n",
      "INFO:regional_mom6.regridding:Creating coordinates of the boundary q/u/v points\n",
      "INFO:regional_mom6.regridding:Creating Regridder\n"
     ]
    },
    {
     "name": "stdout",
     "output_type": "stream",
     "text": [
      "Done\n",
      "Processing north boundary..."
     ]
    },
    {
     "name": "stderr",
     "output_type": "stream",
     "text": [
      "INFO:regional_mom6.regridding:Filling in missing data horizontally, then vertically\n",
      "INFO:regional_mom6.regridding:Filling in missing data horizontally, then vertically\n",
      "INFO:regional_mom6.regridding:Adding time dimension\n",
      "INFO:regional_mom6.regridding:Creating coordinates of the boundary q/u/v points\n",
      "INFO:regional_mom6.regridding:Adding perpendicular dimension to zamp_segment_002\n",
      "INFO:regional_mom6.regridding:Adding perpendicular dimension to zphase_segment_002\n",
      "WARNING:regional_mom6.regridding:All NaNs filled b/c bathymetry wasn't provided to the function. Add bathymetry_path to the segment class to avoid this\n",
      "INFO:regional_mom6.regridding:Generating encoding dictionary\n",
      "INFO:regional_mom6.regridding:Creating Regridder\n",
      "INFO:regional_mom6.regridding:Creating Regridder\n",
      "INFO:regional_mom6.regridding:Filling in missing data horizontally, then vertically\n",
      "INFO:regional_mom6.regridding:Filling in missing data horizontally, then vertically\n",
      "INFO:regional_mom6.regridding:Filling in missing data horizontally, then vertically\n",
      "INFO:regional_mom6.regridding:Filling in missing data horizontally, then vertically\n",
      "INFO:regional_mom6.rotation:Getting rotation angle\n",
      "INFO:regional_mom6.rotation:Calculating grid rotation angle\n",
      "INFO:regional_mom6.regridding:Creating coordinates of the boundary q/u/v points\n",
      "INFO:regional_mom6.regridding:Adding time dimension\n",
      "INFO:regional_mom6.regridding:Filling in missing data horizontally, then vertically\n",
      "INFO:regional_mom6.regridding:Creating coordinates of the boundary q/u/v points\n",
      "INFO:regional_mom6.regridding:Adding perpendicular dimension to uamp_segment_002\n",
      "INFO:regional_mom6.regridding:Adding perpendicular dimension to vamp_segment_002\n",
      "INFO:regional_mom6.regridding:Adding perpendicular dimension to uphase_segment_002\n",
      "INFO:regional_mom6.regridding:Adding perpendicular dimension to vphase_segment_002\n",
      "WARNING:regional_mom6.regridding:All NaNs filled b/c bathymetry wasn't provided to the function. Add bathymetry_path to the segment class to avoid this\n",
      "INFO:regional_mom6.regridding:Generating encoding dictionary\n",
      "INFO:regional_mom6.regridding:Creating coordinates of the boundary q/u/v points\n",
      "INFO:regional_mom6.regridding:Creating Regridder\n"
     ]
    },
    {
     "name": "stdout",
     "output_type": "stream",
     "text": [
      "Done\n",
      "Processing east boundary..."
     ]
    },
    {
     "name": "stderr",
     "output_type": "stream",
     "text": [
      "INFO:regional_mom6.regridding:Filling in missing data horizontally, then vertically\n",
      "INFO:regional_mom6.regridding:Filling in missing data horizontally, then vertically\n",
      "INFO:regional_mom6.regridding:Adding time dimension\n",
      "INFO:regional_mom6.regridding:Creating coordinates of the boundary q/u/v points\n",
      "INFO:regional_mom6.regridding:Adding perpendicular dimension to zamp_segment_003\n",
      "INFO:regional_mom6.regridding:Adding perpendicular dimension to zphase_segment_003\n",
      "WARNING:regional_mom6.regridding:All NaNs filled b/c bathymetry wasn't provided to the function. Add bathymetry_path to the segment class to avoid this\n",
      "INFO:regional_mom6.regridding:Generating encoding dictionary\n",
      "INFO:regional_mom6.regridding:Creating Regridder\n",
      "INFO:regional_mom6.regridding:Creating Regridder\n",
      "INFO:regional_mom6.regridding:Filling in missing data horizontally, then vertically\n",
      "INFO:regional_mom6.regridding:Filling in missing data horizontally, then vertically\n",
      "INFO:regional_mom6.regridding:Filling in missing data horizontally, then vertically\n",
      "INFO:regional_mom6.regridding:Filling in missing data horizontally, then vertically\n",
      "INFO:regional_mom6.rotation:Getting rotation angle\n",
      "INFO:regional_mom6.rotation:Calculating grid rotation angle\n",
      "INFO:regional_mom6.regridding:Creating coordinates of the boundary q/u/v points\n",
      "INFO:regional_mom6.regridding:Adding time dimension\n",
      "INFO:regional_mom6.regridding:Filling in missing data horizontally, then vertically\n",
      "INFO:regional_mom6.regridding:Creating coordinates of the boundary q/u/v points\n",
      "INFO:regional_mom6.regridding:Adding perpendicular dimension to uamp_segment_003\n",
      "INFO:regional_mom6.regridding:Adding perpendicular dimension to vamp_segment_003\n",
      "INFO:regional_mom6.regridding:Adding perpendicular dimension to uphase_segment_003\n",
      "INFO:regional_mom6.regridding:Adding perpendicular dimension to vphase_segment_003\n",
      "WARNING:regional_mom6.regridding:All NaNs filled b/c bathymetry wasn't provided to the function. Add bathymetry_path to the segment class to avoid this\n",
      "INFO:regional_mom6.regridding:Generating encoding dictionary\n"
     ]
    },
    {
     "name": "stdout",
     "output_type": "stream",
     "text": [
      "Done\n",
      "\u001b[01;96mAdding parameter changes to user_nl_mom_0001:\u001b[0m\n",
      "\n",
      "  ! Initial conditions\n",
      "  INIT_LAYERS_FROM_Z_FILE = True\n",
      "  TEMP_SALT_Z_INIT_FILE = init_tracers.nc\n",
      "  Z_INIT_FILE_PTEMP_VAR = temp\n",
      "  Z_INIT_ALE_REMAPPING = True\n",
      "  TEMP_SALT_INIT_VERTICAL_REMAP_ONLY = True\n",
      "  DEPRESS_INITIAL_SURFACE = True\n",
      "  SURFACE_HEIGHT_IC_FILE = init_eta.nc\n",
      "  SURFACE_HEIGHT_IC_VAR = eta_t\n",
      "  VELOCITY_CONFIG = file\n",
      "  VELOCITY_FILE = init_vel.nc\n",
      "\n",
      "\u001b[01;96mAdding parameter changes to user_nl_mom_0002:\u001b[0m\n",
      "\n",
      "  ! Initial conditions\n",
      "  INIT_LAYERS_FROM_Z_FILE = True\n",
      "  TEMP_SALT_Z_INIT_FILE = init_tracers.nc\n",
      "  Z_INIT_FILE_PTEMP_VAR = temp\n",
      "  Z_INIT_ALE_REMAPPING = True\n",
      "  TEMP_SALT_INIT_VERTICAL_REMAP_ONLY = True\n",
      "  DEPRESS_INITIAL_SURFACE = True\n",
      "  SURFACE_HEIGHT_IC_FILE = init_eta.nc\n",
      "  SURFACE_HEIGHT_IC_VAR = eta_t\n",
      "  VELOCITY_CONFIG = file\n",
      "  VELOCITY_FILE = init_vel.nc\n",
      "\n",
      "  ! Tides\n",
      "  TIDES = True\n",
      "  TIDE_M2 = True\n",
      "  CD_TIDES = 0.0018\n",
      "  TIDE_USE_EQ_PHASE = True\n",
      "  TIDE_REF_DATE = 2020, 1, 1\n",
      "  OBC_TIDE_ADD_EQ_PHASE = True\n",
      "  OBC_TIDE_N_CONSTITUENTS = 1\n",
      "  OBC_TIDE_CONSTITUENTS = \"M2\"\n",
      "  OBC_TIDE_REF_DATE = 2020, 1, 1\n",
      "\n",
      "  ! Tides\n",
      "  TIDES = True\n",
      "  TIDE_M2 = True\n",
      "  CD_TIDES = 0.0018\n",
      "  TIDE_USE_EQ_PHASE = True\n",
      "  TIDE_REF_DATE = 2020, 1, 1\n",
      "  OBC_TIDE_ADD_EQ_PHASE = True\n",
      "  OBC_TIDE_N_CONSTITUENTS = 1\n",
      "  OBC_TIDE_CONSTITUENTS = \"M2\"\n",
      "  OBC_TIDE_REF_DATE = 2020, 1, 1\n",
      "\n",
      "  ! Open boundary conditions\n",
      "  OBC_NUMBER_OF_SEGMENTS = 3\n",
      "  OBC_FREESLIP_VORTICITY = False\n",
      "  OBC_FREESLIP_STRAIN = False\n",
      "  OBC_COMPUTED_VORTICITY = True\n",
      "  OBC_COMPUTED_STRAIN = True\n",
      "  OBC_ZERO_BIHARMONIC = True\n",
      "  OBC_TRACER_RESERVOIR_LENGTH_SCALE_OUT = 3.0E+04\n",
      "  OBC_TRACER_RESERVOIR_LENGTH_SCALE_IN = 3000.0\n",
      "  BRUSHCUTTER_MODE = True\n",
      "  OBC_SEGMENT_001 = \"J=0,I=0:N,FLATHER,ORLANSKI,NUDGED,ORLANSKI_TAN,NUDGED_TAN\"\n",
      "  OBC_SEGMENT_001_VELOCITY_NUDGING_TIMESCALES = 0.3, 360.0\n",
      "  OBC_SEGMENT_001_DATA = \"U=file:forcing_obc_segment_001.nc(u),V=file:forcing_obc_segment_001.nc(v),SSH=file:forcing_obc_segment_001.nc(eta),TEMP=file:forcing_obc_segment_001.nc(temp),SALT=file:forcing_obc_segment_001.nc(salt),Uamp=file:tu_segment_001.nc(uamp),Uphase=file:tu_segment_001.nc(uphase),Vamp=file:tu_segment_001.nc(vamp),Vphase=file:tu_segment_001.nc(vphase),SSHamp=file:tz_segment_001.nc(zamp),SSHphase=file:tz_segment_001.nc(zphase)\"\n",
      "  OBC_SEGMENT_002 = \"J=N,I=N:0,FLATHER,ORLANSKI,NUDGED,ORLANSKI_TAN,NUDGED_TAN\"\n",
      "  OBC_SEGMENT_002_VELOCITY_NUDGING_TIMESCALES = 0.3, 360.0\n",
      "  OBC_SEGMENT_002_DATA = \"U=file:forcing_obc_segment_002.nc(u),V=file:forcing_obc_segment_002.nc(v),SSH=file:forcing_obc_segment_002.nc(eta),TEMP=file:forcing_obc_segment_002.nc(temp),SALT=file:forcing_obc_segment_002.nc(salt),Uamp=file:tu_segment_002.nc(uamp),Uphase=file:tu_segment_002.nc(uphase),Vamp=file:tu_segment_002.nc(vamp),Vphase=file:tu_segment_002.nc(vphase),SSHamp=file:tz_segment_002.nc(zamp),SSHphase=file:tz_segment_002.nc(zphase)\"\n",
      "  OBC_SEGMENT_003 = \"I=N,J=0:N,FLATHER,ORLANSKI,NUDGED,ORLANSKI_TAN,NUDGED_TAN\"\n",
      "  OBC_SEGMENT_003_VELOCITY_NUDGING_TIMESCALES = 0.3, 360.0\n",
      "  OBC_SEGMENT_003_DATA = \"U=file:forcing_obc_segment_003.nc(u),V=file:forcing_obc_segment_003.nc(v),SSH=file:forcing_obc_segment_003.nc(eta),TEMP=file:forcing_obc_segment_003.nc(temp),SALT=file:forcing_obc_segment_003.nc(salt),Uamp=file:tu_segment_003.nc(uamp),Uphase=file:tu_segment_003.nc(uphase),Vamp=file:tu_segment_003.nc(vamp),Vphase=file:tu_segment_003.nc(vphase),SSHamp=file:tz_segment_003.nc(zamp),SSHphase=file:tz_segment_003.nc(zphase)\"\n",
      "\n",
      "  ! Open boundary conditions\n",
      "  OBC_NUMBER_OF_SEGMENTS = 3\n",
      "  OBC_FREESLIP_VORTICITY = False\n",
      "  OBC_FREESLIP_STRAIN = False\n",
      "  OBC_COMPUTED_VORTICITY = True\n",
      "  OBC_COMPUTED_STRAIN = True\n",
      "  OBC_ZERO_BIHARMONIC = True\n",
      "  OBC_TRACER_RESERVOIR_LENGTH_SCALE_OUT = 3.0E+04\n",
      "  OBC_TRACER_RESERVOIR_LENGTH_SCALE_IN = 3000.0\n",
      "  BRUSHCUTTER_MODE = True\n",
      "  OBC_SEGMENT_001 = \"J=0,I=0:N,FLATHER,ORLANSKI,NUDGED,ORLANSKI_TAN,NUDGED_TAN\"\n",
      "  OBC_SEGMENT_001_VELOCITY_NUDGING_TIMESCALES = 0.3, 360.0\n",
      "  OBC_SEGMENT_001_DATA = \"U=file:forcing_obc_segment_001.nc(u),V=file:forcing_obc_segment_001.nc(v),SSH=file:forcing_obc_segment_001.nc(eta),TEMP=file:forcing_obc_segment_001.nc(temp),SALT=file:forcing_obc_segment_001.nc(salt),Uamp=file:tu_segment_001.nc(uamp),Uphase=file:tu_segment_001.nc(uphase),Vamp=file:tu_segment_001.nc(vamp),Vphase=file:tu_segment_001.nc(vphase),SSHamp=file:tz_segment_001.nc(zamp),SSHphase=file:tz_segment_001.nc(zphase)\"\n",
      "  OBC_SEGMENT_002 = \"J=N,I=N:0,FLATHER,ORLANSKI,NUDGED,ORLANSKI_TAN,NUDGED_TAN\"\n",
      "  OBC_SEGMENT_002_VELOCITY_NUDGING_TIMESCALES = 0.3, 360.0\n",
      "  OBC_SEGMENT_002_DATA = \"U=file:forcing_obc_segment_002.nc(u),V=file:forcing_obc_segment_002.nc(v),SSH=file:forcing_obc_segment_002.nc(eta),TEMP=file:forcing_obc_segment_002.nc(temp),SALT=file:forcing_obc_segment_002.nc(salt),Uamp=file:tu_segment_002.nc(uamp),Uphase=file:tu_segment_002.nc(uphase),Vamp=file:tu_segment_002.nc(vamp),Vphase=file:tu_segment_002.nc(vphase),SSHamp=file:tz_segment_002.nc(zamp),SSHphase=file:tz_segment_002.nc(zphase)\"\n",
      "  OBC_SEGMENT_003 = \"I=N,J=0:N,FLATHER,ORLANSKI,NUDGED,ORLANSKI_TAN,NUDGED_TAN\"\n",
      "  OBC_SEGMENT_003_VELOCITY_NUDGING_TIMESCALES = 0.3, 360.0\n",
      "  OBC_SEGMENT_003_DATA = \"U=file:forcing_obc_segment_003.nc(u),V=file:forcing_obc_segment_003.nc(v),SSH=file:forcing_obc_segment_003.nc(eta),TEMP=file:forcing_obc_segment_003.nc(temp),SALT=file:forcing_obc_segment_003.nc(salt),Uamp=file:tu_segment_003.nc(uamp),Uphase=file:tu_segment_003.nc(uphase),Vamp=file:tu_segment_003.nc(vamp),Vphase=file:tu_segment_003.nc(vphase),SSHamp=file:tz_segment_003.nc(zamp),SSHphase=file:tz_segment_003.nc(zphase)\"\n",
      "\n",
      "./xmlchange RUN_STARTDATE=2020-01-01 --non-local\n",
      "\n",
      "./xmlchange MOM6_MEMORY_MODE=dynamic_symmetric --non-local\n",
      "\n",
      "Case is ready to be built: /glade/u/home/akwong/croc_cases/little-nwa-three-boundary-t232\n"
     ]
    }
   ],
   "source": [
    "case.process_forcings()"
   ]
  },
  {
   "cell_type": "code",
   "execution_count": 24,
   "metadata": {},
   "outputs": [
    {
     "name": "stdout",
     "output_type": "stream",
     "text": [
      "./xmlchange NTASKS=4\n",
      "\n"
     ]
    },
    {
     "ename": "RuntimeError",
     "evalue": "Error running ./xmlchange NTASKS=4.",
     "output_type": "error",
     "traceback": [
      "\u001b[0;31m---------------------------------------------------------------------------\u001b[0m",
      "\u001b[0;31mRuntimeError\u001b[0m                              Traceback (most recent call last)",
      "Input \u001b[0;32mIn [24]\u001b[0m, in \u001b[0;36m<cell line: 0>\u001b[0;34m()\u001b[0m\n\u001b[1;32m      1\u001b[0m \u001b[38;5;66;03m# Because this case is so small, we change NTASKS to be 4 instead of the default of 128. \u001b[39;00m\n\u001b[1;32m      2\u001b[0m \u001b[38;5;28;01mfrom\u001b[39;00m\u001b[38;5;250m \u001b[39m\u001b[38;5;21;01mvisualCaseGen\u001b[39;00m\u001b[38;5;21;01m.\u001b[39;00m\u001b[38;5;21;01mcustom_widget_types\u001b[39;00m\u001b[38;5;21;01m.\u001b[39;00m\u001b[38;5;21;01mcase_tools\u001b[39;00m\u001b[38;5;250m \u001b[39m\u001b[38;5;28;01mimport\u001b[39;00m xmlchange\n\u001b[0;32m----> 3\u001b[0m \u001b[43mxmlchange\u001b[49m\u001b[43m(\u001b[49m\u001b[38;5;124;43m\"\u001b[39;49m\u001b[38;5;124;43mNTASKS\u001b[39;49m\u001b[38;5;124;43m\"\u001b[39;49m\u001b[43m,\u001b[49m\u001b[43m \u001b[49m\u001b[38;5;124;43m\"\u001b[39;49m\u001b[38;5;124;43m4\u001b[39;49m\u001b[38;5;124;43m\"\u001b[39;49m\u001b[43m)\u001b[49m\n",
      "File \u001b[0;32m~/CrocoDash/CrocoDash/visualCaseGen/visualCaseGen/custom_widget_types/case_tools.py:126\u001b[0m, in \u001b[0;36mxmlchange\u001b[0;34m(var, val, do_exec, is_non_local, out)\u001b[0m\n\u001b[1;32m    124\u001b[0m runout \u001b[38;5;241m=\u001b[39m subprocess\u001b[38;5;241m.\u001b[39mrun(cmd, shell\u001b[38;5;241m=\u001b[39m\u001b[38;5;28;01mTrue\u001b[39;00m, capture_output\u001b[38;5;241m=\u001b[39m\u001b[38;5;28;01mTrue\u001b[39;00m, cwd\u001b[38;5;241m=\u001b[39mcaseroot)\n\u001b[1;32m    125\u001b[0m \u001b[38;5;28;01mif\u001b[39;00m runout\u001b[38;5;241m.\u001b[39mreturncode \u001b[38;5;241m!=\u001b[39m \u001b[38;5;241m0\u001b[39m:\n\u001b[0;32m--> 126\u001b[0m     \u001b[38;5;28;01mraise\u001b[39;00m \u001b[38;5;167;01mRuntimeError\u001b[39;00m(\u001b[38;5;124mf\u001b[39m\u001b[38;5;124m\"\u001b[39m\u001b[38;5;124mError running \u001b[39m\u001b[38;5;132;01m{\u001b[39;00mcmd\u001b[38;5;132;01m}\u001b[39;00m\u001b[38;5;124m.\u001b[39m\u001b[38;5;124m\"\u001b[39m)\n",
      "\u001b[0;31mRuntimeError\u001b[0m: Error running ./xmlchange NTASKS=4."
     ]
    }
   ],
   "source": [
    "# Because this case is so small, we change NTASKS to be 4 instead of the default of 128. \n",
    "from visualCaseGen.custom_widget_types.case_tools import xmlchange\n",
    "xmlchange(\"NTASKS\", \"4\")"
   ]
  },
  {
   "cell_type": "markdown",
   "metadata": {},
   "source": [
    "# Section 4: Build and run the case\n",
    "\n",
    "After completing the previous steps, you are ready to build and run your CESM case. Begin by navigating to the case root directory specified during the case creation. Before proceeding, review the `user_nl_mom` file located in the case directory. This file contains MOM6 parameter settings that were automatically generated by CrocoDash. Carefully examine these parameters and make any necessary adjustments to fine-tune the model for your specific requirements. While CrocoDash aims to provide a solid starting point, further tuning and adjustments are typically necessary to improve the model for your use case.\n",
    "\n",
    "Once you have reviewed and modified the parameters as needed, you can prepare, build, and execute the case using the following commands: \n",
    "```\n",
    "./case.setup\n",
    "./case.build\n",
    "./case.submit\n",
    "```"
   ]
  }
 ],
 "metadata": {
  "kernelspec": {
   "display_name": "Python [conda env:CrocoDash]",
   "language": "python",
   "name": "conda-env-CrocoDash-py"
  },
  "language_info": {
   "codemirror_mode": {
    "name": "ipython",
    "version": 3
   },
   "file_extension": ".py",
   "mimetype": "text/x-python",
   "name": "python",
   "nbconvert_exporter": "python",
   "pygments_lexer": "ipython3",
   "version": "3.12.11"
  }
 },
 "nbformat": 4,
 "nbformat_minor": 4
}
