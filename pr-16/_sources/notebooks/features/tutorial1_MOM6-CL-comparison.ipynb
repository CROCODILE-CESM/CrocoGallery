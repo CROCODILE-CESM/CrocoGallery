{
 "cells": [
  {
   "cell_type": "markdown",
   "id": "0",
   "metadata": {},
   "source": [
    "# Tutorial 1: Model-Observation comparison with MOM6 and CrocoLake\n",
    "\n",
    "The goal of this tutorial is to get familiar with the basics of using CrocoCamp to interpolate MOM6 output onto the space of observations stored in CrocoLake. For this tutorial we will use output from a MOM6 run already stored on NCAR's HPC system, and CrocoLake observation files already in obs_sequence format and also stored on NCAR's HPC system."
   ]
  },
  {
   "cell_type": "markdown",
   "id": "ca83c458-db55-466f-be53-fe4e5a652c1d",
   "metadata": {},
   "source": [
    "## Running the workflow\n",
    "\n",
    "Running the workflow to interpolate the model is quite simple: create a `WorkflowModelObs` instance using a configuration file, and then call its `run()` method. For this tutorial we will use the configuration file provided at `../configs/config_tutorial_1.yaml`. A template file to use as reference is also provided at `../configs/config_template.yaml`.\n",
    "\n",
    "While running, CrocoCamp generates temporary input files that tell DART's `perfect_model_obs` executable where to find MOM6 and CrocoLake data to perform the interpolation."
   ]
  },
  {
   "cell_type": "code",
   "execution_count": null,
   "id": "5e3e260e-2e12-428f-9d61-7e714b0df082",
   "metadata": {},
   "outputs": [],
   "source": [
    "from crococamp.workflows import WorkflowModelObs\n",
    "\n",
    "# Create and run workflow to interpolate MOM6 model onto World Ocean Database obs space\n",
    "workflow_crocolake = WorkflowModelObs.from_config_file('config_tutorial_1.yaml')\n",
    "workflow_crocolake.run() #use flag clear_output=True if you want to re-run it and automatically clean all previous output"
   ]
  },
  {
   "cell_type": "markdown",
   "id": "5d779b7e-5283-4f73-b3b9-3ed55f151ef0",
   "metadata": {},
   "source": [
    "## Displaying the interactive map\n",
    "\n",
    "CrocoCamp generates a parquet dataset that contains the values of the WOD observations, the MOM6 model data interpolated onto the observations space, and some basic statistics.\n",
    "\n",
    "The dataframe by default is stored to `model_obs_df` (as a dask dataframe), and CrocoCamp offers tools to access all data, only the successful interpolations, or only the failed interpolations. For now, let's load only the interpolations that succeeded, which are ~98\\% of the total (see output message from previous cell):"
   ]
  },
  {
   "cell_type": "code",
   "execution_count": null,
   "id": "a661e051-125c-47a2-91d2-c88e23c0354c",
   "metadata": {},
   "outputs": [],
   "source": [
    "good_model_obs_df = workflow_crocolake.get_good_model_obs_df(compute=True) # compute=True triggers the compute of the dask dataframe, returning a pandas dataframe with data loaded in memory\n",
    "good_model_obs_df.head()                                                   # displays first 5 rows in the dataframe"
   ]
  },
  {
   "cell_type": "markdown",
   "id": "cca9ce87-3c56-4e19-ac78-42ff4e838964",
   "metadata": {},
   "source": [
    "Loading the interactive map to explore the succesfull interpolations is as simple as importing the widget and passing the dataframe to it:"
   ]
  },
  {
   "cell_type": "code",
   "execution_count": null,
   "id": "92214808-86f4-41ac-837a-973ebc03ce77",
   "metadata": {},
   "outputs": [],
   "source": [
    "from crococamp.viz import InteractiveWidgetMap\n",
    "# Create an interactive map widget to visualize model-observation comparisons\n",
    "# The widget provides controls for selecting variables, observation types, and time ranges\n",
    "widget = InteractiveWidgetMap(good_model_obs_df)\n",
    "widget.setup()"
   ]
  },
  {
   "cell_type": "markdown",
   "id": "8ff9656d-c0ab-4522-be04-97959a7d5c57",
   "metadata": {},
   "source": [
    "## Interpolation errors\n",
    "\n",
    "The dataframe built by CrocoCamp during `WorkflowModelObs.run()` contains the column `interpolated_model_QC`, which stores information about the quality of the interpolation. The value is set by DART's `perfect_model_obs` program, and you can find more information about it [here](https://docs.dart.ucar.edu/en/stable/assimilation_code/modules/assimilation/quality_control_mod.html) and [here](https://github.com/NCAR/DART/blob/1ddc21f418175fab0768b572866f54a2983dbb66/models/MOM6/model_mod.f90#L119C23-L119C41). In general, for this workflow we want QC≤2, and indeed the method `get_good_model_obs_df()` that we used earlier uses this criterion.\n",
    "\n",
    "Let's now have a look at the failed interpolations by loading the data and plotting it:"
   ]
  },
  {
   "cell_type": "code",
   "execution_count": null,
   "id": "fc39218a-b433-4770-b061-8917f6c7e5b4",
   "metadata": {},
   "outputs": [],
   "source": [
    "failed_model_obs_df = workflow_crocolake.get_failed_model_obs_df(compute=True) # compute=True triggers the compute of the dask dataframe, returning a pandas dataframe with data loaded in memory\n",
    "failed_model_obs_df.head()                                                     # displays first 5 rows in the dataframe"
   ]
  },
  {
   "cell_type": "code",
   "execution_count": null,
   "id": "603f6089-d3b4-4e69-9265-395a57681fd2",
   "metadata": {},
   "outputs": [],
   "source": [
    "widget_failed = InteractiveWidgetMap(good_model_obs_df)\n",
    "widget_failed.setup()"
   ]
  },
  {
   "cell_type": "markdown",
   "id": "9dc8f850-a5e9-48b1-bdbe-c6c8c2ca7a77",
   "metadata": {},
   "source": [
    "We note two things:\n",
    "\n",
    "1. when an interpolation fails, a value of -888888 is assigned to the interpolated model;\n",
    "2. from `head()`, we see values of QC greater than 1000.\n",
    "3. the failed observations are close to the model boundaries (north and east) or to land (west);\n",
    "\n",
    "The following command gives us the unique values of `model_QC`:"
   ]
  },
  {
   "cell_type": "code",
   "execution_count": null,
   "id": "df6cbd63-58af-42da-9706-63afdba52f8d",
   "metadata": {},
   "outputs": [],
   "source": [
    "failed_model_obs_df['interpolated_model_QC'].unique()"
   ]
  },
  {
   "cell_type": "markdown",
   "id": "38c0a9a2-662f-4465-ab6e-7e76a327a2d1",
   "metadata": {},
   "source": [
    "We should have only values equal to 1018. Values greater than 1000 are given as 1000 + failure_code, with failure_code from [here](https://github.com/NCAR/DART/blob/1ddc21f418175fab0768b572866f54a2983dbb66/models/MOM6/model_mod.f90#L119C23-L119C41). In this case, the QC flag 1018 indicates that one or more grid points required for the interpolation are not in the basin, so the interpolation cannot be performed. This is consistent with the visual inspection from the map, where we noticed that failed interpolations are closed to model boundary and to the sea/land border.\n",
    "\n",
    "Finally, if you want to load all the data at once, you can use the following command:"
   ]
  },
  {
   "cell_type": "code",
   "execution_count": null,
   "id": "be0eef3f-0be1-4855-8b76-113c37042c08",
   "metadata": {},
   "outputs": [],
   "source": [
    "# Load the parquet dataset generated by the workflow above\n",
    "model_obs_df = workflow_crocolake.get_all_model_obs_df(compute=True) # compute=True triggers the compute of the dask dataframe, returning a pandas dataframe with data loaded in memory\n",
    "model_obs_df.head() # displays first 5 rows in the dataframe"
   ]
  },
  {
   "cell_type": "code",
   "execution_count": null,
   "id": "ab7d5fb9-a40e-4ead-9257-b4d1a05d05f9",
   "metadata": {},
   "outputs": [],
   "source": []
  }
 ],
 "metadata": {
  "kernelspec": {
   "display_name": "Python [conda env:my-crococamp-2025]",
   "language": "python",
   "name": "conda-env-my-crococamp-2025-py"
  },
  "language_info": {
   "codemirror_mode": {
    "name": "ipython",
    "version": 3
   },
   "file_extension": ".py",
   "mimetype": "text/x-python",
   "name": "python",
   "nbconvert_exporter": "python",
   "pygments_lexer": "ipython3",
   "version": "3.12.0"
  }
 },
 "nbformat": 4,
 "nbformat_minor": 5
}
