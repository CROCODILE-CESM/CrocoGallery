{
 "cells": [
  {
   "cell_type": "markdown",
   "id": "4e574098",
   "metadata": {},
   "source": [
    "# Run a coupled sea ice (CICE) & ocean (MOM6) model"
   ]
  }
 ],
 "metadata": {
  "language_info": {
   "name": "python"
  }
 },
 "nbformat": 4,
 "nbformat_minor": 5
}
