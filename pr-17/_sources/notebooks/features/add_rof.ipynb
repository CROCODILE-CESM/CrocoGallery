{
 "cells": [
  {
   "cell_type": "markdown",
   "id": "e2475af0",
   "metadata": {},
   "source": [
    "# Add data runoff from GLOFAS to the Run"
   ]
  },
  {
   "cell_type": "markdown",
   "id": "ac977253",
   "metadata": {},
   "source": []
  }
 ],
 "metadata": {
  "language_info": {
   "name": "python"
  }
 },
 "nbformat": 4,
 "nbformat_minor": 5
}
