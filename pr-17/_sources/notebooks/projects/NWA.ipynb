{
 "cells": [
  {
   "cell_type": "markdown",
   "id": "cbc76a0d",
   "metadata": {},
   "source": [
    "# NWA\n",
    "\n",
    "This project recreates the 1/12th degree Northwest Atlantic Domain CROCODILE has been testing. To do that, we import previously generated grids, and use the same configuration options"
   ]
  },
  {
   "cell_type": "code",
   "execution_count": null,
   "id": "555c0605",
   "metadata": {},
   "outputs": [],
   "source": [
    "from CrocoDash.grid import Grid\n",
    "\n",
    "grid = Grid.from_supergrid(\"/glade/campaign/cgd/oce/projects/CROCODILE/workshops/2025/CrocoDash/grids/nwa/ocean_hgrid.nc\")\n"
   ]
  },
  {
   "cell_type": "code",
   "execution_count": null,
   "id": "dabc4043",
   "metadata": {},
   "outputs": [],
   "source": [
    "from CrocoDash.topo import Topo\n",
    "\n",
    "bathymetry_path='/glade/campaign/cgd/oce/projects/CROCODILE/workshops/2025/CrocoDash/grids/nwa/ocean_topo.nc'\n",
    "\n",
    "topo = Topo.from_topo_file(\n",
    "    grid = grid,\n",
    "    topo_file_path=bathymetry_path,\n",
    "    min_depth = 9.5,\n",
    ")"
   ]
  },
  {
   "cell_type": "code",
   "execution_count": null,
   "id": "19dd41ce",
   "metadata": {},
   "outputs": [],
   "source": [
    "from CrocoDash.vgrid import VGrid\n",
    "\n",
    "vgrid_path='/glade/campaign/cgd/oce/projects/CROCODILE/workshops/2025/CrocoDash/grids/nwa/vgrid_75_2m.nc'\n",
    "\n",
    "vgrid  = VGrid.from_file(vgrid_path)\n"
   ]
  },
  {
   "cell_type": "code",
   "execution_count": null,
   "id": "ab98cd18",
   "metadata": {},
   "outputs": [],
   "source": [
    "from pathlib import Path\n",
    "\n",
    "# CESM case (experiment) name\n",
    "casename = \"nwa.1\"\n",
    "\n",
    "# CESM source root (Update this path accordingly!!!)\n",
    "cesmroot = Path(\"<YOUR SANDBOX>\")\n",
    "\n",
    "# Place where all your input files go \n",
    "inputdir = Path.home() / \"croc_input\" / casename\n",
    "    \n",
    "# CESM case directory\n",
    "caseroot = Path.home() / \"croc_cases\" / casename"
   ]
  },
  {
   "cell_type": "code",
   "execution_count": null,
   "id": "fb8ffe78",
   "metadata": {},
   "outputs": [],
   "source": [
    "from CrocoDash.case import Case\n",
    "grid.name = \"nwa_1\"\n",
    "case = Case(\n",
    "    cesmroot = cesmroot,\n",
    "    caseroot = caseroot,\n",
    "    inputdir = inputdir,\n",
    "    ocn_grid = grid,\n",
    "    ocn_vgrid = vgrid,\n",
    "    ocn_topo = topo,\n",
    "    project = 'NCGD0011',\n",
    "    override = True,\n",
    "    machine = \"derecho\",\n",
    "    compset = \"1850_DATM%JRA_SLND_SICE_MOM6_DROF%GLOFAS_SGLC_SWAV\"\n",
    ")"
   ]
  },
  {
   "cell_type": "code",
   "execution_count": null,
   "id": "a2afc463",
   "metadata": {},
   "outputs": [],
   "source": [
    "case.configure_forcings(\n",
    "    date_range = [\"2000-01-01 00:00:00\", \"2000-01-31 00:00:00\"],\n",
    "    tidal_constituents = ['M2','S2','N2','K2','K1','O1','P1','Q1','MM','MF'],\n",
    "    tpxo_elevation_filepath = \"/glade/u/home/manishrv/scratch/ice/croc/tpxo/h_tpxo9.v1.nc\",\n",
    "    tpxo_velocity_filepath = \"/glade/u/home/manishrv/scratch/ice/croc/tpxo/u_tpxo9.v1.nc\",\n",
    "    chl_processed_filepath = \"/glade/campaign/cesm/cesmdata/cseg/inputdata/ocn/mom/croc/chl/data/SeaWIFS.L3m.MC.CHL.chlor_a.0.25deg.nc\",\n",
    "    runoff_esmf_mesh_filepath = \"/glade/campaign/cesm/cesmdata/cseg/inputdata/ocn/mom/croc/rof/glofas/dis24/GLOFAS_esmf_mesh_v4.nc\",\n",
    "    too_much_data = True, \n",
    "    boundaries = [\"south\", \"north\", \"east\"]\n",
    ")"
   ]
  },
  {
   "cell_type": "markdown",
   "id": "8ee6e6b1",
   "metadata": {},
   "source": [
    "### Configure Forcings\n",
    "The previous forcing configuration is how the NWA domain was setup. The use of too_much_data will copy a folder of code into your input directory to generate the initial & boundary conditions outside of the notebook (We do this because NWA is a large domain and many times is too large to run inside the resources for this notebook). Please go there to generate those after finishing running the notebook."
   ]
  },
  {
   "cell_type": "code",
   "execution_count": null,
   "id": "f4587c52",
   "metadata": {},
   "outputs": [],
   "source": [
    "case.process_forcings()"
   ]
  },
  {
   "cell_type": "markdown",
   "id": "cec3df23",
   "metadata": {},
   "source": [
    "# Post Setup\n",
    "\n",
    "1. Copy the datm_streams.xml\n",
    "2. Build & Submit!"
   ]
  },
  {
   "cell_type": "code",
   "execution_count": null,
   "id": "4a24df18",
   "metadata": {},
   "outputs": [],
   "source": [
    "import shutil\n",
    "source_file = \"/glade/u/home/manishrv/croc_cases/gustavo-glorys-2/datm.streams.xml\"\n",
    "destination_file = caseroot/\"datm.streams.xml\"\n",
    "shutil.copy(source_file, destination_file)"
   ]
  }
 ],
 "metadata": {
  "kernelspec": {
   "display_name": "Python 3",
   "language": "python",
   "name": "python3"
  },
  "language_info": {
   "codemirror_mode": {
    "name": "ipython",
    "version": 3
   },
   "file_extension": ".py",
   "mimetype": "text/x-python",
   "name": "python",
   "nbconvert_exporter": "python",
   "pygments_lexer": "ipython3",
   "version": "3.11.13"
  }
 },
 "nbformat": 4,
 "nbformat_minor": 5
}
