{
 "cells": [
  {
   "cell_type": "code",
   "execution_count": 1,
   "id": "cbc76a0d",
   "metadata": {},
   "outputs": [],
   "source": [
    "%load_ext autoreload\n",
    "%autoreload 2\n",
    "import os\n",
    "import shutil"
   ]
  },
  {
   "cell_type": "code",
   "execution_count": 2,
   "id": "555c0605",
   "metadata": {},
   "outputs": [],
   "source": [
    "from CrocoDash.grid import Grid\n",
    "\n",
    "grid = Grid.from_supergrid(\"/glade/derecho/scratch/manishrv/croc_input/gustavo-glorys-1/ocnice/ocean_hgrid.nc\")\n"
   ]
  },
  {
   "cell_type": "code",
   "execution_count": 3,
   "id": "dabc4043",
   "metadata": {},
   "outputs": [],
   "source": [
    "from CrocoDash.topo import Topo\n",
    "\n",
    "bathymetry_path='/glade/derecho/scratch/manishrv/croc_input/gustavo-glorys-1/ocnice/ocean_topo.nc'\n",
    "\n",
    "topo = Topo.from_topo_file(\n",
    "    grid = grid,\n",
    "    topo_file_path=bathymetry_path,\n",
    "    min_depth = 9.5,\n",
    ")"
   ]
  },
  {
   "cell_type": "code",
   "execution_count": 4,
   "id": "19dd41ce",
   "metadata": {},
   "outputs": [],
   "source": [
    "from CrocoDash.vgrid import VGrid\n",
    "\n",
    "vgrid_path='/glade/derecho/scratch/manishrv/croc_input/gustavo-glorys-1/ocnice/vgrid_75_2m.nc'\n",
    "\n",
    "vgrid  = VGrid.from_file(vgrid_path)\n"
   ]
  },
  {
   "cell_type": "code",
   "execution_count": 5,
   "id": "95c76087",
   "metadata": {},
   "outputs": [],
   "source": [
    "from pathlib import Path"
   ]
  },
  {
   "cell_type": "code",
   "execution_count": 6,
   "id": "ab98cd18",
   "metadata": {},
   "outputs": [],
   "source": [
    "# CESM case (experiment) name\n",
    "casename = \"nwa.jra.1\"\n",
    "\n",
    "# CESM source root (Update this path accordingly!!!)\n",
    "cesmroot = Path(\"/glade/u/home/manishrv/work/installs/CROCESM_beta04_clean\")\n",
    "\n",
    "# Place where all your input files go \n",
    "inputdir = Path.home() / \"scratch\" / \"croc_input\" / casename\n",
    "    \n",
    "# CESM case directory\n",
    "caseroot = Path.home() / \"croc_cases\" / casename"
   ]
  },
  {
   "cell_type": "code",
   "execution_count": 7,
   "id": "fb8ffe78",
   "metadata": {},
   "outputs": [
    {
     "name": "stderr",
     "output_type": "stream",
     "text": [
      "INFO:  csp_solver:CspSolver initialized.\n"
     ]
    },
    {
     "name": "stdout",
     "output_type": "stream",
     "text": [
      "\u001b[01;96mCreating case...\u001b[0m\n",
      "\n",
      "• Updating ccs_config/modelgrid_aliases_nuopc.xml file to include the new resolution \"nwa.jra.1\" consisting of the following component grids.\n",
      " atm grid: \"TL319\", lnd grid: \"TL319\", ocn grid: \"nwa_jra_1\".\n",
      "\n",
      "• Updating ccs_config/component_grids_nuopc.xml file to include newly generated ocean grid \"nwa_jra_1\" with the following properties:\n",
      " nx: 740, ny: 780. ocean mesh: /glade/u/home/manishrv/scratch/croc_input/nwa.jra.1/ocnice/ESMF_mesh_nwa_jra_1_74f9c7.nc.\u001b[0m\n",
      "\n",
      "\u001b[01;96mRunning the create_newcase tool with the following command:\u001b[0m\n",
      "\n",
      "/glade/u/home/manishrv/work/installs/CROCESM_beta04_clean/cime/scripts/create_newcase --compset 1850_DATM%JRA_SLND_SICE_MOM6_DROF%JRA_SGLC_SWAV --res nwa.jra.1 --case /glade/u/home/manishrv/croc_cases/nwa.jra.1 --machine derecho --run-unsupported --project NCGD0011 --non-local \n",
      "\n",
      "\u001b[01;96mThe create_newcase command was successful.\u001b[0m\n",
      "\n",
      "\u001b[01;96mNavigating to the case directory:\u001b[0m\n",
      "\n",
      "cd /glade/u/home/manishrv/croc_cases/nwa.jra.1\n",
      "\n",
      "\u001b[01;96mApply NTASK grid xml changes:\u001b[0m\n",
      "\n",
      "./xmlchange NTASKS_OCN=768 --non-local\n",
      "\n",
      "\u001b[01;96mRunning the case.setup script with the following command:\u001b[0m\n",
      "\n",
      "./case.setup --non-local\n",
      "\n",
      "\u001b[01;96mAdding parameter changes to user_nl_mom:\u001b[0m\n",
      "\n",
      "  ! Custom Horizonal Grid, Topography, and Vertical Grid\n",
      "  INPUTDIR = /glade/u/home/manishrv/scratch/croc_input/nwa.jra.1/ocnice\n",
      "  TRIPOLAR_N = False\n",
      "  REENTRANT_X = False\n",
      "  REENTRANT_Y = False\n",
      "  NIGLOBAL = 740\n",
      "  NJGLOBAL = 780\n",
      "  GRID_CONFIG = mosaic\n",
      "  GRID_FILE = ocean_hgrid_nwa_jra_1_74f9c7.nc\n",
      "  TOPO_CONFIG = file\n",
      "  TOPO_FILE = ocean_topog_nwa_jra_1_74f9c7.nc\n",
      "  MAXIMUM_DEPTH = 8369.66015625\n",
      "  MINIMUM_DEPTH = 9.5\n",
      "  NK = 75\n",
      "  COORD_CONFIG = none\n",
      "  ALE_COORDINATE_CONFIG = FILE:ocean_vgrid_nwa_jra_1_74f9c7.nc\n",
      "  REGRIDDING_COORDINATE_MODE = Z*\n",
      "\n",
      "  ! Timesteps (based on grid resolution)\n",
      "  DT = 50.0\n",
      "  DT_THERM = 200.0\n",
      "\n"
     ]
    },
    {
     "name": "stderr",
     "output_type": "stream",
     "text": [
      "INFO:\tstage:SUCCESS: All stages are complete.\n"
     ]
    },
    {
     "name": "stdout",
     "output_type": "stream",
     "text": [
      "\u001b[1;32mCase created successfully at /glade/u/home/manishrv/croc_cases/nwa.jra.1.\u001b[0m\n",
      "\n",
      "\u001b[01;96mTo further customize, build, and run the case, navigate to the case directory in your terminal. To create another case, restart the notebook.\u001b[0m\n",
      "\n"
     ]
    }
   ],
   "source": [
    "from CrocoDash.case import Case\n",
    "grid.name = \"nwa_jra_1\"\n",
    "case = Case(\n",
    "    cesmroot = cesmroot,\n",
    "    caseroot = caseroot,\n",
    "    inputdir = inputdir,\n",
    "    ocn_grid = grid,\n",
    "    ocn_vgrid = vgrid,\n",
    "    ocn_topo = topo,\n",
    "    project = 'NCGD0011',\n",
    "    override = True,\n",
    "    machine = \"derecho\",\n",
    "    compset = \"1850_DATM%JRA_SLND_SICE_MOM6_DROF%JRA_SGLC_SWAV\"\n",
    ")"
   ]
  },
  {
   "cell_type": "code",
   "execution_count": 8,
   "id": "a2afc463",
   "metadata": {},
   "outputs": [
    {
     "name": "stderr",
     "output_type": "stream",
     "text": [
      "INFO:CrocoDash.raw_data_access.datasets.glorys:This data access method retuns a script at path /glade/derecho/scratch/manishrv/tmp/tmp97fedwxa/get_glorys_data.sh to run to get access data \n"
     ]
    },
    {
     "name": "stdout",
     "output_type": "stream",
     "text": [
      "Large data workflow was called, please go to the large data workflow path: /glade/u/home/manishrv/scratch/croc_input/nwa.jra.1/glorys/large_data_workflow and run the driver script there.\n"
     ]
    }
   ],
   "source": [
    "case.configure_forcings(\n",
    "    date_range = [\"2000-01-01 00:00:00\", \"2019-12-31 00:00:00\"],\n",
    "    tidal_constituents = ['M2','S2','N2','K2','K1','O1','P1','Q1','MM','MF'],\n",
    "    tpxo_elevation_filepath = \"/glade/u/home/manishrv/scratch/ice/croc/tpxo/h_tpxo9.v1.nc\",\n",
    "    tpxo_velocity_filepath = \"/glade/u/home/manishrv/scratch/ice/croc/tpxo/u_tpxo9.v1.nc\",\n",
    "    too_much_data = True, \n",
    "    boundaries = [\"south\", \"north\", \"east\"]\n",
    ")"
   ]
  },
  {
   "cell_type": "code",
   "execution_count": 9,
   "id": "f4587c52",
   "metadata": {},
   "outputs": [
    {
     "name": "stdout",
     "output_type": "stream",
     "text": [
      "\u001b[01;96mAdding parameter changes to user_nl_mom:\u001b[0m\n",
      "\n",
      "  ! Initial conditions\n",
      "  INIT_LAYERS_FROM_Z_FILE = True\n",
      "  TEMP_SALT_Z_INIT_FILE = init_tracers.nc\n",
      "  Z_INIT_FILE_PTEMP_VAR = temp\n",
      "  Z_INIT_ALE_REMAPPING = True\n",
      "  TEMP_SALT_INIT_VERTICAL_REMAP_ONLY = True\n",
      "  DEPRESS_INITIAL_SURFACE = True\n",
      "  SURFACE_HEIGHT_IC_FILE = init_eta.nc\n",
      "  SURFACE_HEIGHT_IC_VAR = eta_t\n",
      "  VELOCITY_CONFIG = file\n",
      "  VELOCITY_FILE = init_vel.nc\n",
      "\n",
      "  ! Tides\n",
      "  TIDES = True\n",
      "  TIDE_M2 = True\n",
      "  CD_TIDES = 0.0018\n",
      "  TIDE_USE_EQ_PHASE = True\n",
      "  TIDE_REF_DATE = 2000, 1, 1\n",
      "  OBC_TIDE_ADD_EQ_PHASE = True\n",
      "  OBC_TIDE_N_CONSTITUENTS = 10\n",
      "  OBC_TIDE_CONSTITUENTS = \"M2, S2, N2, K2, K1, O1, P1, Q1, MM, MF\"\n",
      "  OBC_TIDE_REF_DATE = 2000, 1, 1\n",
      "\n",
      "  ! Open boundary conditions\n",
      "  OBC_NUMBER_OF_SEGMENTS = 3\n",
      "  OBC_FREESLIP_VORTICITY = False\n",
      "  OBC_FREESLIP_STRAIN = False\n",
      "  OBC_COMPUTED_VORTICITY = True\n",
      "  OBC_COMPUTED_STRAIN = True\n",
      "  OBC_ZERO_BIHARMONIC = True\n",
      "  OBC_TRACER_RESERVOIR_LENGTH_SCALE_OUT = 3.0E+04\n",
      "  OBC_TRACER_RESERVOIR_LENGTH_SCALE_IN = 3000.0\n",
      "  BRUSHCUTTER_MODE = True\n",
      "  OBC_SEGMENT_001 = \"J=0,I=0:N,FLATHER,ORLANSKI,NUDGED,ORLANSKI_TAN,NUDGED_TAN\"\n",
      "  OBC_SEGMENT_001_VELOCITY_NUDGING_TIMESCALES = 0.3, 360.0\n",
      "  OBC_SEGMENT_001_DATA = \"U=file:forcing_obc_segment_001.nc(u),V=file:forcing_obc_segment_001.nc(v),SSH=file:forcing_obc_segment_001.nc(eta),TEMP=file:forcing_obc_segment_001.nc(temp),SALT=file:forcing_obc_segment_001.nc(salt),Uamp=file:tu_segment_001.nc(uamp),Uphase=file:tu_segment_001.nc(uphase),Vamp=file:tu_segment_001.nc(vamp),Vphase=file:tu_segment_001.nc(vphase),SSHamp=file:tz_segment_001.nc(zamp),SSHphase=file:tz_segment_001.nc(zphase)\"\n",
      "  OBC_SEGMENT_002 = \"J=N,I=N:0,FLATHER,ORLANSKI,NUDGED,ORLANSKI_TAN,NUDGED_TAN\"\n",
      "  OBC_SEGMENT_002_VELOCITY_NUDGING_TIMESCALES = 0.3, 360.0\n",
      "  OBC_SEGMENT_002_DATA = \"U=file:forcing_obc_segment_002.nc(u),V=file:forcing_obc_segment_002.nc(v),SSH=file:forcing_obc_segment_002.nc(eta),TEMP=file:forcing_obc_segment_002.nc(temp),SALT=file:forcing_obc_segment_002.nc(salt),Uamp=file:tu_segment_002.nc(uamp),Uphase=file:tu_segment_002.nc(uphase),Vamp=file:tu_segment_002.nc(vamp),Vphase=file:tu_segment_002.nc(vphase),SSHamp=file:tz_segment_002.nc(zamp),SSHphase=file:tz_segment_002.nc(zphase)\"\n",
      "  OBC_SEGMENT_003 = \"I=N,J=0:N,FLATHER,ORLANSKI,NUDGED,ORLANSKI_TAN,NUDGED_TAN\"\n",
      "  OBC_SEGMENT_003_VELOCITY_NUDGING_TIMESCALES = 0.3, 360.0\n",
      "  OBC_SEGMENT_003_DATA = \"U=file:forcing_obc_segment_003.nc(u),V=file:forcing_obc_segment_003.nc(v),SSH=file:forcing_obc_segment_003.nc(eta),TEMP=file:forcing_obc_segment_003.nc(temp),SALT=file:forcing_obc_segment_003.nc(salt),Uamp=file:tu_segment_003.nc(uamp),Uphase=file:tu_segment_003.nc(uphase),Vamp=file:tu_segment_003.nc(vamp),Vphase=file:tu_segment_003.nc(vphase),SSHamp=file:tz_segment_003.nc(zamp),SSHphase=file:tz_segment_003.nc(zphase)\"\n",
      "\n",
      "./xmlchange RUN_STARTDATE=2000-01-01 --non-local\n",
      "\n",
      "./xmlchange MOM6_MEMORY_MODE=dynamic_symmetric --non-local\n",
      "\n",
      "Case is ready to be built: /glade/u/home/manishrv/croc_cases/nwa.jra.1\n"
     ]
    }
   ],
   "source": [
    "case.process_forcings(process_initial_condition = False, process_chl = False,process_runoff= False, process_tides=False, process_velocity_tracers=False, process_param_changes=True)"
   ]
  },
  {
   "cell_type": "markdown",
   "id": "cec3df23",
   "metadata": {},
   "source": [
    "# Post Setup\n",
    "1. Delete the user_nl_mom changes\n",
    "2. Copy the MOM_input Gustavo has\n",
    "3. Copy the datm_streams.xml"
   ]
  },
  {
   "cell_type": "code",
   "execution_count": 10,
   "id": "35dcf7dc",
   "metadata": {},
   "outputs": [],
   "source": [
    "\n",
    "input_file = caseroot/\"user_nl_mom\"\n",
    "output_file = caseroot/\"user_nl_mom_filtered\"\n",
    "\n",
    "# Keywords to keep\n",
    "keywords = (\"ALE_COORDINATE_CONFIG\", \"GRID_FILE\", \"TOPO_FILE\", \"INPUTDIR\")\n",
    "\n",
    "# Read and filter the lines\n",
    "with open(input_file, \"r\") as infile, open(output_file, \"w\") as outfile:\n",
    "    for line in infile:\n",
    "        if line.strip().startswith(keywords):\n",
    "            outfile.write(line)\n",
    "    # Add the new line at the end\n",
    "    outfile.write(\"USE_CFC_CAP=False\\n\")\n",
    "\n",
    "os.rename(output_file, input_file)"
   ]
  },
  {
   "cell_type": "code",
   "execution_count": 11,
   "id": "27eed09b",
   "metadata": {},
   "outputs": [
    {
     "data": {
      "text/plain": [
       "PosixPath('/glade/u/home/manishrv/croc_cases/nwa.jra.1/SourceMods/src.mom/MOM_input')"
      ]
     },
     "execution_count": 11,
     "metadata": {},
     "output_type": "execute_result"
    }
   ],
   "source": [
    "source_file = \"/glade/u/home/manishrv/croc_cases/gustavo-glorys-2/SourceMods/src.mom/MOM_input\"\n",
    "destination_file = caseroot/\"SourceMods/src.mom/MOM_input\"\n",
    "shutil.copy(source_file, destination_file)"
   ]
  },
  {
   "cell_type": "code",
   "execution_count": 12,
   "id": "4a24df18",
   "metadata": {},
   "outputs": [
    {
     "data": {
      "text/plain": [
       "PosixPath('/glade/u/home/manishrv/croc_cases/nwa.jra.1/datm.streams.xml')"
      ]
     },
     "execution_count": 12,
     "metadata": {},
     "output_type": "execute_result"
    }
   ],
   "source": [
    "source_file = \"/glade/u/home/manishrv/croc_cases/gustavo-glorys-2/datm.streams.xml\"\n",
    "destination_file = caseroot/\"datm.streams.xml\"\n",
    "shutil.copy(source_file, destination_file)"
   ]
  },
  {
   "cell_type": "code",
   "execution_count": 13,
   "id": "4271bb7e",
   "metadata": {},
   "outputs": [
    {
     "data": {
      "text/plain": [
       "PosixPath('/glade/u/home/manishrv/croc_cases/nwa.glofas.3/drof.streams.xml')"
      ]
     },
     "execution_count": 13,
     "metadata": {},
     "output_type": "execute_result"
    }
   ],
   "source": [
    "source_file = \"/glade/u/home/manishrv/croc_cases/nwa.glofas.2/drof.streams.xml\"\n",
    "destination_file = caseroot/\"drof.streams.xml\"\n",
    "shutil.copy(source_file, destination_file)"
   ]
  },
  {
   "cell_type": "code",
   "execution_count": 13,
   "id": "e02ff07c-8e28-4c80-bcda-8e3446aa224c",
   "metadata": {},
   "outputs": [
    {
     "data": {
      "text/plain": [
       "PosixPath('/glade/u/home/manishrv/scratch/croc_input/nwa.jra.1/ocnice/seawifs-clim-1997-2010-nwa12.nc')"
      ]
     },
     "execution_count": 13,
     "metadata": {},
     "output_type": "execute_result"
    }
   ],
   "source": [
    "source_file = \"/glade/derecho/scratch/manishrv/croc_input/gustavo-glorys-1/ocnice/seawifs-clim-1997-2010-nwa12.nc\"\n",
    "destination_file = inputdir/\"ocnice/seawifs-clim-1997-2010-nwa12.nc\"\n",
    "shutil.copy(source_file, destination_file)"
   ]
  },
  {
   "cell_type": "code",
   "execution_count": 14,
   "id": "06e0b355-4f33-4a5a-ad39-77c2848e8a3c",
   "metadata": {},
   "outputs": [
    {
     "name": "stdout",
     "output_type": "stream",
     "text": [
      "./xmlchange CALENDAR=GREGORIAN --non-local\n",
      "\n"
     ]
    }
   ],
   "source": [
    "from visualCaseGen.custom_widget_types.case_tools import xmlchange\n",
    "xmlchange(\"CALENDAR\", \"GREGORIAN\", is_non_local=True)"
   ]
  }
 ],
 "metadata": {
  "kernelspec": {
   "display_name": "Python 3",
   "language": "python",
   "name": "python3"
  },
  "language_info": {
   "codemirror_mode": {
    "name": "ipython",
    "version": 3
   },
   "file_extension": ".py",
   "mimetype": "text/x-python",
   "name": "python",
   "nbconvert_exporter": "python",
   "pygments_lexer": "ipython3",
   "version": "3.11.13"
  }
 },
 "nbformat": 4,
 "nbformat_minor": 5
}
