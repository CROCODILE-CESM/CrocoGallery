{
 "cells": [
  {
   "cell_type": "markdown",
   "id": "33bc0498",
   "metadata": {},
   "source": [
    "# Run a coupled biogeochemistry (MARBL) & ocean (MOM6) model"
   ]
  }
 ],
 "metadata": {
  "language_info": {
   "name": "python"
  }
 },
 "nbformat": 4,
 "nbformat_minor": 5
}
