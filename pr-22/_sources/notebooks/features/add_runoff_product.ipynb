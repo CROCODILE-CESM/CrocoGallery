{
 "cells": [
  {
   "cell_type": "markdown",
   "id": "a105a355",
   "metadata": {},
   "source": [
    "# Adding your own runoff product to the CESM (Advanced)\n",
    "To add your own runoff product to the CESM, you need three things. A Stream Definition File, an ESMF Mesh file, and the dimensions of your raw data."
   ]
  },
  {
   "cell_type": "markdown",
   "id": "d76cb9e0",
   "metadata": {},
   "source": [
    "## ESMF Mesh File\n",
    "An ESMF Mesh File can be created like below, using CrocoDash Grids."
   ]
  },
  {
   "cell_type": "code",
   "execution_count": null,
   "id": "0bc5b47e",
   "metadata": {},
   "outputs": [],
   "source": [
    "from CrocoDash.grid import Grid\n",
    "from CrocoDash.topo import Topo\n",
    "import xarray as xr\n",
    "\n",
    "grid = Grid(\n",
    "    lenx=360,\n",
    "    leny       = 150,         # grid length in y direction\n",
    "    cyclic_x=True   ,    \n",
    "    ystart     = -60,       # start/end 10 degrees above/below poles to avoid singularity\n",
    "    resolution = 0.10,\n",
    "    name = \"GLOFAS\",\n",
    ")\n",
    "topo = Topo(grid, min_depth = 0)\n",
    "topo.set_flat(10)\n",
    "topo.write_esmf_mesh(\"<path>\")"
   ]
  },
  {
   "cell_type": "markdown",
   "id": "646e66e2",
   "metadata": {},
   "source": [
    "## Stream Definition File\n",
    "\n",
    "In your case directory, copy the following file and name it `drof.streams.xml`:\n",
    "\n",
    "```xml\n",
    "<?xml version=\"1.0\"?>\n",
    "<file id=\"stream\" version=\"2.0\">\n",
    "\n",
    "  <stream_info name=\"rof.<PRODUCT_NAME>\">\n",
    "    <taxmode>cycle</taxmode>\n",
    "    <tintalgo>upper</tintalgo>\n",
    "    <readmode>single</readmode>\n",
    "    <mapalgo>bilinear</mapalgo>\n",
    "    <dtlimit>3.0</dtlimit>\n",
    "    <year_first>\"START_YEAR\"</year_first>\n",
    "    <year_last>\"END_YEAR\"</year_last>\n",
    "    <year_align>\"START_YEAR\"</year_align>\n",
    "    <vectors>null</vectors>\n",
    "    <meshfile>\"PATH_TO_THE_PREVIOUSLY_GENERATED_ESMF_MESH_FILE\"</meshfile>\n",
    "    <lev_dimname>null</lev_dimname>\n",
    "    <datafiles>\n",
    "      <file>\"PATH_TO_RAW_DATA_FILE_IN_NETCDF3_64BIT_OFFSET\"</file>\n",
    "    </datafiles>\n",
    "    <datavars>\n",
    "      <var>\"NETCDF_VARIABLE_NAME_IN_FILE\" Forr_rofl</var>\n",
    "    </datavars>\n",
    "    <offset>0</offset>\n",
    "  </stream_info>\n",
    "\n",
    "</file>\n",
    "```\n",
    "\n",
    "### Additional Notes\n",
    "\n",
    "1. Update the CESM `components/cdeps/drof` directory.  \n",
    "   The following entry should already exist in `namelist_definition_drof.xml`:\n",
    "\n",
    "```xml\n",
    "<value drof_mode=\"<PRODUCT_NAME>\">rof.<PRODUCT_NAME></value>\n",
    "```\n",
    "\n",
    "2. Update `config_component` with the new `<PRODUCT_NAME>`:\n",
    "\n",
    "```xml\n",
    "<desc rof=\"DROF[%NULL][%NYF][%<PRODUCT_NAME>]...\">\n",
    "```\n",
    "\n",
    "Make sure to replace placeholders (`<PRODUCT_NAME>`, `START_YEAR`, `END_YEAR`, file paths, and variable names) with your actual values.\n"
   ]
  },
  {
   "cell_type": "markdown",
   "id": "27b8e003",
   "metadata": {},
   "source": [
    "## Add the dimensions\n",
    "Make the following xml changes in your case directory:\n",
    "\n",
    "```\n",
    "./xmlchange ROF_NY=1500\n",
    "\n",
    "./xmlchange ROF_NX=3600\n",
    "\n",
    "./xmlchange ROF_DOMAIN_MESH=<MESH PATH>\n",
    "```\n",
    "\n",
    "There may be a few additional changes in the CESM, but this covers a majority of them."
   ]
  },
  {
   "cell_type": "markdown",
   "id": "20099110",
   "metadata": {},
   "source": [
    "Then, you can add the mapping files generated through CrocoDash to your case (which requires a passed in ESMF mesh file)"
   ]
  }
 ],
 "metadata": {
  "language_info": {
   "name": "python"
  }
 },
 "nbformat": 4,
 "nbformat_minor": 5
}
