{
 "cells": [
  {
   "cell_type": "markdown",
   "metadata": {},
   "source": [
    "# Set up a rectangular regional CESM-MOM6 run\n",
    "\n",
    "A typical workflow of utilizing CrocoDash consists of four main steps:\n",
    "\n",
    "1. Generate a regional MOM6 domain.\n",
    "2. Create the CESM case.\n",
    "3. Prepare ocean forcing data.\n",
    "4. Build and run the case."
   ]
  },
  {
   "cell_type": "markdown",
   "metadata": {},
   "source": [
    "# SECTION 1: Generate a regional MOM6 domain\n",
    "\n",
    "We begin by defining a regional MOM6 domain using CrocoDash. To do so, we first generate a horizontal grid. We then generate the topography by remapping an existing bathymetric dataset to our horizontal grid. Finally, we define a vertical grid."
   ]
  },
  {
   "cell_type": "markdown",
   "metadata": {},
   "source": [
    "## Step 1.1: Horizontal Grid"
   ]
  },
  {
   "cell_type": "code",
   "execution_count": 1,
   "metadata": {},
   "outputs": [],
   "source": [
    "%load_ext autoreload\n",
    "%autoreload 2"
   ]
  },
  {
   "cell_type": "code",
   "execution_count": 2,
   "metadata": {},
   "outputs": [],
   "source": [
    "from CrocoDash.grid import Grid\n",
    "%matplotlib ipympl\n",
    "grid = Grid(\n",
    "  resolution = 0.01,\n",
    "  xstart = 278.0,\n",
    "  lenx = 5.0,\n",
    "  ystart = 35.0,\n",
    "  leny = 5.0,\n",
    "  name = \"EastCoast\",\n",
    ")"
   ]
  },
  {
   "cell_type": "code",
   "execution_count": 30,
   "metadata": {},
   "outputs": [
    {
     "data": {
      "application/vnd.jupyter.widget-view+json": {
       "model_id": "480897d4deb64b0385e5739248e9d035",
       "version_major": 2,
       "version_minor": 0
      },
      "text/plain": [
       "GridEditor(children=(VBox(children=(VBox(children=(HTML(value='<h3>Grid Controls</h3>'), FloatSlider(value=0.0…"
      ]
     },
     "execution_count": 30,
     "metadata": {},
     "output_type": "execute_result"
    }
   ],
   "source": [
    "from CrocoDash.grid_editor import GridEditor\n",
    "Grid_Editor = GridEditor(grid)\n",
    "Grid_Editor"
   ]
  },
  {
   "cell_type": "markdown",
   "metadata": {},
   "source": [
    "### Step 1.2: Topography"
   ]
  },
  {
   "cell_type": "code",
   "execution_count": 4,
   "metadata": {},
   "outputs": [],
   "source": [
    "from CrocoDash.topo import Topo\n",
    "\n",
    "topo = Topo(\n",
    "    grid = Grid_Editor.grid,\n",
    "    min_depth = 0,\n",
    ")"
   ]
  },
  {
   "cell_type": "code",
   "execution_count": 5,
   "metadata": {},
   "outputs": [
    {
     "name": "stdout",
     "output_type": "stream",
     "text": [
      "If bathymetry setup fails, rerun this function with write_to_file = True\n",
      "Begin regridding bathymetry...\n",
      "\n",
      "Original bathymetry size: 16.61 Mb\n",
      "Regridded size: 6.01 Mb\n",
      "Automatic regridding may fail if your domain is too big! If this process hangs or crashes,make sure function argument write_to_file = True and,open a terminal with appropriate computational and resources try calling ESMF directly in the input directory None via\n",
      "\n",
      "`mpirun -np NUMBER_OF_CPUS ESMF_Regrid -s bathymetry_original.nc -d bathymetry_unfinished.nc -m bilinear --src_var depth --dst_var depth --netcdf4 --src_regional --dst_regional`\n",
      "\n",
      "For details see https://xesmf.readthedocs.io/en/latest/large_problems_on_HPC.html\n",
      "\n",
      "Afterwards, we run the 'expt.tidy_bathymetry' method to skip the expensive interpolation step, and finishing metadata, encoding and cleanup.\n",
      "\n",
      "\n",
      "\n",
      "Regridding successful! Now calling `tidy_bathymetry` method for some finishing touches...\n",
      "setup bathymetry has finished successfully.\n",
      "Tidy bathymetry: Reading in regridded bathymetry to fix up metadata...done. Filling in inland lakes and channels... "
     ]
    }
   ],
   "source": [
    "bathymetry_name='/glade/derecho/scratch/manishrv/ice/croc/gebco/GEBCO_2024.nc'\n",
    "\n",
    "topo.interpolate_from_file(\n",
    "    file_path = bathymetry_name,\n",
    "    longitude_coordinate_name=\"lon\",\n",
    "    latitude_coordinate_name=\"lat\",\n",
    "    vertical_coordinate_name=\"elevation\"\n",
    ")"
   ]
  },
  {
   "cell_type": "markdown",
   "metadata": {},
   "source": [
    "**TODO:** when the above topo.interpolate_from_file() method is called with the original GEBCO dataset, the interpolation fails do to large computational demand when run on login nodes. Check if there is a failsafe way, or at least, a means to precaution the user.\n",
    "\n",
    "**TODO:** Make required data available online (not just on glade)."
   ]
  },
  {
   "cell_type": "code",
   "execution_count": 6,
   "metadata": {},
   "outputs": [
    {
     "data": {
      "application/vnd.jupyter.widget-view+json": {
       "model_id": "ba755991458e4b378ed78933e84a585f",
       "version_major": 2,
       "version_minor": 0
      },
      "text/plain": [
       "TopoEditor(children=(VBox(children=(HTML(value='<h2>Topo Editor</h2>'), VBox(children=(VBox(children=(HTML(val…"
      ]
     },
     "execution_count": 6,
     "metadata": {},
     "output_type": "execute_result"
    }
   ],
   "source": [
    "# Erase Pacific & Canada Bays\n",
    "from CrocoDash.topo_editor import TopoEditor\n",
    "\n",
    "topo.depth[\"units\"] = \"m\"\n",
    "\n",
    "Topo_Editor = TopoEditor(topo)\n",
    "Topo_Editor"
   ]
  },
  {
   "cell_type": "markdown",
   "metadata": {},
   "source": [
    "## Step 1.3: Vertical Grid"
   ]
  },
  {
   "cell_type": "code",
   "execution_count": 7,
   "metadata": {},
   "outputs": [],
   "source": [
    "from CrocoDash.vgrid import VGrid\n",
    "\n",
    "vgrid = VGrid.hyperbolic(\n",
    "    nk = 75,\n",
    "    depth = Topo_Editor.topo.max_depth,\n",
    "    ratio=10.0,\n",
    "    name=\"NewVirginia\"\n",
    ")"
   ]
  },
  {
   "cell_type": "code",
   "execution_count": 8,
   "metadata": {},
   "outputs": [
    {
     "data": {
      "application/vnd.jupyter.widget-view+json": {
       "model_id": "2845fbc0cd47448280b2c9c5e3583e88",
       "version_major": 2,
       "version_minor": 0
      },
      "text/plain": [
       "VGridEditor(children=(VBox(children=(VBox(children=(HTML(value='<h3>Vertical Grid Controls</h3>'), ToggleButto…"
      ]
     },
     "execution_count": 8,
     "metadata": {},
     "output_type": "execute_result"
    }
   ],
   "source": [
    "from mom6_bathy.vgrid_editor import VGridEditor\n",
    "VGrid_Editor = VGridEditor(vgrid=vgrid, topo=Topo_Editor.topo) # Setting topo is optional!\n",
    "VGrid_Editor"
   ]
  },
  {
   "cell_type": "code",
   "execution_count": 9,
   "metadata": {},
   "outputs": [],
   "source": [
    "# Convert editor objects to CrocoDash types for Case instantiation\n",
    "\n",
    "from CrocoDash.grid import Grid as CrocoGrid\n",
    "from CrocoDash.vgrid import VGrid as CrocoVGrid\n",
    "from CrocoDash.topo import Topo as CrocoTopo\n",
    "\n",
    "# --- Convert Grid ---\n",
    "grid = Grid_Editor.grid\n",
    "croco_grid = CrocoGrid(\n",
    "    resolution=grid.resolution,\n",
    "    xstart=grid.xstart,\n",
    "    lenx=grid.lenx,\n",
    "    ystart=grid.ystart,\n",
    "    leny=grid.leny,\n",
    "    name=grid.name,\n",
    ")\n",
    "\n",
    "# If your vgrid is hyperbolic, use the hyperbolic constructor:\n",
    "croco_vgrid = CrocoVGrid.hyperbolic(\n",
    "    nk=VGrid_Editor.vgrid.nk,\n",
    "    depth=VGrid_Editor.vgrid.depth,\n",
    "    ratio=VGrid_Editor.vgrid.dz[-1] / VGrid_Editor.vgrid.dz[0],\n",
    "    name=VGrid_Editor.vgrid.name,\n",
    ")\n",
    "\n",
    "# If your vgrid is uniform, use the uniform constructor:\n",
    "# croco_vgrid = CrocoVGrid.uniform(\n",
    "#     nk=VGrid_Editor.vgrid.nk,\n",
    "#     depth=VGrid_Editor.vgrid.depth,\n",
    "#     name=VGrid_Editor.vgrid.name,\n",
    "# )\n",
    "\n",
    "# Or, if you want to copy the dz array directly (works if CrocoDash VGrid supports it):\n",
    "# croco_vgrid = CrocoVGrid(\n",
    "#     dz=VGrid_Editor.vgrid.dz.copy(),\n",
    "#     name=VGrid_Editor.vgrid.name,\n",
    "# )\n",
    "\n",
    "# --- Convert Topo ---\n",
    "topo = Topo_Editor.topo\n",
    "croco_topo = CrocoTopo(\n",
    "    grid=croco_grid,\n",
    "    min_depth=topo.min_depth\n",
    ")\n",
    "croco_topo.depth = topo.depth.data  # Copy the depth array\n",
    "\n",
    "# Now you can use croco_grid, croco_vgrid, croco_topo in your Case instantiation!"
   ]
  },
  {
   "cell_type": "markdown",
   "metadata": {},
   "source": [
    "# SECTION 2: Create the CESM case\n",
    "\n",
    "After generating the MOM6 domain, the next step is to create a CESM case using CrocoDash. This process is straightforward and involves instantiating the CrocoDash Case object. The Case object requires the following inputs:\n",
    "\n",
    " - CESM Source Directory: A local path to a compatible CESM source copy.\n",
    " - Case Name: A unique name for the CESM case.\n",
    " - Input Directory: The directory where all necessary input files will be written.\n",
    " - MOM6 Domain Objects: The horizontal grid, topography, and vertical grid created in the previous section.\n",
    " - Project ID: (Optional) A project ID, if required by the machine."
   ]
  },
  {
   "cell_type": "markdown",
   "metadata": {},
   "source": [
    "## Step 2.1: Specify case name and directories:\n",
    "\n",
    "Begin by specifying the case name and the necessary directory paths. Ensure the CESM root directory points to your own local copy of CESM. Below is an example setup:"
   ]
  },
  {
   "cell_type": "code",
   "execution_count": 10,
   "metadata": {},
   "outputs": [],
   "source": [
    "from pathlib import Path"
   ]
  },
  {
   "cell_type": "code",
   "execution_count": 11,
   "metadata": {},
   "outputs": [],
   "source": [
    "# CESM case (experiment) name\n",
    "casename = \"NewVirginia\"\n",
    "\n",
    "# CESM source root (Update this path accordingly!!!)\n",
    "cesmroot = \"/glade/work/akwong/cesm_installs/CESM\"\n",
    "\n",
    "# Place where all your input files go \n",
    "inputdir = Path.home() / \"croc_input\" / casename\n",
    "    \n",
    "# CESM case directory\n",
    "caseroot = Path.home() / \"croc_cases\" / casename"
   ]
  },
  {
   "cell_type": "markdown",
   "metadata": {},
   "source": [
    "## Step 2.2: Create the Case\n",
    "\n",
    "To create the CESM case, instantiate the `Case` object as shown below. This will automatically set up the CESM case based on the provided inputs: The `cesmroot` argument specifies the path to your local CESM source directory.\n",
    "The `caseroot` argument defines the directory where the case will be created. CrocoDash will handle all necessary namelist modifications and XML changes to align with the MOM6 domain objects generated earlier."
   ]
  },
  {
   "cell_type": "code",
   "execution_count": 12,
   "metadata": {},
   "outputs": [
    {
     "name": "stderr",
     "output_type": "stream",
     "text": [
      "INFO:  csp_solver:CspSolver initialized.\n"
     ]
    },
    {
     "name": "stdout",
     "output_type": "stream",
     "text": [
      "\u001b[01;96mCreating case...\u001b[0m\n",
      "\n",
      "• Updating ccs_config/modelgrid_aliases_nuopc.xml file to include the new resolution \"NewVirginia\" consisting of the following component grids.\n",
      " atm grid: \"TL319\", lnd grid: \"TL319\", ocn grid: \"Virginia_New\".\n",
      "\n",
      "• Updating ccs_config/component_grids_nuopc.xml file to include newly generated ocean grid \"Virginia_New\" with the following properties:\n",
      " nx: 500, ny: 500. ocean mesh: /glade/u/home/akwong/croc_input/NewVirginia/ocnice/ESMF_mesh_Virginia_New_6863fb.nc.\u001b[0m\n",
      "\n",
      "\u001b[01;96mRunning the create_newcase tool with the following command:\u001b[0m\n",
      "\n",
      "/glade/work/akwong/cesm_installs/CESM/cime/scripts/create_newcase --compset 1850_DATM%JRA_SLND_SICE_MOM6_SROF_SGLC_SWAV --res NewVirginia --case /glade/u/home/akwong/croc_cases/NewVirginia --machine derecho --run-unsupported --project NCGD0011 --non-local \n",
      "\n",
      "\u001b[01;96mThe create_newcase command was successful.\u001b[0m\n",
      "\n",
      "\u001b[01;96mNavigating to the case directory:\u001b[0m\n",
      "\n",
      "cd /glade/u/home/akwong/croc_cases/NewVirginia\n",
      "\n",
      "\u001b[01;96mApply NTASK grid xml changes:\u001b[0m\n",
      "\n",
      "./xmlchange NTASKS_OCN=384 --non-local\n",
      "\n",
      "\u001b[01;96mRunning the case.setup script with the following command:\u001b[0m\n",
      "\n",
      "./case.setup --non-local\n",
      "\n",
      "\u001b[01;96mAdding parameter changes to user_nl_mom:\u001b[0m\n",
      "\n",
      "  ! Custom Horizonal Grid, Topography, and Vertical Grid\n",
      "  INPUTDIR = /glade/u/home/akwong/croc_input/NewVirginia/ocnice\n",
      "  TRIPOLAR_N = False\n",
      "  REENTRANT_X = False\n",
      "  REENTRANT_Y = False\n",
      "  NIGLOBAL = 500\n",
      "  NJGLOBAL = 500\n",
      "  GRID_CONFIG = mosaic\n",
      "  GRID_FILE = ocean_hgrid_Virginia_New_6863fb.nc\n",
      "  TOPO_CONFIG = file\n",
      "  TOPO_FILE = ocean_topog_Virginia_New_6863fb.nc\n",
      "  MAXIMUM_DEPTH = 4432.029995540504\n",
      "  MINIMUM_DEPTH = 0\n",
      "  NK = 75\n",
      "  COORD_CONFIG = none\n",
      "  ALE_COORDINATE_CONFIG = FILE:ocean_vgrid_Virginia_New_6863fb.nc\n",
      "  REGRIDDING_COORDINATE_MODE = Z*\n",
      "\n",
      "  ! Timesteps (based on grid resolution)\n",
      "  DT = 25.0\n",
      "  DT_THERM = 100.0\n",
      "\n"
     ]
    },
    {
     "name": "stderr",
     "output_type": "stream",
     "text": [
      "INFO:\tstage:SUCCESS: All stages are complete.\n"
     ]
    },
    {
     "name": "stdout",
     "output_type": "stream",
     "text": [
      "\u001b[1;32mCase created successfully at /glade/u/home/akwong/croc_cases/NewVirginia.\u001b[0m\n",
      "\n",
      "\u001b[01;96mTo further customize, build, and run the case, navigate to the case directory in your terminal. To create another case, restart the notebook.\u001b[0m\n",
      "\n"
     ]
    }
   ],
   "source": [
    "from CrocoDash.case import Case\n",
    "import os\n",
    "case = Case(\n",
    "    cesmroot=cesmroot,\n",
    "    caseroot=caseroot,\n",
    "    inputdir=inputdir,\n",
    "    ocn_grid=croco_grid,\n",
    "    ocn_vgrid=croco_vgrid,\n",
    "    ocn_topo=croco_topo,\n",
    "    project='NCGD0011',\n",
    "    override=True,  # or False after first run\n",
    "    machine=\"derecho\",\n",
    "    # Optionally:\n",
    "    message=\"High Res New Virginia case\",\n",
    "    object_messages={\n",
    "        \"grid\": \"High res 0.01 degree\",\n",
    "        \"vgrid\": \"75 levels\",\n",
    "        \"topo\": \"0 meter min depth New Virginia Topo\"\n",
    "    }\n",
    ")"
   ]
  },
  {
   "cell_type": "markdown",
   "metadata": {},
   "source": [
    "## Step 2.3: Customize the Case\n",
    "\n",
    "If you want to restore a previous case or rebuild a case using Grid, VGrid, and Topo files from history, you can use the `build_case()` method. This interactive helper allows you to select from the global case history or per-object histories. If you want to restore a specific global case directly, you can also use `select_global_case_record()`."
   ]
  },
  {
   "cell_type": "code",
   "execution_count": 21,
   "metadata": {},
   "outputs": [
    {
     "data": {
      "application/vnd.jupyter.widget-view+json": {
       "model_id": "59c8c7b0042741f7a68ebb7af300e89c",
       "version_major": 2,
       "version_minor": 0
      },
      "text/plain": [
       "Dropdown(description='Grid file:', layout=Layout(width='80%'), options=(\"[0] ocean_hgrid_Florida_9dd7ed.nc -- …"
      ]
     },
     "metadata": {},
     "output_type": "display_data"
    },
    {
     "data": {
      "application/vnd.jupyter.widget-view+json": {
       "model_id": "749386de0e194c6486c1c1bef9ad8d80",
       "version_major": 2,
       "version_minor": 0
      },
      "text/plain": [
       "Dropdown(description='Topo file:', layout=Layout(width='80%'), options=(\"[0] ocean_topog_Florida_9dd7ed.nc -- …"
      ]
     },
     "metadata": {},
     "output_type": "display_data"
    },
    {
     "data": {
      "application/vnd.jupyter.widget-view+json": {
       "model_id": "31ae2e0394b646868e5e7946633cdb4c",
       "version_major": 2,
       "version_minor": 0
      },
      "text/plain": [
       "Dropdown(description='VGrid file:', layout=Layout(width='80%'), options=(\"[0] ocean_vgrid_Florida_9dd7ed.nc --…"
      ]
     },
     "metadata": {},
     "output_type": "display_data"
    },
    {
     "data": {
      "application/vnd.jupyter.widget-view+json": {
       "model_id": "4d37a56ac0134e5795ac11eeecc89377",
       "version_major": 2,
       "version_minor": 0
      },
      "text/plain": [
       "Dropdown(description='Select Case for Forcing Config:', layout=Layout(width='80%'), options=('TestCase34', 'Te…"
      ]
     },
     "metadata": {},
     "output_type": "display_data"
    },
    {
     "data": {
      "application/vnd.jupyter.widget-view+json": {
       "model_id": "3fc0441f55f94a21b1395f3ae4632ad5",
       "version_major": 2,
       "version_minor": 0
      },
      "text/plain": [
       "Output(layout=Layout(border_bottom='1px solid gray', border_left='1px solid gray', border_right='1px solid gra…"
      ]
     },
     "metadata": {},
     "output_type": "display_data"
    },
    {
     "data": {
      "application/vnd.jupyter.widget-view+json": {
       "model_id": "8797bfe098904a26abc8d3259e342b44",
       "version_major": 2,
       "version_minor": 0
      },
      "text/plain": [
       "HBox(children=(Text(value='', description='Case name:', layout=Layout(width='50%'), placeholder='Enter new cas…"
      ]
     },
     "metadata": {},
     "output_type": "display_data"
    },
    {
     "data": {
      "application/vnd.jupyter.widget-view+json": {
       "model_id": "a32adb23d2854ef2bc40256ed144da47",
       "version_major": 2,
       "version_minor": 0
      },
      "text/plain": [
       "Output()"
      ]
     },
     "metadata": {},
     "output_type": "display_data"
    }
   ],
   "source": [
    "case.assemble_case()"
   ]
  },
  {
   "cell_type": "markdown",
   "metadata": {},
   "source": [
    "# Section 3: Prepare ocean forcing data\n",
    "\n",
    "We need to cut out our ocean forcing. The package expects an initial condition and one time-dependent segment per non-land boundary. Naming convention is `\"east_unprocessed\"` for segments and `\"ic_unprocessed\"` for the initial condition.\n",
    "\n",
    "In this notebook, we are forcing with the Copernicus Marine \"Glorys\" reanalysis dataset. There's a function in the `CrocoDash` package, called `configure_forcings`, that generates a bash script to download the correct boundary forcing files for your experiment. First, you will need to create an account with Copernicus, and then call `copernicusmarine login` to set up your login details on your machine. Then you can run the `get_glorys_data.sh` bash script.\n",
    "\n",
    "## Step 3.1 Configure Initial Conditions and Forcings\n"
   ]
  },
  {
   "cell_type": "code",
   "execution_count": 32,
   "metadata": {},
   "outputs": [
    {
     "name": "stderr",
     "output_type": "stream",
     "text": [
      "INFO:CrocoDash.raw_data_access.datasets.glorys:Downloading Glorys data from RDA to /glade/derecho/scratch/akwong/tmp/tmpbt_tn769/test_file.nc\n",
      "INFO:CrocoDash.raw_data_access.datasets.glorys:Downloading Glorys data from RDA to /glade/u/home/akwong/croc_input/NewFlorida/glorys/east_unprocessed.nc\n"
     ]
    },
    {
     "name": "stdout",
     "output_type": "stream",
     "text": [
      "Warning: Minimum depth of 0.0m is less than the depth of the third interface (19.24674831085708m)!\n",
      "This means that some areas may only have one or two layers between the surface and sea floor. \n",
      "For increased stability, consider increasing the minimum depth, or adjusting the vertical coordinate to add more layers near the surface.\n"
     ]
    },
    {
     "name": "stderr",
     "output_type": "stream",
     "text": [
      "INFO:CrocoDash.raw_data_access.datasets.glorys:Downloading Glorys data from RDA to /glade/u/home/akwong/croc_input/NewFlorida/glorys/west_unprocessed.nc\n",
      "INFO:CrocoDash.raw_data_access.datasets.glorys:Downloading Glorys data from RDA to /glade/u/home/akwong/croc_input/NewFlorida/glorys/north_unprocessed.nc\n",
      "INFO:CrocoDash.raw_data_access.datasets.glorys:Downloading Glorys data from RDA to /glade/u/home/akwong/croc_input/NewFlorida/glorys/south_unprocessed.nc\n",
      "INFO:CrocoDash.raw_data_access.datasets.glorys:Downloading Glorys data from RDA to /glade/u/home/akwong/croc_input/NewFlorida/glorys/ic_unprocessed.nc\n"
     ]
    }
   ],
   "source": [
    "case.configure_forcings(\n",
    "    function_name = \"get_glorys_data_from_rda\",\n",
    "    date_range = [\"2020-01-01 00:00:00\", \"2020-01-09 00:00:00\"]\n",
    ")"
   ]
  },
  {
   "cell_type": "markdown",
   "metadata": {},
   "source": [
    "## Step 3.2 Run `get_glorys_data.sh`\n",
    "\n",
    "In a terminal session, locate the `get_glorys_data.sh` script and execute it to download the initial conditions and boundary conditions. Follow the instructions printed by the `configure_forcings` method above.\n"
   ]
  },
  {
   "cell_type": "markdown",
   "metadata": {},
   "source": [
    "**TODO:** user copernicusmarine python API within CrocoDash, instead of directing users to run it via CLI. Also, on a derecho login node, both CLI and API fails to run due to the computational demand. We also need to address that."
   ]
  },
  {
   "cell_type": "markdown",
   "metadata": {},
   "source": [
    "##  Step 3.3: Process forcing data\n",
    "\n",
    "In this final step, we call the `process_forcings` method of CrocoDash to cut out and interpolate the initial condition as well as all boundaries. CrocoDash also updates MOM6 runtime parameters and CESM xml variables accordingly."
   ]
  },
  {
   "cell_type": "code",
   "execution_count": 33,
   "metadata": {},
   "outputs": [
    {
     "name": "stderr",
     "output_type": "stream",
     "text": [
      "INFO:regional_mom6.regridding:Getting t points..\n",
      "INFO:regional_mom6.regridding:Creating Regridder\n",
      "INFO:regional_mom6.regridding:Creating Regridder\n",
      "INFO:regional_mom6.regridding:Creating Regridder\n"
     ]
    },
    {
     "name": "stdout",
     "output_type": "stream",
     "text": [
      "Setting up Initial Conditions\n",
      "Regridding Velocities... "
     ]
    },
    {
     "name": "stderr",
     "output_type": "stream",
     "text": [
      "INFO:regional_mom6.rotation:Getting rotation angle\n",
      "INFO:regional_mom6.rotation:Calculating grid rotation angle\n",
      "INFO:regional_mom6.regridding:Getting u points..\n",
      "INFO:regional_mom6.regridding:Getting v points..\n"
     ]
    },
    {
     "name": "stdout",
     "output_type": "stream",
     "text": [
      "Done.\n",
      "Regridding Tracers... Done.\n",
      "Regridding Free surface... Done.\n",
      "Saving outputs... "
     ]
    },
    {
     "name": "stderr",
     "output_type": "stream",
     "text": [
      "INFO:regional_mom6.regridding:Creating coordinates of the boundary q/u/v points\n",
      "INFO:regional_mom6.regridding:Creating Regridder\n",
      "INFO:regional_mom6.rotation:Getting rotation angle\n",
      "INFO:regional_mom6.rotation:Calculating grid rotation angle\n",
      "INFO:regional_mom6.regridding:Creating coordinates of the boundary q/u/v points\n",
      "INFO:regional_mom6.regridding:Filling in missing data horizontally, then vertically\n",
      "INFO:regional_mom6.regridding:Adding time dimension\n",
      "INFO:regional_mom6.regridding:Renaming vertical coordinate to nz_... in salt_segment_001\n",
      "INFO:regional_mom6.regridding:Replacing old depth coordinates with incremental integers\n",
      "INFO:regional_mom6.regridding:Adding perpendicular dimension to salt_segment_001\n",
      "INFO:regional_mom6.regridding:Renaming vertical coordinate to nz_... in temp_segment_001\n",
      "INFO:regional_mom6.regridding:Replacing old depth coordinates with incremental integers\n",
      "INFO:regional_mom6.regridding:Adding perpendicular dimension to temp_segment_001\n",
      "INFO:regional_mom6.regridding:Renaming vertical coordinate to nz_... in u_segment_001\n",
      "INFO:regional_mom6.regridding:Replacing old depth coordinates with incremental integers\n",
      "INFO:regional_mom6.regridding:Adding perpendicular dimension to u_segment_001\n",
      "INFO:regional_mom6.regridding:Renaming vertical coordinate to nz_... in v_segment_001\n",
      "INFO:regional_mom6.regridding:Replacing old depth coordinates with incremental integers\n",
      "INFO:regional_mom6.regridding:Adding perpendicular dimension to v_segment_001\n",
      "INFO:regional_mom6.regridding:Adding perpendicular dimension to eta_segment_001\n",
      "WARNING:regional_mom6.regridding:All NaNs filled b/c bathymetry wasn't provided to the function. Add bathymetry_path to the segment class to avoid this\n"
     ]
    },
    {
     "name": "stdout",
     "output_type": "stream",
     "text": [
      "done setting up initial condition.\n",
      "Processing south boundary velocity & tracers..."
     ]
    },
    {
     "name": "stderr",
     "output_type": "stream",
     "text": [
      "INFO:regional_mom6.regridding:Generating encoding dictionary\n",
      "INFO:regional_mom6.regridding:Creating coordinates of the boundary q/u/v points\n",
      "INFO:regional_mom6.regridding:Creating Regridder\n",
      "INFO:regional_mom6.rotation:Getting rotation angle\n",
      "INFO:regional_mom6.rotation:Calculating grid rotation angle\n",
      "INFO:regional_mom6.regridding:Creating coordinates of the boundary q/u/v points\n"
     ]
    },
    {
     "name": "stdout",
     "output_type": "stream",
     "text": [
      "Done.\n",
      "Processing north boundary velocity & tracers..."
     ]
    },
    {
     "name": "stderr",
     "output_type": "stream",
     "text": [
      "INFO:regional_mom6.regridding:Filling in missing data horizontally, then vertically\n",
      "INFO:regional_mom6.regridding:Adding time dimension\n",
      "INFO:regional_mom6.regridding:Renaming vertical coordinate to nz_... in salt_segment_002\n",
      "INFO:regional_mom6.regridding:Replacing old depth coordinates with incremental integers\n",
      "INFO:regional_mom6.regridding:Adding perpendicular dimension to salt_segment_002\n",
      "INFO:regional_mom6.regridding:Renaming vertical coordinate to nz_... in temp_segment_002\n",
      "INFO:regional_mom6.regridding:Replacing old depth coordinates with incremental integers\n",
      "INFO:regional_mom6.regridding:Adding perpendicular dimension to temp_segment_002\n",
      "INFO:regional_mom6.regridding:Renaming vertical coordinate to nz_... in u_segment_002\n",
      "INFO:regional_mom6.regridding:Replacing old depth coordinates with incremental integers\n",
      "INFO:regional_mom6.regridding:Adding perpendicular dimension to u_segment_002\n",
      "INFO:regional_mom6.regridding:Renaming vertical coordinate to nz_... in v_segment_002\n",
      "INFO:regional_mom6.regridding:Replacing old depth coordinates with incremental integers\n",
      "INFO:regional_mom6.regridding:Adding perpendicular dimension to v_segment_002\n",
      "INFO:regional_mom6.regridding:Adding perpendicular dimension to eta_segment_002\n",
      "WARNING:regional_mom6.regridding:All NaNs filled b/c bathymetry wasn't provided to the function. Add bathymetry_path to the segment class to avoid this\n",
      "INFO:regional_mom6.regridding:Generating encoding dictionary\n",
      "INFO:regional_mom6.regridding:Creating coordinates of the boundary q/u/v points\n",
      "INFO:regional_mom6.regridding:Creating Regridder\n",
      "INFO:regional_mom6.rotation:Getting rotation angle\n",
      "INFO:regional_mom6.rotation:Calculating grid rotation angle\n",
      "INFO:regional_mom6.regridding:Creating coordinates of the boundary q/u/v points\n",
      "INFO:regional_mom6.regridding:Filling in missing data horizontally, then vertically\n",
      "INFO:regional_mom6.regridding:Adding time dimension\n",
      "INFO:regional_mom6.regridding:Renaming vertical coordinate to nz_... in salt_segment_003\n",
      "INFO:regional_mom6.regridding:Replacing old depth coordinates with incremental integers\n",
      "INFO:regional_mom6.regridding:Adding perpendicular dimension to salt_segment_003\n",
      "INFO:regional_mom6.regridding:Renaming vertical coordinate to nz_... in temp_segment_003\n",
      "INFO:regional_mom6.regridding:Replacing old depth coordinates with incremental integers\n",
      "INFO:regional_mom6.regridding:Adding perpendicular dimension to temp_segment_003\n",
      "INFO:regional_mom6.regridding:Renaming vertical coordinate to nz_... in u_segment_003\n",
      "INFO:regional_mom6.regridding:Replacing old depth coordinates with incremental integers\n",
      "INFO:regional_mom6.regridding:Adding perpendicular dimension to u_segment_003\n",
      "INFO:regional_mom6.regridding:Renaming vertical coordinate to nz_... in v_segment_003\n",
      "INFO:regional_mom6.regridding:Replacing old depth coordinates with incremental integers\n",
      "INFO:regional_mom6.regridding:Adding perpendicular dimension to v_segment_003\n",
      "INFO:regional_mom6.regridding:Adding perpendicular dimension to eta_segment_003\n",
      "WARNING:regional_mom6.regridding:All NaNs filled b/c bathymetry wasn't provided to the function. Add bathymetry_path to the segment class to avoid this\n",
      "INFO:regional_mom6.regridding:Generating encoding dictionary\n"
     ]
    },
    {
     "name": "stdout",
     "output_type": "stream",
     "text": [
      "Done.\n",
      "Processing west boundary velocity & tracers..."
     ]
    },
    {
     "name": "stderr",
     "output_type": "stream",
     "text": [
      "INFO:regional_mom6.regridding:Creating coordinates of the boundary q/u/v points\n",
      "INFO:regional_mom6.regridding:Creating Regridder\n",
      "INFO:regional_mom6.rotation:Getting rotation angle\n",
      "INFO:regional_mom6.rotation:Calculating grid rotation angle\n",
      "INFO:regional_mom6.regridding:Creating coordinates of the boundary q/u/v points\n",
      "INFO:regional_mom6.regridding:Filling in missing data horizontally, then vertically\n",
      "INFO:regional_mom6.regridding:Adding time dimension\n",
      "INFO:regional_mom6.regridding:Renaming vertical coordinate to nz_... in salt_segment_004\n",
      "INFO:regional_mom6.regridding:Replacing old depth coordinates with incremental integers\n",
      "INFO:regional_mom6.regridding:Adding perpendicular dimension to salt_segment_004\n",
      "INFO:regional_mom6.regridding:Renaming vertical coordinate to nz_... in temp_segment_004\n",
      "INFO:regional_mom6.regridding:Replacing old depth coordinates with incremental integers\n",
      "INFO:regional_mom6.regridding:Adding perpendicular dimension to temp_segment_004\n",
      "INFO:regional_mom6.regridding:Renaming vertical coordinate to nz_... in u_segment_004\n",
      "INFO:regional_mom6.regridding:Replacing old depth coordinates with incremental integers\n",
      "INFO:regional_mom6.regridding:Adding perpendicular dimension to u_segment_004\n",
      "INFO:regional_mom6.regridding:Renaming vertical coordinate to nz_... in v_segment_004\n",
      "INFO:regional_mom6.regridding:Replacing old depth coordinates with incremental integers\n",
      "INFO:regional_mom6.regridding:Adding perpendicular dimension to v_segment_004\n",
      "INFO:regional_mom6.regridding:Adding perpendicular dimension to eta_segment_004\n",
      "WARNING:regional_mom6.regridding:All NaNs filled b/c bathymetry wasn't provided to the function. Add bathymetry_path to the segment class to avoid this\n",
      "INFO:regional_mom6.regridding:Generating encoding dictionary\n"
     ]
    },
    {
     "name": "stdout",
     "output_type": "stream",
     "text": [
      "Done.\n",
      "Processing east boundary velocity & tracers...Done.\n",
      "\u001b[01;96mRemoving parameters from user_nl_mom:\u001b[0m\n",
      "\n",
      "  Block: Initial conditions\n",
      "\n",
      "\u001b[01;96mRemoving parameters from user_nl_mom:\u001b[0m\n",
      "\n",
      "  Block: Tides\n",
      "\n",
      "\u001b[01;96mRemoving parameters from user_nl_mom:\u001b[0m\n",
      "\n",
      "  Block: Open boundary conditions\n",
      "\n",
      "\u001b[01;96mAdding parameter changes to user_nl_mom:\u001b[0m\n",
      "\n",
      "  ! Initial conditions\n",
      "  INIT_LAYERS_FROM_Z_FILE = True\n",
      "  TEMP_SALT_Z_INIT_FILE = init_tracers.nc\n",
      "  Z_INIT_FILE_PTEMP_VAR = temp\n",
      "  Z_INIT_ALE_REMAPPING = True\n",
      "  TEMP_SALT_INIT_VERTICAL_REMAP_ONLY = True\n",
      "  DEPRESS_INITIAL_SURFACE = True\n",
      "  SURFACE_HEIGHT_IC_FILE = init_eta.nc\n",
      "  SURFACE_HEIGHT_IC_VAR = eta_t\n",
      "  VELOCITY_CONFIG = file\n",
      "  VELOCITY_FILE = init_vel.nc\n",
      "\n",
      "\u001b[01;96mRemoving parameters from user_nl_mom:\u001b[0m\n",
      "\n",
      "  Block: Tides\n",
      "\n",
      "\u001b[01;96mAdding parameter changes to user_nl_mom:\u001b[0m\n",
      "\n",
      "  ! Open boundary conditions\n",
      "  OBC_NUMBER_OF_SEGMENTS = 4\n",
      "  OBC_FREESLIP_VORTICITY = False\n",
      "  OBC_FREESLIP_STRAIN = False\n",
      "  OBC_COMPUTED_VORTICITY = True\n",
      "  OBC_COMPUTED_STRAIN = True\n",
      "  OBC_ZERO_BIHARMONIC = True\n",
      "  OBC_TRACER_RESERVOIR_LENGTH_SCALE_OUT = 3.0E+04\n",
      "  OBC_TRACER_RESERVOIR_LENGTH_SCALE_IN = 3000.0\n",
      "  BRUSHCUTTER_MODE = True\n",
      "  OBC_TIDE_N_CONSTITUENTS = 0\n",
      "  OBC_TIDE_CONSTITUENTS = \"\"\n",
      "  OBC_SEGMENT_001 = \"J=0,I=0:N,FLATHER,ORLANSKI,NUDGED,ORLANSKI_TAN,NUDGED_TAN\"\n",
      "  OBC_SEGMENT_001_VELOCITY_NUDGING_TIMESCALES = 0.3, 360.0\n",
      "  OBC_SEGMENT_001_DATA = \"U=file:forcing_obc_segment_001.nc(u),V=file:forcing_obc_segment_001.nc(v),SSH=file:forcing_obc_segment_001.nc(eta),TEMP=file:forcing_obc_segment_001.nc(temp),SALT=file:forcing_obc_segment_001.nc(salt)\"\n",
      "  OBC_SEGMENT_002 = \"J=N,I=N:0,FLATHER,ORLANSKI,NUDGED,ORLANSKI_TAN,NUDGED_TAN\"\n",
      "  OBC_SEGMENT_002_VELOCITY_NUDGING_TIMESCALES = 0.3, 360.0\n",
      "  OBC_SEGMENT_002_DATA = \"U=file:forcing_obc_segment_002.nc(u),V=file:forcing_obc_segment_002.nc(v),SSH=file:forcing_obc_segment_002.nc(eta),TEMP=file:forcing_obc_segment_002.nc(temp),SALT=file:forcing_obc_segment_002.nc(salt)\"\n",
      "  OBC_SEGMENT_003 = \"I=0,J=N:0,FLATHER,ORLANSKI,NUDGED,ORLANSKI_TAN,NUDGED_TAN\"\n",
      "  OBC_SEGMENT_003_VELOCITY_NUDGING_TIMESCALES = 0.3, 360.0\n",
      "  OBC_SEGMENT_003_DATA = \"U=file:forcing_obc_segment_003.nc(u),V=file:forcing_obc_segment_003.nc(v),SSH=file:forcing_obc_segment_003.nc(eta),TEMP=file:forcing_obc_segment_003.nc(temp),SALT=file:forcing_obc_segment_003.nc(salt)\"\n",
      "  OBC_SEGMENT_004 = \"I=N,J=0:N,FLATHER,ORLANSKI,NUDGED,ORLANSKI_TAN,NUDGED_TAN\"\n",
      "  OBC_SEGMENT_004_VELOCITY_NUDGING_TIMESCALES = 0.3, 360.0\n",
      "  OBC_SEGMENT_004_DATA = \"U=file:forcing_obc_segment_004.nc(u),V=file:forcing_obc_segment_004.nc(v),SSH=file:forcing_obc_segment_004.nc(eta),TEMP=file:forcing_obc_segment_004.nc(temp),SALT=file:forcing_obc_segment_004.nc(salt)\"\n",
      "\n",
      "./xmlchange RUN_STARTDATE=2020-01-01 --non-local\n",
      "\n",
      "./xmlchange MOM6_MEMORY_MODE=dynamic_symmetric --non-local\n",
      "\n",
      "Case is ready to be built: /glade/u/home/akwong/croc_cases/NewFlorida\n"
     ]
    }
   ],
   "source": [
    "case.process_forcings()"
   ]
  },
  {
   "cell_type": "code",
   "execution_count": 44,
   "metadata": {},
   "outputs": [],
   "source": [
    "case.configure_tides(\n",
    "    tidal_constituents=['M2'],\n",
    "    tpxo_elevation_filepath='/glade/derecho/scratch/manishrv/ice/croc/tpxo/h_tpxo9.v1.nc',\n",
    "    tpxo_velocity_filepath='/glade/derecho/scratch/manishrv/ice/croc/tpxo/u_tpxo9.v1.nc'\n",
    ")"
   ]
  },
  {
   "cell_type": "code",
   "execution_count": 45,
   "metadata": {},
   "outputs": [
    {
     "name": "stderr",
     "output_type": "stream",
     "text": [
      "INFO:regional_mom6.regridding:Creating coordinates of the boundary q/u/v points\n",
      "INFO:regional_mom6.regridding:Creating Regridder\n",
      "WARNING:regional_mom6.regridding:Using existing weights file at /glade/u/home/akwong/croc_input/NewFlorida/ocnice/forcing/regrid_segment_001_tidal_elev.nc to save computing time. Delete weights file to regenerate weights.\n"
     ]
    },
    {
     "name": "stdout",
     "output_type": "stream",
     "text": [
      "Processing south boundary..."
     ]
    },
    {
     "name": "stderr",
     "output_type": "stream",
     "text": [
      "INFO:regional_mom6.regridding:Filling in missing data horizontally, then vertically\n",
      "INFO:regional_mom6.regridding:Filling in missing data horizontally, then vertically\n",
      "INFO:regional_mom6.regridding:Adding time dimension\n",
      "INFO:regional_mom6.regridding:Creating coordinates of the boundary q/u/v points\n",
      "INFO:regional_mom6.regridding:Adding perpendicular dimension to zamp_segment_001\n",
      "INFO:regional_mom6.regridding:Adding perpendicular dimension to zphase_segment_001\n",
      "WARNING:regional_mom6.regridding:All NaNs filled b/c bathymetry wasn't provided to the function. Add bathymetry_path to the segment class to avoid this\n",
      "INFO:regional_mom6.regridding:Generating encoding dictionary\n",
      "INFO:regional_mom6.regridding:Creating Regridder\n",
      "INFO:regional_mom6.regridding:Creating Regridder\n",
      "INFO:regional_mom6.regridding:Filling in missing data horizontally, then vertically\n",
      "INFO:regional_mom6.regridding:Filling in missing data horizontally, then vertically\n",
      "INFO:regional_mom6.regridding:Filling in missing data horizontally, then vertically\n",
      "INFO:regional_mom6.regridding:Filling in missing data horizontally, then vertically\n",
      "INFO:regional_mom6.rotation:Getting rotation angle\n",
      "INFO:regional_mom6.rotation:Calculating grid rotation angle\n",
      "INFO:regional_mom6.regridding:Creating coordinates of the boundary q/u/v points\n",
      "INFO:regional_mom6.regridding:Adding time dimension\n",
      "INFO:regional_mom6.regridding:Filling in missing data horizontally, then vertically\n",
      "INFO:regional_mom6.regridding:Creating coordinates of the boundary q/u/v points\n",
      "INFO:regional_mom6.regridding:Adding perpendicular dimension to uamp_segment_001\n",
      "INFO:regional_mom6.regridding:Adding perpendicular dimension to vamp_segment_001\n",
      "INFO:regional_mom6.regridding:Adding perpendicular dimension to uphase_segment_001\n",
      "INFO:regional_mom6.regridding:Adding perpendicular dimension to vphase_segment_001\n",
      "WARNING:regional_mom6.regridding:All NaNs filled b/c bathymetry wasn't provided to the function. Add bathymetry_path to the segment class to avoid this\n",
      "INFO:regional_mom6.regridding:Generating encoding dictionary\n",
      "INFO:regional_mom6.regridding:Creating coordinates of the boundary q/u/v points\n",
      "INFO:regional_mom6.regridding:Creating Regridder\n",
      "WARNING:regional_mom6.regridding:Using existing weights file at /glade/u/home/akwong/croc_input/NewFlorida/ocnice/forcing/regrid_segment_002_tidal_elev.nc to save computing time. Delete weights file to regenerate weights.\n",
      "INFO:regional_mom6.regridding:Filling in missing data horizontally, then vertically\n",
      "INFO:regional_mom6.regridding:Filling in missing data horizontally, then vertically\n",
      "INFO:regional_mom6.regridding:Adding time dimension\n",
      "INFO:regional_mom6.regridding:Creating coordinates of the boundary q/u/v points\n",
      "INFO:regional_mom6.regridding:Adding perpendicular dimension to zamp_segment_002\n",
      "INFO:regional_mom6.regridding:Adding perpendicular dimension to zphase_segment_002\n",
      "WARNING:regional_mom6.regridding:All NaNs filled b/c bathymetry wasn't provided to the function. Add bathymetry_path to the segment class to avoid this\n",
      "INFO:regional_mom6.regridding:Generating encoding dictionary\n",
      "INFO:regional_mom6.regridding:Creating Regridder\n"
     ]
    },
    {
     "name": "stdout",
     "output_type": "stream",
     "text": [
      "Done\n",
      "Processing north boundary..."
     ]
    },
    {
     "name": "stderr",
     "output_type": "stream",
     "text": [
      "INFO:regional_mom6.regridding:Creating Regridder\n",
      "INFO:regional_mom6.regridding:Filling in missing data horizontally, then vertically\n",
      "INFO:regional_mom6.regridding:Filling in missing data horizontally, then vertically\n",
      "INFO:regional_mom6.regridding:Filling in missing data horizontally, then vertically\n",
      "INFO:regional_mom6.regridding:Filling in missing data horizontally, then vertically\n",
      "INFO:regional_mom6.rotation:Getting rotation angle\n",
      "INFO:regional_mom6.rotation:Calculating grid rotation angle\n",
      "INFO:regional_mom6.regridding:Creating coordinates of the boundary q/u/v points\n",
      "INFO:regional_mom6.regridding:Adding time dimension\n",
      "INFO:regional_mom6.regridding:Filling in missing data horizontally, then vertically\n",
      "INFO:regional_mom6.regridding:Creating coordinates of the boundary q/u/v points\n",
      "INFO:regional_mom6.regridding:Adding perpendicular dimension to uamp_segment_002\n",
      "INFO:regional_mom6.regridding:Adding perpendicular dimension to vamp_segment_002\n",
      "INFO:regional_mom6.regridding:Adding perpendicular dimension to uphase_segment_002\n",
      "INFO:regional_mom6.regridding:Adding perpendicular dimension to vphase_segment_002\n",
      "WARNING:regional_mom6.regridding:All NaNs filled b/c bathymetry wasn't provided to the function. Add bathymetry_path to the segment class to avoid this\n",
      "INFO:regional_mom6.regridding:Generating encoding dictionary\n",
      "INFO:regional_mom6.regridding:Creating coordinates of the boundary q/u/v points\n",
      "INFO:regional_mom6.regridding:Creating Regridder\n",
      "WARNING:regional_mom6.regridding:Using existing weights file at /glade/u/home/akwong/croc_input/NewFlorida/ocnice/forcing/regrid_segment_003_tidal_elev.nc to save computing time. Delete weights file to regenerate weights.\n",
      "INFO:regional_mom6.regridding:Filling in missing data horizontally, then vertically\n",
      "INFO:regional_mom6.regridding:Filling in missing data horizontally, then vertically\n",
      "INFO:regional_mom6.regridding:Adding time dimension\n",
      "INFO:regional_mom6.regridding:Creating coordinates of the boundary q/u/v points\n",
      "INFO:regional_mom6.regridding:Adding perpendicular dimension to zamp_segment_003\n",
      "INFO:regional_mom6.regridding:Adding perpendicular dimension to zphase_segment_003\n",
      "WARNING:regional_mom6.regridding:All NaNs filled b/c bathymetry wasn't provided to the function. Add bathymetry_path to the segment class to avoid this\n",
      "INFO:regional_mom6.regridding:Generating encoding dictionary\n",
      "INFO:regional_mom6.regridding:Creating Regridder\n"
     ]
    },
    {
     "name": "stdout",
     "output_type": "stream",
     "text": [
      "Done\n",
      "Processing west boundary..."
     ]
    },
    {
     "name": "stderr",
     "output_type": "stream",
     "text": [
      "INFO:regional_mom6.regridding:Creating Regridder\n",
      "INFO:regional_mom6.regridding:Filling in missing data horizontally, then vertically\n",
      "INFO:regional_mom6.regridding:Filling in missing data horizontally, then vertically\n",
      "INFO:regional_mom6.regridding:Filling in missing data horizontally, then vertically\n",
      "INFO:regional_mom6.regridding:Filling in missing data horizontally, then vertically\n",
      "INFO:regional_mom6.rotation:Getting rotation angle\n",
      "INFO:regional_mom6.rotation:Calculating grid rotation angle\n",
      "INFO:regional_mom6.regridding:Creating coordinates of the boundary q/u/v points\n",
      "INFO:regional_mom6.regridding:Adding time dimension\n",
      "INFO:regional_mom6.regridding:Filling in missing data horizontally, then vertically\n",
      "INFO:regional_mom6.regridding:Creating coordinates of the boundary q/u/v points\n",
      "INFO:regional_mom6.regridding:Adding perpendicular dimension to uamp_segment_003\n",
      "INFO:regional_mom6.regridding:Adding perpendicular dimension to vamp_segment_003\n",
      "INFO:regional_mom6.regridding:Adding perpendicular dimension to uphase_segment_003\n",
      "INFO:regional_mom6.regridding:Adding perpendicular dimension to vphase_segment_003\n",
      "WARNING:regional_mom6.regridding:All NaNs filled b/c bathymetry wasn't provided to the function. Add bathymetry_path to the segment class to avoid this\n",
      "INFO:regional_mom6.regridding:Generating encoding dictionary\n",
      "INFO:regional_mom6.regridding:Creating coordinates of the boundary q/u/v points\n",
      "INFO:regional_mom6.regridding:Creating Regridder\n",
      "WARNING:regional_mom6.regridding:Using existing weights file at /glade/u/home/akwong/croc_input/NewFlorida/ocnice/forcing/regrid_segment_004_tidal_elev.nc to save computing time. Delete weights file to regenerate weights.\n",
      "INFO:regional_mom6.regridding:Filling in missing data horizontally, then vertically\n",
      "INFO:regional_mom6.regridding:Filling in missing data horizontally, then vertically\n",
      "INFO:regional_mom6.regridding:Adding time dimension\n",
      "INFO:regional_mom6.regridding:Creating coordinates of the boundary q/u/v points\n",
      "INFO:regional_mom6.regridding:Adding perpendicular dimension to zamp_segment_004\n",
      "INFO:regional_mom6.regridding:Adding perpendicular dimension to zphase_segment_004\n",
      "WARNING:regional_mom6.regridding:All NaNs filled b/c bathymetry wasn't provided to the function. Add bathymetry_path to the segment class to avoid this\n",
      "INFO:regional_mom6.regridding:Generating encoding dictionary\n",
      "INFO:regional_mom6.regridding:Creating Regridder\n"
     ]
    },
    {
     "name": "stdout",
     "output_type": "stream",
     "text": [
      "Done\n",
      "Processing east boundary..."
     ]
    },
    {
     "name": "stderr",
     "output_type": "stream",
     "text": [
      "INFO:regional_mom6.regridding:Creating Regridder\n",
      "INFO:regional_mom6.regridding:Filling in missing data horizontally, then vertically\n",
      "INFO:regional_mom6.regridding:Filling in missing data horizontally, then vertically\n",
      "INFO:regional_mom6.regridding:Filling in missing data horizontally, then vertically\n",
      "INFO:regional_mom6.regridding:Filling in missing data horizontally, then vertically\n",
      "INFO:regional_mom6.rotation:Getting rotation angle\n",
      "INFO:regional_mom6.rotation:Calculating grid rotation angle\n",
      "INFO:regional_mom6.regridding:Creating coordinates of the boundary q/u/v points\n",
      "INFO:regional_mom6.regridding:Adding time dimension\n",
      "INFO:regional_mom6.regridding:Filling in missing data horizontally, then vertically\n",
      "INFO:regional_mom6.regridding:Creating coordinates of the boundary q/u/v points\n",
      "INFO:regional_mom6.regridding:Adding perpendicular dimension to uamp_segment_004\n",
      "INFO:regional_mom6.regridding:Adding perpendicular dimension to vamp_segment_004\n",
      "INFO:regional_mom6.regridding:Adding perpendicular dimension to uphase_segment_004\n",
      "INFO:regional_mom6.regridding:Adding perpendicular dimension to vphase_segment_004\n",
      "WARNING:regional_mom6.regridding:All NaNs filled b/c bathymetry wasn't provided to the function. Add bathymetry_path to the segment class to avoid this\n",
      "INFO:regional_mom6.regridding:Generating encoding dictionary\n"
     ]
    },
    {
     "name": "stdout",
     "output_type": "stream",
     "text": [
      "Done\n",
      "\u001b[01;96mRemoving parameters from user_nl_mom:\u001b[0m\n",
      "\n",
      "  Block: Initial conditions\n",
      "\n",
      "\u001b[01;96mRemoving parameters from user_nl_mom:\u001b[0m\n",
      "\n",
      "  Block: Tides\n",
      "\n",
      "\u001b[01;96mRemoving parameters from user_nl_mom:\u001b[0m\n",
      "\n",
      "  Block: Open boundary conditions\n",
      "\n",
      "\u001b[01;96mAdding parameter changes to user_nl_mom:\u001b[0m\n",
      "\n",
      "  ! Initial conditions\n",
      "  INIT_LAYERS_FROM_Z_FILE = True\n",
      "  TEMP_SALT_Z_INIT_FILE = init_tracers.nc\n",
      "  Z_INIT_FILE_PTEMP_VAR = temp\n",
      "  Z_INIT_ALE_REMAPPING = True\n",
      "  TEMP_SALT_INIT_VERTICAL_REMAP_ONLY = True\n",
      "  DEPRESS_INITIAL_SURFACE = True\n",
      "  SURFACE_HEIGHT_IC_FILE = init_eta.nc\n",
      "  SURFACE_HEIGHT_IC_VAR = eta_t\n",
      "  VELOCITY_CONFIG = file\n",
      "  VELOCITY_FILE = init_vel.nc\n",
      "\n",
      "\u001b[01;96mAdding parameter changes to user_nl_mom:\u001b[0m\n",
      "\n",
      "  ! Tides\n",
      "  TIDES = True\n",
      "  TIDE_M2 = True\n",
      "  CD_TIDES = 0.0018\n",
      "  TIDE_USE_EQ_PHASE = True\n",
      "  TIDE_REF_DATE = 2020, 1, 1\n",
      "  OBC_TIDE_ADD_EQ_PHASE = True\n",
      "  OBC_TIDE_N_CONSTITUENTS = 1\n",
      "  OBC_TIDE_CONSTITUENTS = \"M2\"\n",
      "  OBC_TIDE_REF_DATE = 2020, 1, 1\n",
      "\n",
      "\u001b[01;96mAdding parameter changes to user_nl_mom:\u001b[0m\n",
      "\n",
      "  ! Open boundary conditions\n",
      "  OBC_NUMBER_OF_SEGMENTS = 4\n",
      "  OBC_FREESLIP_VORTICITY = False\n",
      "  OBC_FREESLIP_STRAIN = False\n",
      "  OBC_COMPUTED_VORTICITY = True\n",
      "  OBC_COMPUTED_STRAIN = True\n",
      "  OBC_ZERO_BIHARMONIC = True\n",
      "  OBC_TRACER_RESERVOIR_LENGTH_SCALE_OUT = 3.0E+04\n",
      "  OBC_TRACER_RESERVOIR_LENGTH_SCALE_IN = 3000.0\n",
      "  BRUSHCUTTER_MODE = True\n",
      "  OBC_TIDE_N_CONSTITUENTS = 1\n",
      "  OBC_TIDE_CONSTITUENTS = \"M2\"\n",
      "  OBC_SEGMENT_001 = \"J=0,I=0:N,FLATHER,ORLANSKI,NUDGED,ORLANSKI_TAN,NUDGED_TAN\"\n",
      "  OBC_SEGMENT_001_VELOCITY_NUDGING_TIMESCALES = 0.3, 360.0\n",
      "  OBC_SEGMENT_001_DATA = \"U=file:forcing_obc_segment_001.nc(u),V=file:forcing_obc_segment_001.nc(v),SSH=file:forcing_obc_segment_001.nc(eta),TEMP=file:forcing_obc_segment_001.nc(temp),SALT=file:forcing_obc_segment_001.nc(salt),Uamp=file:tu_segment_001.nc(uamp),Uphase=file:tu_segment_001.nc(uphase),Vamp=file:tu_segment_001.nc(vamp),Vphase=file:tu_segment_001.nc(vphase),SSHamp=file:tz_segment_001.nc(zamp),SSHphase=file:tz_segment_001.nc(zphase)\"\n",
      "  OBC_SEGMENT_002 = \"J=N,I=N:0,FLATHER,ORLANSKI,NUDGED,ORLANSKI_TAN,NUDGED_TAN\"\n",
      "  OBC_SEGMENT_002_VELOCITY_NUDGING_TIMESCALES = 0.3, 360.0\n",
      "  OBC_SEGMENT_002_DATA = \"U=file:forcing_obc_segment_002.nc(u),V=file:forcing_obc_segment_002.nc(v),SSH=file:forcing_obc_segment_002.nc(eta),TEMP=file:forcing_obc_segment_002.nc(temp),SALT=file:forcing_obc_segment_002.nc(salt),Uamp=file:tu_segment_002.nc(uamp),Uphase=file:tu_segment_002.nc(uphase),Vamp=file:tu_segment_002.nc(vamp),Vphase=file:tu_segment_002.nc(vphase),SSHamp=file:tz_segment_002.nc(zamp),SSHphase=file:tz_segment_002.nc(zphase)\"\n",
      "  OBC_SEGMENT_003 = \"I=0,J=N:0,FLATHER,ORLANSKI,NUDGED,ORLANSKI_TAN,NUDGED_TAN\"\n",
      "  OBC_SEGMENT_003_VELOCITY_NUDGING_TIMESCALES = 0.3, 360.0\n",
      "  OBC_SEGMENT_003_DATA = \"U=file:forcing_obc_segment_003.nc(u),V=file:forcing_obc_segment_003.nc(v),SSH=file:forcing_obc_segment_003.nc(eta),TEMP=file:forcing_obc_segment_003.nc(temp),SALT=file:forcing_obc_segment_003.nc(salt),Uamp=file:tu_segment_003.nc(uamp),Uphase=file:tu_segment_003.nc(uphase),Vamp=file:tu_segment_003.nc(vamp),Vphase=file:tu_segment_003.nc(vphase),SSHamp=file:tz_segment_003.nc(zamp),SSHphase=file:tz_segment_003.nc(zphase)\"\n",
      "  OBC_SEGMENT_004 = \"I=N,J=0:N,FLATHER,ORLANSKI,NUDGED,ORLANSKI_TAN,NUDGED_TAN\"\n",
      "  OBC_SEGMENT_004_VELOCITY_NUDGING_TIMESCALES = 0.3, 360.0\n",
      "  OBC_SEGMENT_004_DATA = \"U=file:forcing_obc_segment_004.nc(u),V=file:forcing_obc_segment_004.nc(v),SSH=file:forcing_obc_segment_004.nc(eta),TEMP=file:forcing_obc_segment_004.nc(temp),SALT=file:forcing_obc_segment_004.nc(salt),Uamp=file:tu_segment_004.nc(uamp),Uphase=file:tu_segment_004.nc(uphase),Vamp=file:tu_segment_004.nc(vamp),Vphase=file:tu_segment_004.nc(vphase),SSHamp=file:tz_segment_004.nc(zamp),SSHphase=file:tz_segment_004.nc(zphase)\"\n",
      "\n",
      "./xmlchange RUN_STARTDATE=2020-01-01 --non-local\n",
      "\n",
      "./xmlchange MOM6_MEMORY_MODE=dynamic_symmetric --non-local\n",
      "\n",
      "Case is ready to be built: /glade/u/home/akwong/croc_cases/NewFlorida\n"
     ]
    }
   ],
   "source": [
    "case.process_tides()"
   ]
  },
  {
   "cell_type": "code",
   "execution_count": 83,
   "metadata": {},
   "outputs": [
    {
     "name": "stdout",
     "output_type": "stream",
     "text": [
      "\u001b[01;96mRemoving parameters from user_nl_mom:\u001b[0m\n",
      "\n",
      "  Block: Tides\n",
      "\n",
      "remove_user_nl: searching for block '! Tides' in /glade/u/home/akwong/croc_cases/NewFlorida/user_nl_mom\n",
      "remove_user_nl: block_content collected: []\n",
      "remove_user_nl: logging block removal with block_content: []\n",
      "remove_user_nl: finished block removal for 'Tides'\n"
     ]
    }
   ],
   "source": [
    "case.remove_user_nl_block(\"Tides\", clear_config=True)"
   ]
  },
  {
   "cell_type": "code",
   "execution_count": 84,
   "metadata": {},
   "outputs": [
    {
     "name": "stdout",
     "output_type": "stream",
     "text": [
      "\u001b[01;96mRemoving parameters from user_nl_mom:\u001b[0m\n",
      "\n",
      "  Block: Tides\n",
      "\n",
      "remove_user_nl: searching for block '! Tides' in /glade/u/home/akwong/croc_cases/NewFlorida/user_nl_mom\n",
      "remove_user_nl: block_content collected: []\n",
      "remove_user_nl: logging block removal with block_content: []\n",
      "remove_user_nl: finished block removal for 'Tides'\n",
      "\u001b[01;96mAdding parameter changes to user_nl_mom:\u001b[0m\n",
      "\n",
      "  ! Tides\n",
      "  TIDES = True\n",
      "  TIDE_M2 = True\n",
      "  CD_TIDES = 0.0018\n",
      "  TIDE_USE_EQ_PHASE = True\n",
      "  TIDE_REF_DATE = 1850, 1, 1\n",
      "  OBC_TIDE_ADD_EQ_PHASE = True\n",
      "  OBC_TIDE_N_CONSTITUENTS = 1\n",
      "  OBC_TIDE_CONSTITUENTS = \"M2\"\n",
      "  OBC_TIDE_REF_DATE = 1850, 1, 1\n",
      "\n"
     ]
    }
   ],
   "source": [
    "case.append_user_nl_block(\n",
    "    \"Tides\",\n",
    "    [\n",
    "        (\"TIDES\", \"True\"),\n",
    "        (\"TIDE_M2\", \"True\"),\n",
    "        (\"CD_TIDES\", 0.0018),\n",
    "        (\"TIDE_USE_EQ_PHASE\", \"True\"),\n",
    "        (\"TIDE_REF_DATE\", \"1850, 1, 1\"),  # adjust date as needed\n",
    "        (\"OBC_TIDE_ADD_EQ_PHASE\", \"True\"),\n",
    "        (\"OBC_TIDE_N_CONSTITUENTS\", 1),\n",
    "        (\"OBC_TIDE_CONSTITUENTS\", '\"M2\"'),\n",
    "        (\"OBC_TIDE_REF_DATE\", \"1850, 1, 1\"),  # adjust date as needed\n",
    "    ],\n",
    "    tpxo_elevation_filepath=\"/glade/derecho/scratch/manishrv/ice/croc/tpxo/h_tpxo9.v1.nc\",\n",
    "    tpxo_velocity_filepath=\"/glade/derecho/scratch/manishrv/ice/croc/tpxo/u_tpxo9.v1.nc\"\n",
    ")"
   ]
  },
  {
   "cell_type": "code",
   "execution_count": 87,
   "metadata": {},
   "outputs": [
    {
     "name": "stdout",
     "output_type": "stream",
     "text": [
      "undo_user_nl: last_action = {'action': 'append', 'model': 'mom', 'params': [['TIDES', 'True'], ['TIDE_M2', 'True'], ['CD_TIDES', '0.0018'], ['TIDE_USE_EQ_PHASE', 'True'], ['TIDE_REF_DATE', '1850, 1, 1'], ['OBC_TIDE_ADD_EQ_PHASE', 'True'], ['OBC_TIDE_N_CONSTITUENTS', '1'], ['OBC_TIDE_CONSTITUENTS', '\"M2\"'], ['OBC_TIDE_REF_DATE', '1850, 1, 1']], 'forcing_config_before': {'date_range': ['2020-01-01 00:00:00', '2020-01-09 00:00:00'], 'boundaries': ['south', 'north', 'west', 'east'], 'tidal_constituents': None, 'tpxo_elevation_filepath': None, 'tpxo_velocity_filepath': None, 'product_name': 'GLORYS', 'function_name': 'get_glorys_data_from_rda', 'too_much_data': False, 'large_data_workflow_path': None}, 'forcing_config_after': {'date_range': ['2020-01-01 00:00:00', '2020-01-09 00:00:00'], 'boundaries': ['south', 'north', 'west', 'east'], 'tidal_constituents': ['M2'], 'tpxo_elevation_filepath': '/glade/derecho/scratch/manishrv/ice/croc/tpxo/h_tpxo9.v1.nc', 'tpxo_velocity_filepath': '/glade/derecho/scratch/manishrv/ice/croc/tpxo/u_tpxo9.v1.nc', 'product_name': 'GLORYS', 'function_name': 'get_glorys_data_from_rda', 'too_much_data': False, 'large_data_workflow_path': None}, 'block_comment': 'Tides'}\n",
      "undo_user_nl: moved last_action to redo stack.\n",
      "undo_user_nl: restoring forcing_config_before.\n",
      "undo_user_nl: removing block just appended to user_nl_mom\n",
      "undo_user_nl: updated README.case.\n"
     ]
    }
   ],
   "source": [
    "from visualCaseGen.custom_widget_types.case_tools import undo_user_nl, redo_user_nl\n",
    "\n",
    "# Undo the last user_nl change\n",
    "undo_user_nl(case.caseroot, do_exec=True, case_obj=case)"
   ]
  },
  {
   "cell_type": "code",
   "execution_count": 88,
   "metadata": {},
   "outputs": [
    {
     "name": "stdout",
     "output_type": "stream",
     "text": [
      "Redid user_nl action: append mom [['TIDES', 'True'], ['TIDE_M2', 'True'], ['CD_TIDES', '0.0018'], ['TIDE_USE_EQ_PHASE', 'True'], ['TIDE_REF_DATE', '1850, 1, 1'], ['OBC_TIDE_ADD_EQ_PHASE', 'True'], ['OBC_TIDE_N_CONSTITUENTS', '1'], ['OBC_TIDE_CONSTITUENTS', '\"M2\"'], ['OBC_TIDE_REF_DATE', '1850, 1, 1']]\n"
     ]
    }
   ],
   "source": [
    "# Redo the last undone user_nl change\n",
    "redo_user_nl(case.caseroot, do_exec=True, case_obj=case)"
   ]
  },
  {
   "cell_type": "markdown",
   "metadata": {},
   "source": [
    "# Section 4 (Optional): Custommize a case from history\n",
    "\n",
    "Use `CaseAssembler.assemble_case()` to interactively build a new Case by selecting desired Grid, Topo, VGrid objects, as well as a forcing configuration file from the global case history.\n",
    "\n",
    "This tool is completely decoupled from any current in-memory Case and does not require restoring or referencing an existing case. All selections are made from the global history files in your `caseroot` directory.\n",
    "\n",
    "After making your selections, a new Case will be created in the specified directories.\n",
    "You can optionally configure and process forcings immediately, or leave the case as-is for further manual customization."
   ]
  },
  {
   "cell_type": "code",
   "execution_count": 39,
   "metadata": {},
   "outputs": [
    {
     "data": {
      "application/vnd.jupyter.widget-view+json": {
       "model_id": "b07d8843ac5949c39a4bef7a1b938769",
       "version_major": 2,
       "version_minor": 0
      },
      "text/plain": [
       "Dropdown(description='Grid file:', layout=Layout(width='80%'), options=(\"[0] ocean_hgrid_Florida_9dd7ed.nc -- …"
      ]
     },
     "metadata": {},
     "output_type": "display_data"
    },
    {
     "data": {
      "application/vnd.jupyter.widget-view+json": {
       "model_id": "663e0e1c68c8440aaef46b56082d4319",
       "version_major": 2,
       "version_minor": 0
      },
      "text/plain": [
       "Dropdown(description='Topo file:', layout=Layout(width='80%'), options=(\"[0] ocean_topog_Florida_9dd7ed.nc -- …"
      ]
     },
     "metadata": {},
     "output_type": "display_data"
    },
    {
     "data": {
      "application/vnd.jupyter.widget-view+json": {
       "model_id": "747216ed11e74e23b245d26527afdbf8",
       "version_major": 2,
       "version_minor": 0
      },
      "text/plain": [
       "Dropdown(description='VGrid file:', layout=Layout(width='80%'), options=(\"[0] ocean_vgrid_Florida_9dd7ed.nc --…"
      ]
     },
     "metadata": {},
     "output_type": "display_data"
    },
    {
     "data": {
      "application/vnd.jupyter.widget-view+json": {
       "model_id": "872f4fba6d15490b962e8f5e46477b7b",
       "version_major": 2,
       "version_minor": 0
      },
      "text/plain": [
       "Dropdown(description='Select Case for Forcing Config:', layout=Layout(width='80%'), options=('TestCase35', 'Te…"
      ]
     },
     "metadata": {},
     "output_type": "display_data"
    },
    {
     "data": {
      "application/vnd.jupyter.widget-view+json": {
       "model_id": "3eed23e452fb41c881f2662e0a4f924a",
       "version_major": 2,
       "version_minor": 0
      },
      "text/plain": [
       "Output(layout=Layout(border_bottom='1px solid gray', border_left='1px solid gray', border_right='1px solid gra…"
      ]
     },
     "metadata": {},
     "output_type": "display_data"
    },
    {
     "data": {
      "application/vnd.jupyter.widget-view+json": {
       "model_id": "63d18fda1b6b446cbe98dedb499f7efe",
       "version_major": 2,
       "version_minor": 0
      },
      "text/plain": [
       "HBox(children=(Text(value='', description='Case name:', layout=Layout(width='50%'), placeholder='Enter new cas…"
      ]
     },
     "metadata": {},
     "output_type": "display_data"
    },
    {
     "data": {
      "application/vnd.jupyter.widget-view+json": {
       "model_id": "338ef1a383694601abfa171b93a5b5f8",
       "version_major": 2,
       "version_minor": 0
      },
      "text/plain": [
       "Output()"
      ]
     },
     "metadata": {},
     "output_type": "display_data"
    }
   ],
   "source": [
    "from CrocoDash.assemble_case import CaseAssembler\n",
    "\n",
    "CaseAssembler.assemble_case(\n",
    "    caseroot=\"/glade/u/home/akwong/croc_cases\",\n",
    "    inputdir=\"/glade/u/home/akwong/croc_cases\",\n",
    "    cesmroot=\"/glade/work/akwong/cesm_installs/CESM\"\n",
    ")"
   ]
  },
  {
   "cell_type": "markdown",
   "metadata": {},
   "source": [
    "# Section 5: Build and run the case\n",
    "\n",
    "After completing the previous steps, you are ready to build and run your CESM case. Begin by navigating to the case root directory specified during the case creation. Before proceeding, review the `user_nl_mom` file located in the case directory. This file contains MOM6 parameter settings that were automatically generated by CrocoDash. Carefully examine these parameters and make any necessary adjustments to fine-tune the model for your specific requirements. While CrocoDash aims to provide a solid starting point, further tuning and adjustments are typically necessary to improve the model for your use case.\n",
    "\n",
    "Once you have reviewed and modified the parameters as needed, you can build and execute the case using the following commands: \n",
    "```\n",
    "./case.build\n",
    "./case.submit\n",
    "```"
   ]
  },
  {
   "cell_type": "code",
   "execution_count": null,
   "metadata": {},
   "outputs": [],
   "source": []
  }
 ],
 "metadata": {
  "kernelspec": {
   "display_name": "Python [conda env:CrocoDash]",
   "language": "python",
   "name": "conda-env-CrocoDash-py"
  },
  "language_info": {
   "codemirror_mode": {
    "name": "ipython",
    "version": 3
   },
   "file_extension": ".py",
   "mimetype": "text/x-python",
   "name": "python",
   "nbconvert_exporter": "python",
   "pygments_lexer": "ipython3",
   "version": "3.11.13"
  }
 },
 "nbformat": 4,
 "nbformat_minor": 4
}
