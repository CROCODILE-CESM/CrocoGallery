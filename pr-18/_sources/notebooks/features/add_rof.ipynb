{
 "cells": [
  {
   "cell_type": "markdown",
   "id": "e2475af0",
   "metadata": {},
   "source": [
    "# Add data runoff from GLOFAS to the Run"
   ]
  },
  {
   "cell_type": "markdown",
   "id": "4ba48091",
   "metadata": {},
   "source": [
    "1. GLOFAS ships as part of the CESM\n",
    "2. Add DROF%GLOFAS to the compset\n",
    "3. Pass in the ESMF Mesh File to configure_forcings to get the mapping from the GLOFAS data to your domain (will take time and resources)\n",
    "4. See below for an example"
   ]
  },
  {
   "cell_type": "code",
   "execution_count": null,
   "id": "c1c50875",
   "metadata": {},
   "outputs": [],
   "source": [
    "from CrocoDash.case import Case\n",
    "\n",
    "case = Case(\n",
    "    cesmroot = cesmroot,\n",
    "    caseroot = caseroot,\n",
    "    inputdir = inputdir,\n",
    "    ocn_grid = grid,\n",
    "    ocn_vgrid = vgrid,\n",
    "    ocn_topo = topo,\n",
    "    project = 'NCGD0011',\n",
    "    override = True,\n",
    "    machine = \"derecho\",\n",
    "    compset = \"1850_DATM%JRA_SLND_SICE_MOM6%_DROF%GLOFAS_SGLC_SWAV\"\n",
    ")"
   ]
  },
  {
   "cell_type": "code",
   "execution_count": null,
   "id": "5164982a",
   "metadata": {},
   "outputs": [],
   "source": [
    "case.configure_forcings(\n",
    "    date_range = [\"2000-01-01 00:00:00\", \"2000-02-01 00:00:00\"],\n",
    "    runoff_esmf_mesh_filepath = \"/glade/campaign/cesm/cesmdata/cseg/inputdata/ocn/mom/croc/rof/glofas/dis24/GLOFAS_esmf_mesh_v4.nc\",\n",
    ")\n"
   ]
  },
  {
   "cell_type": "code",
   "execution_count": null,
   "id": "a89bf467",
   "metadata": {},
   "outputs": [],
   "source": [
    "case.process_forcings()"
   ]
  }
 ],
 "metadata": {
  "language_info": {
   "name": "python"
  }
 },
 "nbformat": 4,
 "nbformat_minor": 5
}
