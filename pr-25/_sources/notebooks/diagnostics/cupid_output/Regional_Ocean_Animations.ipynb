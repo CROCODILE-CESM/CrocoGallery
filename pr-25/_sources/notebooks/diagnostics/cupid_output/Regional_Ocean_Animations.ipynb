{
 "cells": [
  {
   "cell_type": "markdown",
   "id": "55cde6ea",
   "metadata": {
    "papermill": {
     "duration": 0.004591,
     "end_time": "2025-10-13T13:49:40.915801",
     "exception": false,
     "start_time": "2025-10-13T13:49:40.911210",
     "status": "completed"
    },
    "tags": []
   },
   "source": [
    "## Regional Ocean: Animations of Surface Fields"
   ]
  },
  {
   "cell_type": "code",
   "execution_count": 1,
   "id": "d4f4316f",
   "metadata": {
    "execution": {
     "iopub.execute_input": "2025-10-13T13:49:40.921291Z",
     "iopub.status.busy": "2025-10-13T13:49:40.921108Z",
     "iopub.status.idle": "2025-10-13T13:49:45.289851Z",
     "shell.execute_reply": "2025-10-13T13:49:45.289495Z"
    },
    "papermill": {
     "duration": 4.373433,
     "end_time": "2025-10-13T13:49:45.290758",
     "exception": false,
     "start_time": "2025-10-13T13:49:40.917325",
     "status": "completed"
    },
    "tags": [
     "hide-input"
    ]
   },
   "outputs": [],
   "source": [
    "%load_ext autoreload\n",
    "%autoreload 2\n",
    "import xarray as xr\n",
    "import os\n",
    "from IPython.display import HTML\n",
    "\n",
    "import regional_utils as utils"
   ]
  },
  {
   "cell_type": "code",
   "execution_count": 2,
   "id": "a624abbf",
   "metadata": {
    "execution": {
     "iopub.execute_input": "2025-10-13T13:49:45.297419Z",
     "iopub.status.busy": "2025-10-13T13:49:45.296825Z",
     "iopub.status.idle": "2025-10-13T13:49:45.345472Z",
     "shell.execute_reply": "2025-10-13T13:49:45.345030Z"
    },
    "papermill": {
     "duration": 0.051853,
     "end_time": "2025-10-13T13:49:45.346598",
     "exception": false,
     "start_time": "2025-10-13T13:49:45.294745",
     "status": "completed"
    },
    "tags": [
     "parameters",
     "hide-input"
    ]
   },
   "outputs": [],
   "source": [
    "case_name = \"\"  # \"/glade/campaign/cgd/oce/projects/CROCODILE/workshops/2025/Diagnostics/CESM_Output/\"\n",
    "CESM_output_dir = \"\"  # \"CROCODILE_tutorial_nwa12_MARBL\"\n",
    "\n",
    "# As regional domains vary so much in purpose, simulation length, and extent, we don't want to assume a minimum duration\n",
    "## Thus, we ignore start and end dates and simply reduce/output over the whole time frame for all of the examples given.\n",
    "start_date = None  # \"0001-01-01\"\n",
    "end_date = None  # \"0101-01-01\n",
    "\n",
    "save_figs = False\n",
    "fig_output_dir = None\n",
    "\n",
    "lc_kwargs = {}\n",
    "serial = False\n",
    "\n",
    "sfc_variables = []  # ['SSH', 'tos', 'sos']\n",
    "max_frames = None  # 60"
   ]
  },
  {
   "cell_type": "code",
   "execution_count": 3,
   "id": "14ca025f",
   "metadata": {
    "execution": {
     "iopub.execute_input": "2025-10-13T13:49:45.352235Z",
     "iopub.status.busy": "2025-10-13T13:49:45.351473Z",
     "iopub.status.idle": "2025-10-13T13:49:45.385236Z",
     "shell.execute_reply": "2025-10-13T13:49:45.384898Z"
    },
    "papermill": {
     "duration": 0.037757,
     "end_time": "2025-10-13T13:49:45.386140",
     "exception": false,
     "start_time": "2025-10-13T13:49:45.348383",
     "status": "completed"
    },
    "tags": [
     "injected-parameters"
    ]
   },
   "outputs": [],
   "source": [
    "# Parameters\n",
    "case_name = \"CROCODILE_tutorial_nwa12_MARBL\"\n",
    "CESM_output_dir = (\n",
    "    \"/glade/campaign/cgd/oce/projects/CROCODILE/workshops/2025/Diagnostics/CESM_Output/\"\n",
    ")\n",
    "start_date = \"\"\n",
    "end_date = \"\"\n",
    "save_figs = True\n",
    "fig_output_dir = None\n",
    "lc_kwargs = {\"threads_per_worker\": 1}\n",
    "serial = True\n",
    "sfc_variables = [\"SSH\", \"tos\", \"sos\"]\n",
    "max_frames = 60\n",
    "subset_kwargs = {}\n",
    "product = \"/glade/work/ajanney/crocodile_2025/CUPiD/examples/regional_ocean/computed_notebooks//ocn/Regional_Ocean_Animations.ipynb\"\n"
   ]
  },
  {
   "cell_type": "code",
   "execution_count": 4,
   "id": "5c1e74a5",
   "metadata": {
    "execution": {
     "iopub.execute_input": "2025-10-13T13:49:45.404047Z",
     "iopub.status.busy": "2025-10-13T13:49:45.403407Z",
     "iopub.status.idle": "2025-10-13T13:49:45.431429Z",
     "shell.execute_reply": "2025-10-13T13:49:45.431124Z"
    },
    "papermill": {
     "duration": 0.03194,
     "end_time": "2025-10-13T13:49:45.432232",
     "exception": false,
     "start_time": "2025-10-13T13:49:45.400292",
     "status": "completed"
    },
    "tags": [
     "hide-input"
    ]
   },
   "outputs": [
    {
     "name": "stdout",
     "output_type": "stream",
     "text": [
      "Output directory is: /glade/campaign/cgd/oce/projects/CROCODILE/workshops/2025/Diagnostics/CESM_Output//CROCODILE_tutorial_nwa12_MARBL/ocn/hist/\n"
     ]
    }
   ],
   "source": [
    "OUTDIR = f\"{CESM_output_dir}/{case_name}/ocn/hist/\"\n",
    "print(\"Output directory is:\", OUTDIR)"
   ]
  },
  {
   "cell_type": "markdown",
   "id": "3f18bc50",
   "metadata": {
    "papermill": {
     "duration": 0.001542,
     "end_time": "2025-10-13T13:49:45.435650",
     "exception": false,
     "start_time": "2025-10-13T13:49:45.434108",
     "status": "completed"
    },
    "tags": []
   },
   "source": [
    "## Open sfc_datas and Define Paths"
   ]
  },
  {
   "cell_type": "code",
   "execution_count": 5,
   "id": "dca031d0",
   "metadata": {
    "execution": {
     "iopub.execute_input": "2025-10-13T13:49:45.442106Z",
     "iopub.status.busy": "2025-10-13T13:49:45.441530Z",
     "iopub.status.idle": "2025-10-13T13:49:55.031678Z",
     "shell.execute_reply": "2025-10-13T13:49:55.031388Z"
    },
    "papermill": {
     "duration": 9.593983,
     "end_time": "2025-10-13T13:49:55.032282",
     "exception": false,
     "start_time": "2025-10-13T13:49:45.438299",
     "status": "completed"
    },
    "tags": [
     "hide-input"
    ]
   },
   "outputs": [
    {
     "name": "stdout",
     "output_type": "stream",
     "text": [
      "Image output directory is: /glade/derecho/scratch/ajanney/archive/CROCODILE_tutorial_nwa12_MARBL/ocn/cupid_images\n"
     ]
    }
   ],
   "source": [
    "case_output_dir = os.path.join(CESM_output_dir, case_name, \"ocn\", \"hist\")\n",
    "\n",
    "# Xarray time decoding things\n",
    "time_coder = xr.coders.CFDatetimeCoder(use_cftime=True)\n",
    "\n",
    "## Static data includes hgrid, vgrid, bathymetry, land/sea mask\n",
    "static_data = xr.open_mfdataset(\n",
    "    os.path.join(case_output_dir, f\"*static.nc\"),\n",
    "    decode_timedelta=True,\n",
    "    decode_times=time_coder,\n",
    ")\n",
    "\n",
    "## Surface Data\n",
    "sfc_data = xr.open_mfdataset(\n",
    "    os.path.join(case_output_dir, f\"*sfc*.nc\"),\n",
    "    decode_timedelta=True,\n",
    "    decode_times=time_coder,\n",
    ")\n",
    "\n",
    "## Monthly Domain Data\n",
    "# monthly_data = xr.open_mfdataset(\n",
    "#     os.path.join(case_output_dir, f\"*z*.nc\"),\n",
    "#     decode_timedelta=True,\n",
    "#     decode_times=time_coder,\n",
    "# )\n",
    "\n",
    "## Image/Gif Output Directory\n",
    "if fig_output_dir is None:\n",
    "    image_output_dir = os.path.join(\n",
    "        \"/glade/derecho/scratch/\",\n",
    "        os.environ[\"USER\"],\n",
    "        \"archive\",\n",
    "        case_name,\n",
    "        \"ocn\",\n",
    "        \"cupid_images\",\n",
    "    )\n",
    "else:\n",
    "    image_output_dir = os.path.join(fig_output_dir, case_name, \"ocn\", \"cupid_images\")\n",
    "if not os.path.exists(image_output_dir):\n",
    "    os.makedirs(image_output_dir)\n",
    "print(\"Image output directory is:\", image_output_dir)"
   ]
  },
  {
   "cell_type": "code",
   "execution_count": 6,
   "id": "6cd0bf30",
   "metadata": {
    "execution": {
     "iopub.execute_input": "2025-10-13T13:49:55.041126Z",
     "iopub.status.busy": "2025-10-13T13:49:55.040471Z",
     "iopub.status.idle": "2025-10-13T13:49:55.090522Z",
     "shell.execute_reply": "2025-10-13T13:49:55.090199Z"
    },
    "papermill": {
     "duration": 0.054467,
     "end_time": "2025-10-13T13:49:55.091262",
     "exception": false,
     "start_time": "2025-10-13T13:49:55.036795",
     "status": "completed"
    },
    "tags": []
   },
   "outputs": [
    {
     "name": "stdout",
     "output_type": "stream",
     "text": [
      "Selecting only the following surface variables: ['SSH', 'tos', 'sos']\n",
      "Surface Data Time Bounds: 1999-12-30 12:00:00 to 2000-11-28 12:00:00\n"
     ]
    }
   ],
   "source": [
    "## Select for only the variables we want to analyze\n",
    "if len(sfc_variables) > 0:\n",
    "    print(\"Selecting only the following surface variables:\", sfc_variables)\n",
    "    sfc_data = sfc_data[sfc_variables]\n",
    "\n",
    "## Apply time boundaries\n",
    "## if they are the right format\n",
    "if len(start_date.split(\"-\")) == 3 and len(end_date.split(\"-\")) == 3:\n",
    "    import cftime\n",
    "\n",
    "    calendar = sfc_data.time.encoding.get(\"calendar\", \"standard\")\n",
    "\n",
    "    calendar_map = {\n",
    "        \"gregorian\": cftime.DatetimeProlepticGregorian,\n",
    "        \"noleap\": cftime.DatetimeNoLeap,\n",
    "    }\n",
    "\n",
    "    CFTime = calendar_map.get(calendar, cftime.DatetimeGregorian)\n",
    "    y, m, d = [int(i) for i in start_date.split(\"-\")]\n",
    "    start_date_time = CFTime(y, m, d)\n",
    "    y, m, d = [int(i) for i in end_date.split(\"-\")]\n",
    "    end_date_time = CFTime(y, m, d)\n",
    "\n",
    "    print(\n",
    "        f\"Applying time range from start_date: {start_date_time} and end_date: {end_date_time}.\"\n",
    "    )\n",
    "\n",
    "    sfc_data = sfc_data.sel(time=slice(start_date_time, end_date_time))\n",
    "\n",
    "sfc_time_bounds = [\n",
    "    sfc_data[\"time\"].isel(time=0).compute().item(),\n",
    "    sfc_data[\"time\"].isel(time=-1).compute().item(),\n",
    "]\n",
    "\n",
    "print(f\"Surface Data Time Bounds: {sfc_time_bounds[0]} to {sfc_time_bounds[-1]}\")"
   ]
  },
  {
   "cell_type": "markdown",
   "id": "d77ec5a6",
   "metadata": {
    "papermill": {
     "duration": 0.002612,
     "end_time": "2025-10-13T13:49:55.097019",
     "exception": false,
     "start_time": "2025-10-13T13:49:55.094407",
     "status": "completed"
    },
    "tags": []
   },
   "source": [
    "# The GIF!"
   ]
  },
  {
   "cell_type": "code",
   "execution_count": 7,
   "id": "5ad8854f",
   "metadata": {
    "execution": {
     "iopub.execute_input": "2025-10-13T13:49:55.102925Z",
     "iopub.status.busy": "2025-10-13T13:49:55.102430Z",
     "iopub.status.idle": "2025-10-13T13:52:05.160706Z",
     "shell.execute_reply": "2025-10-13T13:52:05.160304Z"
    },
    "papermill": {
     "duration": 130.061446,
     "end_time": "2025-10-13T13:52:05.161708",
     "exception": false,
     "start_time": "2025-10-13T13:49:55.100262",
     "status": "completed"
    },
    "tags": []
   },
   "outputs": [],
   "source": [
    "if sfc_data[\"time\"].size > max_frames:\n",
    "    sfc_data = sfc_data.isel(time=slice(0, max_frames))\n",
    "\n",
    "for gif_variable in sfc_variables:\n",
    "\n",
    "    field = sfc_data[gif_variable]\n",
    "\n",
    "    coords = utils.chooseGeoCoords(field.dims)\n",
    "    areacello = utils.chooseAreacello(field.dims)\n",
    "\n",
    "    anim = utils.create2DFieldAnimation(\n",
    "        field,\n",
    "        latitude=static_data[coords[\"latitude\"]],\n",
    "        longitude=static_data[coords[\"longitude\"]],\n",
    "        iter_dim=\"time\",\n",
    "        interval=150,\n",
    "        save=save_figs,\n",
    "        save_path=image_output_dir,\n",
    "    )"
   ]
  },
  {
   "cell_type": "code",
   "execution_count": null,
   "id": "090363bd",
   "metadata": {
    "execution": {
     "iopub.execute_input": "2025-10-13T13:52:05.172449Z",
     "iopub.status.busy": "2025-10-13T13:52:05.171726Z",
     "iopub.status.idle": "2025-10-13T13:52:41.948544Z",
     "shell.execute_reply": "2025-10-13T13:52:41.948054Z"
    },
    "papermill": {
     "duration": 37.10411,
     "end_time": "2025-10-13T13:52:42.271367",
     "exception": false,
     "start_time": "2025-10-13T13:52:05.167257",
     "status": "completed"
    },
    "tags": []
   },
   "outputs": [],
   "source": [
    "from matplotlib import rcParams\n",
    "\n",
    "rcParams[\"animation.embed_limit\"] = (\n",
    "    200 * 1024 * 1024\n",
    ")  # constrains max size of HTML to be displayed in notebook\n",
    "\n",
    "HTML(anim.to_jshtml())"
   ]
  },
  {
   "cell_type": "markdown",
   "id": "171c8f9a",
   "metadata": {},
   "source": [
    "## Not rendered here!"
   ]
  },
  {
   "cell_type": "markdown",
   "id": "6c0271e6",
   "metadata": {},
   "source": []
  }
 ],
 "metadata": {
  "kernelspec": {
   "display_name": "cupid-analysis",
   "language": "python",
   "name": "cupid-analysis"
  },
  "language_info": {
   "codemirror_mode": {
    "name": "ipython",
    "version": 3
   },
   "file_extension": ".py",
   "mimetype": "text/x-python",
   "name": "python",
   "nbconvert_exporter": "python",
   "pygments_lexer": "ipython3",
   "version": "3.11.4"
  },
  "papermill": {
   "duration": 187.081767,
   "end_time": "2025-10-13T13:52:46.261009",
   "exception": null,
   "input_path": "/glade/derecho/scratch/ajanney/tmp/tmpc378nfu0.ipynb",
   "output_path": "/glade/work/ajanney/crocodile_2025/CUPiD/examples/regional_ocean/computed_notebooks/ocn/Regional_Ocean_Animations.ipynb",
   "parameters": {
    "CESM_output_dir": "/glade/campaign/cgd/oce/projects/CROCODILE/workshops/2025/Diagnostics/CESM_Output/",
    "case_name": "CROCODILE_tutorial_nwa12_MARBL",
    "end_date": "",
    "fig_output_dir": null,
    "lc_kwargs": {
     "threads_per_worker": 1
    },
    "max_frames": 60,
    "product": "/glade/work/ajanney/crocodile_2025/CUPiD/examples/regional_ocean/computed_notebooks//ocn/Regional_Ocean_Animations.ipynb",
    "save_figs": true,
    "serial": true,
    "sfc_variables": [
     "SSH",
     "tos",
     "sos"
    ],
    "start_date": "",
    "subset_kwargs": {}
   },
   "start_time": "2025-10-13T13:49:39.179242"
  }
 },
 "nbformat": 4,
 "nbformat_minor": 5
}
