{
 "cells": [
  {
   "cell_type": "markdown",
   "id": "33bc0498",
   "metadata": {},
   "source": [
    "# Run a coupled biogeochemistry (MARBL) & ocean (MOM6) model"
   ]
  },
  {
   "cell_type": "markdown",
   "id": "4ae303d7",
   "metadata": {},
   "source": [
    "1. MARBL is part of the CESM\n",
    "2. Add MARBL to the compset\n",
    "3. Add relevant information to configure_forcingss\n",
    "4. See below for an example.\n",
    "5. Adding runoff to a BGC example and getting river nutrients requires an offline mapping. Add the GLOFAS runoff mesh as well as the river nutrients (which is on the GLOFAS grid)"
   ]
  },
  {
   "cell_type": "code",
   "execution_count": null,
   "id": "576e5224",
   "metadata": {},
   "outputs": [],
   "source": [
    "from CrocoDash.case import Case\n",
    "case = Case(\n",
    "    cesmroot = cesmroot,\n",
    "    caseroot = caseroot,\n",
    "    inputdir = inputdir,\n",
    "    ocn_grid = grid,\n",
    "    ocn_vgrid = vgrid,\n",
    "    ocn_topo = topo,\n",
    "    project = 'NCGD0011',\n",
    "    override = True,\n",
    "    machine = \"derecho\",\n",
    "    compset = \"1850_DATM%JRA_SLND_SICE_MOM6%MARBL-BIO_SROF_SGLC_SWAV\"\n",
    ")"
   ]
  },
  {
   "cell_type": "code",
   "execution_count": null,
   "id": "b74d2989",
   "metadata": {},
   "outputs": [],
   "source": [
    "case.configure_forcings(\n",
    "    date_range = [\"2000-01-01 00:00:00\", \"2000-02-01 00:00:00\"],\n",
    "    data_input_path = \"\", # Path to CESM OUTPUT data\n",
    "    product_name = \"CESM_OUTPUT\",\n",
    "    marbl_ic_filepath = \"\" # Path to MARBL Global IC File\n",
    ")\n",
    "\n",
    "# For River Nutrients, which should be used when runoff is also on, add\n",
    "#    runoff_esmf_mesh_filepath = \"\", # For river nutrient mapping \n",
    "#    global_river_nutrients_filepath = \"\", # Path to global river nutrients mapping\n",
    " \n"
   ]
  },
  {
   "cell_type": "markdown",
   "id": "d62443d9",
   "metadata": {},
   "source": [
    "```{note}\n",
    "If you're working on **Derecho** or **Casper**, you can use the following paths:\n",
    "\n",
    "```{code-block} python\n",
    "data_input_path = \"/glade/campaign/collections/cmip/CMIP6/CESM-HR/FOSI_BGC/HR/g.e22.TL319_t13.G1850ECOIAF_JRA_HR.4p2z.001/ocn/proc/tseries/month_1\"\n",
    "product_name = \"CESM_OUTPUT\"\n",
    "runoff_esmf_mesh_filepath = \"/glade/campaign/cesm/cesmdata/cseg/inputdata/ocn/mom/croc/rof/glofas/dis24/GLOFAS_esmf_mesh_v4.nc\"\n",
    "global_river_nutrients_filepath = \"/glade/campaign/cesm/cesmdata/cseg/inputdata/ocn/mom/croc/rof/river_nutrients/river_nutrients.GNEWS_GNM.glofas.20250916.64bit.nc\"\n",
    "marbl_ic_filepath = \"/glade/campaign/collections/gdex/data/d651077/cesmdata/inputdata/ocn/mom/tx0.66v1/ecosys_jan_IC_omip_latlon_1x1_180W_c231221.nc\"\n",
    "```\n",
    "```"
   ]
  }
 ],
 "metadata": {
  "language_info": {
   "name": "python"
  }
 },
 "nbformat": 4,
 "nbformat_minor": 5
}
