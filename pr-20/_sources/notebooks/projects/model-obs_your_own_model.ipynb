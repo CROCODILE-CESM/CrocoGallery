{
 "cells": [
  {
   "cell_type": "markdown",
   "id": "0",
   "metadata": {},
   "source": [
    "# Model-Observation comparison: use your own MOM6 run\n",
    "\n",
    "This notebooks is a stripped down version of CrocoCamp's Tutorial 1 notebook, and you can use it as starting point for a model-obs comparison between your own CESM-MOM6 run and CrocoLake or WOD.\n",
    "\n",
    "#### Installing CrocoCamp\n",
    "\n",
    "If you don't have CrocoCamp set up yet, [here](https://github.com/CROCODILE-CESM/CrocoCamp/tree/2025-Crocodile-Workshop) are the instructions to install it on NCAR's HPC. If you have any issues or need to install it on a different machine, please contact <enrico.milanese@whoi.edu>."
   ]
  },
  {
   "cell_type": "markdown",
   "id": "c515ab2e-e2aa-4e62-a0c5-befdda216403",
   "metadata": {},
   "source": [
    "## CrocoLake observation sequence files\n",
    "\n",
    "If you want to use CrocoLake, generate your own observation files by adapting the code below (NB: some fields are intentionally left blank and the cell returns errors if you do not change it as you need)."
   ]
  },
  {
   "cell_type": "code",
   "execution_count": null,
   "id": "844d8371-879b-48ae-9a6c-955151253caf",
   "metadata": {},
   "outputs": [],
   "source": [
    "crocolake_path = '/glade/campaign/cgd/oce/projects/CROCODILE/workshops/2025/CrocoCamp/CrocoLakePHY'\n",
    "\n",
    "import datetime\n",
    "import os\n",
    "from convert_crocolake_obs import ObsSequence\n",
    "basename = \"myCL_obs_seq_\"\n",
    "outdir = \"$WORK/crocodile_2025/CrocoCamp/my_project/in_CL/\"\n",
    "basename = os.path.expandvars(outdir+basename)\n",
    "outdir = os.path.expandvars(outdir)\n",
    "if not os.path.exists(outdir):\n",
    "    os.makedirs(outdir, exist_ok=True)\n",
    "\n",
    "# define horizontal region\n",
    "LAT0 = 5\n",
    "LAT1 = 60\n",
    "LON0 = -100\n",
    "LON1 = -30\n",
    "\n",
    "# define depth in dbar\n",
    "PRES0 = \n",
    "PRES1 =\n",
    "\n",
    "# define variables to import from CrocoLake\n",
    "selected_variables = [\n",
    "    \"DB_NAME\",  # ARGO, GLODAP, SprayGliders, OleanderXBT, Saildrones\n",
    "    \"JULD\", # this contains timestamp\n",
    "    \"LATITUDE\",\n",
    "    \"LONGITUDE\",\n",
    "    \"PRES\",\n",
    "    \"TEMP\",\n",
    "    \"PRES_QC\",\n",
    "    \"TEMP_QC\",\n",
    "    \"PRES_ERROR\",\n",
    "    \"TEMP_ERROR\",\n",
    "    \"PSAL\",\n",
    "    \"PSAL_QC\",\n",
    "    \"PSAL_ERROR\"\n",
    "]\n",
    "\n",
    "# month and year are constant in out case\n",
    "year0 = \n",
    "month0 = \n",
    "N =\n",
    "\n",
    "# we loop to generate one file per day\n",
    "for j in range(N):\n",
    "\n",
    "    # set date range\n",
    "    day0 = 1+j\n",
    "    day1 = day0+1\n",
    "    date0 = datetime.datetime(year0, month0, day0, 0, 0, 0)\n",
    "    date1 = datetime.datetime(year0, month0, day1, 0, 0, 0)\n",
    "    print(f\"Converting obs between {date0} and {date1}\")\n",
    "\n",
    "    # this defines AND filters, i.e. we want to load each observation that has latitude within the given range AND longitude within the given range, etc.\n",
    "    # to exclude NaNs, impose a range to a variable\n",
    "    and_filters = (\n",
    "        (\"LATITUDE\",'>',LAT0),  (\"LATITUDE\",'<',LAT1),\n",
    "        (\"LONGITUDE\",'>',LON0), (\"LONGITUDE\",'<',LON1),\n",
    "        (\"PRES\",'>',PRES0), (\"PRES\",'<',PRES1),\n",
    "        (\"JULD\",\">\",date0), (\"JULD\",\"<\",date1)\n",
    "    )\n",
    "\n",
    "    # this adds OR conditions to the and_filters, i.e. we want to load all observations that statisfy the AND conditions above, AND that have finite salinity OR temperature values\n",
    "    db_filters = [\n",
    "        list(and_filters) + [(\"PSAL\", \">\", -1e30), (\"PSAL\", \"<\", 1e30)],\n",
    "        list(and_filters) + [(\"TEMP\", \">\", -1e30), (\"TEMP\", \"<\", 1e30)],\n",
    "    ]\n",
    "\n",
    "    # generate output filename\n",
    "    obs_seq_out = basename + f\".{year0}{month0:02d}{day0:02d}.out\"\n",
    "\n",
    "    # generate obs_seq.in file\n",
    "    obsSeq = ObsSequence(\n",
    "        crocolake_path,\n",
    "        selected_variables,\n",
    "        db_filters,\n",
    "        obs_seq_out=obs_seq_out,\n",
    "        loose=True\n",
    "    )\n",
    "    obsSeq.write_obs_seq()"
   ]
  },
  {
   "cell_type": "markdown",
   "id": "9d132c2e-d6b7-49c0-bfe9-7f2f461f26b7",
   "metadata": {},
   "source": [
    "## The configuration file\n",
    "\n",
    "Remember to generate a new config file for your workflow:"
   ]
  },
  {
   "cell_type": "code",
   "execution_count": null,
   "id": "3a8a90e9-ae9c-4472-8cc7-8d252d65c87c",
   "metadata": {},
   "outputs": [],
   "source": [
    "!cp ../configs/config_template.yaml ../configs/config_my_workflow.yaml"
   ]
  },
  {
   "cell_type": "markdown",
   "id": "ca83c458-db55-466f-be53-fe4e5a652c1d",
   "metadata": {},
   "source": [
    "and to customize the paths as needed.\n",
    "\n",
    "## Running the workflow\n",
    "\n",
    "Generate and run the workflow from your config file. Remember that you need to be running this notebook on Casper, as the configuration file points to DART's installation on that machine."
   ]
  },
  {
   "cell_type": "code",
   "execution_count": null,
   "id": "5e3e260e-2e12-428f-9d61-7e714b0df082",
   "metadata": {},
   "outputs": [],
   "source": [
    "from crococamp.workflows import WorkflowModelObs\n",
    "\n",
    "# Create and run workflow to interpolate MOM6 model onto World Ocean Database obs space\n",
    "my_workflow = WorkflowModelObs.from_config_file('../configs/config_my_workflow.yaml')\n",
    "my_workflow.run() #use flag clear_output=True if you want to re-run it and automatically clean all previous output"
   ]
  },
  {
   "cell_type": "markdown",
   "id": "5d779b7e-5283-4f73-b3b9-3ed55f151ef0",
   "metadata": {},
   "source": [
    "## Displaying the interactive map\n",
    "\n",
    "Load and explore the data using pandas or dask:"
   ]
  },
  {
   "cell_type": "code",
   "execution_count": null,
   "id": "5fec2851-e4a6-4906-8c21-30e32ab8b448",
   "metadata": {},
   "outputs": [],
   "source": [
    "good_model_obs_df = workflow_float.get_good_model_obs_df(compute=True)  # compute=True triggers the compute of the dask dataframe, returning a pandas dataframe with data loaded in memory\n",
    "good_model_obs_df.head()                                                # displays first 5 rows in the dataframe"
   ]
  },
  {
   "cell_type": "markdown",
   "id": "cca9ce87-3c56-4e19-ac78-42ff4e838964",
   "metadata": {},
   "source": [
    "Load the interactive map:"
   ]
  },
  {
   "cell_type": "code",
   "execution_count": null,
   "id": "92214808-86f4-41ac-837a-973ebc03ce77",
   "metadata": {},
   "outputs": [],
   "source": [
    "from crococamp.viz import InteractiveWidgetMap\n",
    "# Create an interactive map widget to visualize model-observation comparisons\n",
    "# The widget provides controls for selecting variables, observation types, and time ranges\n",
    "widget = InteractiveWidgetMap(dgood_model_obs_f)\n",
    "widget.setup()"
   ]
  },
  {
   "cell_type": "code",
   "execution_count": null,
   "id": "3",
   "metadata": {},
   "outputs": [],
   "source": []
  }
 ],
 "metadata": {
  "language_info": {
   "codemirror_mode": {
    "name": "ipython",
    "version": 3
   },
   "file_extension": ".py",
   "mimetype": "text/x-python",
   "name": "python",
   "nbconvert_exporter": "python",
   "pygments_lexer": "ipython3",
   "version": "3.12.0"
  }
 },
 "nbformat": 4,
 "nbformat_minor": 5
}
